{
 "cells": [
  {
   "cell_type": "code",
   "execution_count": 2,
   "metadata": {},
   "outputs": [],
   "source": [
    "import astropy.coordinates "
   ]
  },
  {
   "cell_type": "code",
   "execution_count": 20,
   "metadata": {},
   "outputs": [],
   "source": [
    "import ugradio\n",
    "import astropy.units as u\n",
    "from astropy.coordinates import SkyCoord, AltAz, EarthLocation\n",
    "from astropy.coordinates import Galactic\n",
    "import logging\n",
    "import time\n",
    "import numpy as np\n",
    "import math\n",
    "from ugradio import leo\n",
    "import astropy as astropy\n",
    "from astropy.coordinates import SkyCoord                         # High-level coordinates\n",
    "from astropy.coordinates import ICRS, Galactic, FK4, FK5         # Low-level frames\n",
    "from astropy.coordinates import Angle, Latitude, Longitude       # Angles\n",
    "from astropy.time import Time\n"
   ]
  },
  {
   "cell_type": "code",
   "execution_count": 21,
   "metadata": {},
   "outputs": [
    {
     "name": "stdout",
     "output_type": "stream",
     "text": [
      "Altitude: 27.153068619678812 deg\n",
      "Azimuth: 330.2479675025069 deg\n"
     ]
    }
   ],
   "source": [
    "\n",
    "# Galactic coordinates (l, b) of the object\n",
    "galactic_coords = SkyCoord(l=120*u.deg, b=0*u.deg, frame='galactic')\n",
    "\n",
    "# Observing location (latitude, longitude, elevation)\n",
    "observing_location = EarthLocation(lat=leo.lat*u.deg, lon=-leo.lon*u.deg, height=leo.alt*u.m)\n",
    "\n",
    "# Time of observation\n",
    "obs_time = astropy.time.Time(time.time(), format='unix')\n",
    "\n",
    "# Convert to AltAz frame\n",
    "altaz_coords = galactic_coords.transform_to(AltAz(obstime=obs_time, location=observing_location))\n",
    "\n",
    "# Extract altitude and azimuth\n",
    "altitude = altaz_coords.alt\n",
    "azimuth = altaz_coords.az\n",
    "\n",
    "print(f\"Altitude: {altitude}\")\n",
    "print(f\"Azimuth: {azimuth}\")"
   ]
  },
  {
   "cell_type": "code",
   "execution_count": 22,
   "metadata": {},
   "outputs": [],
   "source": [
    "def leusch_gal_to_AltAz(L,B):\n",
    "\n",
    "    # set galactic coordinates \n",
    "    galactic_coords = SkyCoord(l = L*u.deg, b = B*u.deg, frame = 'galactic') \n",
    "\n",
    "    # set Leuschner observation location (latitude, longtidue, elevation)\n",
    "    Leusch_coords = EarthLocation(lat = leo.lat*u.deg, lon = -leo.lon*u.deg, height = leo.alt*u.m)\n",
    "\n",
    "    # set observation time in UNIX \n",
    "    observation_time = astropy.time.Time(time.time(), format = 'unix')\n",
    "\n",
    "    # convert to AltAz using astropy transformation \n",
    "    alt_az_coords = galactic_coords.transform_to(AltAz(obstime = observation_time, location = Leusch_coords))\n",
    "\n",
    "    # get ra, dec\n",
    "    \n",
    "    # extract altitude and azimuth from the coordinates \n",
    "    alt_point = alt_az_coords.alt\n",
    "    az_point = alt_az_coords.az \n",
    "\n",
    "    AltAz_point = [alt_point, az_point]\n",
    "\n",
    "    return AltAz_point"
   ]
  },
  {
   "cell_type": "code",
   "execution_count": 23,
   "metadata": {},
   "outputs": [],
   "source": [
    "L_array = np.arange(60, 182, 2)\n",
    "B_array = np.arange(20, 62, 2)"
   ]
  },
  {
   "cell_type": "code",
   "execution_count": 24,
   "metadata": {},
   "outputs": [
    {
     "name": "stdout",
     "output_type": "stream",
     "text": [
      "L Array:[ 60  62  64  66  68  70  72  74  76  78  80  82  84  86  88  90  92  94\n",
      "  96  98 100 102 104 106 108 110 112 114 116 118 120 122 124 126 128 130\n",
      " 132 134 136 138 140 142 144 146 148 150 152 154 156 158 160 162 164 166\n",
      " 168 170 172 174 176 178 180]\n",
      "L Length:61\n"
     ]
    }
   ],
   "source": [
    "print('L Array:' + str(L_array))\n",
    "print('L Length:' + str(len(L_array)))"
   ]
  },
  {
   "cell_type": "code",
   "execution_count": 25,
   "metadata": {},
   "outputs": [
    {
     "name": "stdout",
     "output_type": "stream",
     "text": [
      "B Array:[20 22 24 26 28 30 32 34 36 38 40 42 44 46 48 50 52 54 56 58 60]\n",
      "B Length:21\n"
     ]
    }
   ],
   "source": [
    "print('B Array:' + str(B_array))\n",
    "print('B Length:' + str(len(B_array)))"
   ]
  },
  {
   "cell_type": "code",
   "execution_count": 26,
   "metadata": {},
   "outputs": [
    {
     "data": {
      "text/plain": [
       "1281"
      ]
     },
     "execution_count": 26,
     "metadata": {},
     "output_type": "execute_result"
    }
   ],
   "source": [
    "21*61"
   ]
  },
  {
   "cell_type": "code",
   "execution_count": 36,
   "metadata": {},
   "outputs": [
    {
     "data": {
      "text/plain": [
       "array([[[ 60,  20],\n",
       "        [ 62,  20],\n",
       "        [ 64,  20],\n",
       "        ...,\n",
       "        [ 96,  20],\n",
       "        [ 98,  20],\n",
       "        [100,  20]],\n",
       "\n",
       "       [[102,  20],\n",
       "        [104,  20],\n",
       "        [106,  20],\n",
       "        ...,\n",
       "        [138,  20],\n",
       "        [140,  20],\n",
       "        [142,  20]],\n",
       "\n",
       "       [[144,  20],\n",
       "        [146,  20],\n",
       "        [148,  20],\n",
       "        ...,\n",
       "        [180,  20],\n",
       "        [ 60,  22],\n",
       "        [ 62,  22]],\n",
       "\n",
       "       ...,\n",
       "\n",
       "       [[178,  58],\n",
       "        [180,  58],\n",
       "        [ 60,  60],\n",
       "        ...,\n",
       "        [ 92,  60],\n",
       "        [ 94,  60],\n",
       "        [ 96,  60]],\n",
       "\n",
       "       [[ 98,  60],\n",
       "        [100,  60],\n",
       "        [102,  60],\n",
       "        ...,\n",
       "        [134,  60],\n",
       "        [136,  60],\n",
       "        [138,  60]],\n",
       "\n",
       "       [[140,  60],\n",
       "        [142,  60],\n",
       "        [144,  60],\n",
       "        ...,\n",
       "        [176,  60],\n",
       "        [178,  60],\n",
       "        [180,  60]]])"
      ]
     },
     "execution_count": 36,
     "metadata": {},
     "output_type": "execute_result"
    }
   ],
   "source": [
    "# Create meshgrid\n",
    "X, Y = np.meshgrid(L_array, B_array)\n",
    "\n",
    "# Create the 2D array by combining X and Y\n",
    "big_grid = np.column_stack((X.ravel(), Y.ravel()))\n",
    "\n",
    "# If you want to reshape it to a 2D array\n",
    "big_grid_reshaped = big_grid.reshape(len(L_array), len(B_array), 2)\n",
    "\n",
    "big_grid_reshaped"
   ]
  },
  {
   "cell_type": "code",
   "execution_count": 37,
   "metadata": {},
   "outputs": [
    {
     "data": {
      "text/plain": [
       "(array([[ 60,  62,  64, ..., 176, 178, 180],\n",
       "        [ 60,  62,  64, ..., 176, 178, 180],\n",
       "        [ 60,  62,  64, ..., 176, 178, 180],\n",
       "        ...,\n",
       "        [ 60,  62,  64, ..., 176, 178, 180],\n",
       "        [ 60,  62,  64, ..., 176, 178, 180],\n",
       "        [ 60,  62,  64, ..., 176, 178, 180]]),\n",
       " array([[20, 20, 20, ..., 20, 20, 20],\n",
       "        [22, 22, 22, ..., 22, 22, 22],\n",
       "        [24, 24, 24, ..., 24, 24, 24],\n",
       "        ...,\n",
       "        [56, 56, 56, ..., 56, 56, 56],\n",
       "        [58, 58, 58, ..., 58, 58, 58],\n",
       "        [60, 60, 60, ..., 60, 60, 60]]))"
      ]
     },
     "execution_count": 37,
     "metadata": {},
     "output_type": "execute_result"
    }
   ],
   "source": [
    "X, Y"
   ]
  },
  {
   "cell_type": "code",
   "execution_count": 38,
   "metadata": {},
   "outputs": [],
   "source": [
    "import pandas as pd"
   ]
  },
  {
   "cell_type": "code",
   "execution_count": 39,
   "metadata": {},
   "outputs": [
    {
     "data": {
      "text/plain": [
       "(61, 21, 2)"
      ]
     },
     "execution_count": 39,
     "metadata": {},
     "output_type": "execute_result"
    }
   ],
   "source": [
    "big_grid_reshaped.shape"
   ]
  },
  {
   "cell_type": "code",
   "execution_count": 40,
   "metadata": {},
   "outputs": [],
   "source": [
    "import matplotlib.pyplot as plt"
   ]
  },
  {
   "cell_type": "code",
   "execution_count": 43,
   "metadata": {},
   "outputs": [
    {
     "name": "stdout",
     "output_type": "stream",
     "text": [
      "(60, 20) (62, 20) (64, 20) (66, 20) (68, 20) (70, 20) (72, 20) (74, 20) (76, 20) (78, 20) (80, 20) (82, 20) (84, 20) (86, 20) (88, 20) (90, 20) (92, 20) (94, 20) (96, 20) (98, 20) (100, 20) \n",
      "(102, 20) (104, 20) (106, 20) (108, 20) (110, 20) (112, 20) (114, 20) (116, 20) (118, 20) (120, 20) (122, 20) (124, 20) (126, 20) (128, 20) (130, 20) (132, 20) (134, 20) (136, 20) (138, 20) (140, 20) (142, 20) \n",
      "(144, 20) (146, 20) (148, 20) (150, 20) (152, 20) (154, 20) (156, 20) (158, 20) (160, 20) (162, 20) (164, 20) (166, 20) (168, 20) (170, 20) (172, 20) (174, 20) (176, 20) (178, 20) (180, 20) (60, 22) (62, 22) \n",
      "(64, 22) (66, 22) (68, 22) (70, 22) (72, 22) (74, 22) (76, 22) (78, 22) (80, 22) (82, 22) (84, 22) (86, 22) (88, 22) (90, 22) (92, 22) (94, 22) (96, 22) (98, 22) (100, 22) (102, 22) (104, 22) \n",
      "(106, 22) (108, 22) (110, 22) (112, 22) (114, 22) (116, 22) (118, 22) (120, 22) (122, 22) (124, 22) (126, 22) (128, 22) (130, 22) (132, 22) (134, 22) (136, 22) (138, 22) (140, 22) (142, 22) (144, 22) (146, 22) \n",
      "(148, 22) (150, 22) (152, 22) (154, 22) (156, 22) (158, 22) (160, 22) (162, 22) (164, 22) (166, 22) (168, 22) (170, 22) (172, 22) (174, 22) (176, 22) (178, 22) (180, 22) (60, 24) (62, 24) (64, 24) (66, 24) \n",
      "(68, 24) (70, 24) (72, 24) (74, 24) (76, 24) (78, 24) (80, 24) (82, 24) (84, 24) (86, 24) (88, 24) (90, 24) (92, 24) (94, 24) (96, 24) (98, 24) (100, 24) (102, 24) (104, 24) (106, 24) (108, 24) \n",
      "(110, 24) (112, 24) (114, 24) (116, 24) (118, 24) (120, 24) (122, 24) (124, 24) (126, 24) (128, 24) (130, 24) (132, 24) (134, 24) (136, 24) (138, 24) (140, 24) (142, 24) (144, 24) (146, 24) (148, 24) (150, 24) \n",
      "(152, 24) (154, 24) (156, 24) (158, 24) (160, 24) (162, 24) (164, 24) (166, 24) (168, 24) (170, 24) (172, 24) (174, 24) (176, 24) (178, 24) (180, 24) (60, 26) (62, 26) (64, 26) (66, 26) (68, 26) (70, 26) \n",
      "(72, 26) (74, 26) (76, 26) (78, 26) (80, 26) (82, 26) (84, 26) (86, 26) (88, 26) (90, 26) (92, 26) (94, 26) (96, 26) (98, 26) (100, 26) (102, 26) (104, 26) (106, 26) (108, 26) (110, 26) (112, 26) \n",
      "(114, 26) (116, 26) (118, 26) (120, 26) (122, 26) (124, 26) (126, 26) (128, 26) (130, 26) (132, 26) (134, 26) (136, 26) (138, 26) (140, 26) (142, 26) (144, 26) (146, 26) (148, 26) (150, 26) (152, 26) (154, 26) \n",
      "(156, 26) (158, 26) (160, 26) (162, 26) (164, 26) (166, 26) (168, 26) (170, 26) (172, 26) (174, 26) (176, 26) (178, 26) (180, 26) (60, 28) (62, 28) (64, 28) (66, 28) (68, 28) (70, 28) (72, 28) (74, 28) \n",
      "(76, 28) (78, 28) (80, 28) (82, 28) (84, 28) (86, 28) (88, 28) (90, 28) (92, 28) (94, 28) (96, 28) (98, 28) (100, 28) (102, 28) (104, 28) (106, 28) (108, 28) (110, 28) (112, 28) (114, 28) (116, 28) \n",
      "(118, 28) (120, 28) (122, 28) (124, 28) (126, 28) (128, 28) (130, 28) (132, 28) (134, 28) (136, 28) (138, 28) (140, 28) (142, 28) (144, 28) (146, 28) (148, 28) (150, 28) (152, 28) (154, 28) (156, 28) (158, 28) \n",
      "(160, 28) (162, 28) (164, 28) (166, 28) (168, 28) (170, 28) (172, 28) (174, 28) (176, 28) (178, 28) (180, 28) (60, 30) (62, 30) (64, 30) (66, 30) (68, 30) (70, 30) (72, 30) (74, 30) (76, 30) (78, 30) \n",
      "(80, 30) (82, 30) (84, 30) (86, 30) (88, 30) (90, 30) (92, 30) (94, 30) (96, 30) (98, 30) (100, 30) (102, 30) (104, 30) (106, 30) (108, 30) (110, 30) (112, 30) (114, 30) (116, 30) (118, 30) (120, 30) \n",
      "(122, 30) (124, 30) (126, 30) (128, 30) (130, 30) (132, 30) (134, 30) (136, 30) (138, 30) (140, 30) (142, 30) (144, 30) (146, 30) (148, 30) (150, 30) (152, 30) (154, 30) (156, 30) (158, 30) (160, 30) (162, 30) \n",
      "(164, 30) (166, 30) (168, 30) (170, 30) (172, 30) (174, 30) (176, 30) (178, 30) (180, 30) (60, 32) (62, 32) (64, 32) (66, 32) (68, 32) (70, 32) (72, 32) (74, 32) (76, 32) (78, 32) (80, 32) (82, 32) \n",
      "(84, 32) (86, 32) (88, 32) (90, 32) (92, 32) (94, 32) (96, 32) (98, 32) (100, 32) (102, 32) (104, 32) (106, 32) (108, 32) (110, 32) (112, 32) (114, 32) (116, 32) (118, 32) (120, 32) (122, 32) (124, 32) \n",
      "(126, 32) (128, 32) (130, 32) (132, 32) (134, 32) (136, 32) (138, 32) (140, 32) (142, 32) (144, 32) (146, 32) (148, 32) (150, 32) (152, 32) (154, 32) (156, 32) (158, 32) (160, 32) (162, 32) (164, 32) (166, 32) \n",
      "(168, 32) (170, 32) (172, 32) (174, 32) (176, 32) (178, 32) (180, 32) (60, 34) (62, 34) (64, 34) (66, 34) (68, 34) (70, 34) (72, 34) (74, 34) (76, 34) (78, 34) (80, 34) (82, 34) (84, 34) (86, 34) \n",
      "(88, 34) (90, 34) (92, 34) (94, 34) (96, 34) (98, 34) (100, 34) (102, 34) (104, 34) (106, 34) (108, 34) (110, 34) (112, 34) (114, 34) (116, 34) (118, 34) (120, 34) (122, 34) (124, 34) (126, 34) (128, 34) \n",
      "(130, 34) (132, 34) (134, 34) (136, 34) (138, 34) (140, 34) (142, 34) (144, 34) (146, 34) (148, 34) (150, 34) (152, 34) (154, 34) (156, 34) (158, 34) (160, 34) (162, 34) (164, 34) (166, 34) (168, 34) (170, 34) \n",
      "(172, 34) (174, 34) (176, 34) (178, 34) (180, 34) (60, 36) (62, 36) (64, 36) (66, 36) (68, 36) (70, 36) (72, 36) (74, 36) (76, 36) (78, 36) (80, 36) (82, 36) (84, 36) (86, 36) (88, 36) (90, 36) \n",
      "(92, 36) (94, 36) (96, 36) (98, 36) (100, 36) (102, 36) (104, 36) (106, 36) (108, 36) (110, 36) (112, 36) (114, 36) (116, 36) (118, 36) (120, 36) (122, 36) (124, 36) (126, 36) (128, 36) (130, 36) (132, 36) \n",
      "(134, 36) (136, 36) (138, 36) (140, 36) (142, 36) (144, 36) (146, 36) (148, 36) (150, 36) (152, 36) (154, 36) (156, 36) (158, 36) (160, 36) (162, 36) (164, 36) (166, 36) (168, 36) (170, 36) (172, 36) (174, 36) \n",
      "(176, 36) (178, 36) (180, 36) (60, 38) (62, 38) (64, 38) (66, 38) (68, 38) (70, 38) (72, 38) (74, 38) (76, 38) (78, 38) (80, 38) (82, 38) (84, 38) (86, 38) (88, 38) (90, 38) (92, 38) (94, 38) \n",
      "(96, 38) (98, 38) (100, 38) (102, 38) (104, 38) (106, 38) (108, 38) (110, 38) (112, 38) (114, 38) (116, 38) (118, 38) (120, 38) (122, 38) (124, 38) (126, 38) (128, 38) (130, 38) (132, 38) (134, 38) (136, 38) \n",
      "(138, 38) (140, 38) (142, 38) (144, 38) (146, 38) (148, 38) (150, 38) (152, 38) (154, 38) (156, 38) (158, 38) (160, 38) (162, 38) (164, 38) (166, 38) (168, 38) (170, 38) (172, 38) (174, 38) (176, 38) (178, 38) \n",
      "(180, 38) (60, 40) (62, 40) (64, 40) (66, 40) (68, 40) (70, 40) (72, 40) (74, 40) (76, 40) (78, 40) (80, 40) (82, 40) (84, 40) (86, 40) (88, 40) (90, 40) (92, 40) (94, 40) (96, 40) (98, 40) \n",
      "(100, 40) (102, 40) (104, 40) (106, 40) (108, 40) (110, 40) (112, 40) (114, 40) (116, 40) (118, 40) (120, 40) (122, 40) (124, 40) (126, 40) (128, 40) (130, 40) (132, 40) (134, 40) (136, 40) (138, 40) (140, 40) \n",
      "(142, 40) (144, 40) (146, 40) (148, 40) (150, 40) (152, 40) (154, 40) (156, 40) (158, 40) (160, 40) (162, 40) (164, 40) (166, 40) (168, 40) (170, 40) (172, 40) (174, 40) (176, 40) (178, 40) (180, 40) (60, 42) \n",
      "(62, 42) (64, 42) (66, 42) (68, 42) (70, 42) (72, 42) (74, 42) (76, 42) (78, 42) (80, 42) (82, 42) (84, 42) (86, 42) (88, 42) (90, 42) (92, 42) (94, 42) (96, 42) (98, 42) (100, 42) (102, 42) \n",
      "(104, 42) (106, 42) (108, 42) (110, 42) (112, 42) (114, 42) (116, 42) (118, 42) (120, 42) (122, 42) (124, 42) (126, 42) (128, 42) (130, 42) (132, 42) (134, 42) (136, 42) (138, 42) (140, 42) (142, 42) (144, 42) \n",
      "(146, 42) (148, 42) (150, 42) (152, 42) (154, 42) (156, 42) (158, 42) (160, 42) (162, 42) (164, 42) (166, 42) (168, 42) (170, 42) (172, 42) (174, 42) (176, 42) (178, 42) (180, 42) (60, 44) (62, 44) (64, 44) \n",
      "(66, 44) (68, 44) (70, 44) (72, 44) (74, 44) (76, 44) (78, 44) (80, 44) (82, 44) (84, 44) (86, 44) (88, 44) (90, 44) (92, 44) (94, 44) (96, 44) (98, 44) (100, 44) (102, 44) (104, 44) (106, 44) \n",
      "(108, 44) (110, 44) (112, 44) (114, 44) (116, 44) (118, 44) (120, 44) (122, 44) (124, 44) (126, 44) (128, 44) (130, 44) (132, 44) (134, 44) (136, 44) (138, 44) (140, 44) (142, 44) (144, 44) (146, 44) (148, 44) \n",
      "(150, 44) (152, 44) (154, 44) (156, 44) (158, 44) (160, 44) (162, 44) (164, 44) (166, 44) (168, 44) (170, 44) (172, 44) (174, 44) (176, 44) (178, 44) (180, 44) (60, 46) (62, 46) (64, 46) (66, 46) (68, 46) \n",
      "(70, 46) (72, 46) (74, 46) (76, 46) (78, 46) (80, 46) (82, 46) (84, 46) (86, 46) (88, 46) (90, 46) (92, 46) (94, 46) (96, 46) (98, 46) (100, 46) (102, 46) (104, 46) (106, 46) (108, 46) (110, 46) \n",
      "(112, 46) (114, 46) (116, 46) (118, 46) (120, 46) (122, 46) (124, 46) (126, 46) (128, 46) (130, 46) (132, 46) (134, 46) (136, 46) (138, 46) (140, 46) (142, 46) (144, 46) (146, 46) (148, 46) (150, 46) (152, 46) \n",
      "(154, 46) (156, 46) (158, 46) (160, 46) (162, 46) (164, 46) (166, 46) (168, 46) (170, 46) (172, 46) (174, 46) (176, 46) (178, 46) (180, 46) (60, 48) (62, 48) (64, 48) (66, 48) (68, 48) (70, 48) (72, 48) \n",
      "(74, 48) (76, 48) (78, 48) (80, 48) (82, 48) (84, 48) (86, 48) (88, 48) (90, 48) (92, 48) (94, 48) (96, 48) (98, 48) (100, 48) (102, 48) (104, 48) (106, 48) (108, 48) (110, 48) (112, 48) (114, 48) \n",
      "(116, 48) (118, 48) (120, 48) (122, 48) (124, 48) (126, 48) (128, 48) (130, 48) (132, 48) (134, 48) (136, 48) (138, 48) (140, 48) (142, 48) (144, 48) (146, 48) (148, 48) (150, 48) (152, 48) (154, 48) (156, 48) \n",
      "(158, 48) (160, 48) (162, 48) (164, 48) (166, 48) (168, 48) (170, 48) (172, 48) (174, 48) (176, 48) (178, 48) (180, 48) (60, 50) (62, 50) (64, 50) (66, 50) (68, 50) (70, 50) (72, 50) (74, 50) (76, 50) \n",
      "(78, 50) (80, 50) (82, 50) (84, 50) (86, 50) (88, 50) (90, 50) (92, 50) (94, 50) (96, 50) (98, 50) (100, 50) (102, 50) (104, 50) (106, 50) (108, 50) (110, 50) (112, 50) (114, 50) (116, 50) (118, 50) \n",
      "(120, 50) (122, 50) (124, 50) (126, 50) (128, 50) (130, 50) (132, 50) (134, 50) (136, 50) (138, 50) (140, 50) (142, 50) (144, 50) (146, 50) (148, 50) (150, 50) (152, 50) (154, 50) (156, 50) (158, 50) (160, 50) \n",
      "(162, 50) (164, 50) (166, 50) (168, 50) (170, 50) (172, 50) (174, 50) (176, 50) (178, 50) (180, 50) (60, 52) (62, 52) (64, 52) (66, 52) (68, 52) (70, 52) (72, 52) (74, 52) (76, 52) (78, 52) (80, 52) \n",
      "(82, 52) (84, 52) (86, 52) (88, 52) (90, 52) (92, 52) (94, 52) (96, 52) (98, 52) (100, 52) (102, 52) (104, 52) (106, 52) (108, 52) (110, 52) (112, 52) (114, 52) (116, 52) (118, 52) (120, 52) (122, 52) \n",
      "(124, 52) (126, 52) (128, 52) (130, 52) (132, 52) (134, 52) (136, 52) (138, 52) (140, 52) (142, 52) (144, 52) (146, 52) (148, 52) (150, 52) (152, 52) (154, 52) (156, 52) (158, 52) (160, 52) (162, 52) (164, 52) \n",
      "(166, 52) (168, 52) (170, 52) (172, 52) (174, 52) (176, 52) (178, 52) (180, 52) (60, 54) (62, 54) (64, 54) (66, 54) (68, 54) (70, 54) (72, 54) (74, 54) (76, 54) (78, 54) (80, 54) (82, 54) (84, 54) \n",
      "(86, 54) (88, 54) (90, 54) (92, 54) (94, 54) (96, 54) (98, 54) (100, 54) (102, 54) (104, 54) (106, 54) (108, 54) (110, 54) (112, 54) (114, 54) (116, 54) (118, 54) (120, 54) (122, 54) (124, 54) (126, 54) \n",
      "(128, 54) (130, 54) (132, 54) (134, 54) (136, 54) (138, 54) (140, 54) (142, 54) (144, 54) (146, 54) (148, 54) (150, 54) (152, 54) (154, 54) (156, 54) (158, 54) (160, 54) (162, 54) (164, 54) (166, 54) (168, 54) \n",
      "(170, 54) (172, 54) (174, 54) (176, 54) (178, 54) (180, 54) (60, 56) (62, 56) (64, 56) (66, 56) (68, 56) (70, 56) (72, 56) (74, 56) (76, 56) (78, 56) (80, 56) (82, 56) (84, 56) (86, 56) (88, 56) \n",
      "(90, 56) (92, 56) (94, 56) (96, 56) (98, 56) (100, 56) (102, 56) (104, 56) (106, 56) (108, 56) (110, 56) (112, 56) (114, 56) (116, 56) (118, 56) (120, 56) (122, 56) (124, 56) (126, 56) (128, 56) (130, 56) \n",
      "(132, 56) (134, 56) (136, 56) (138, 56) (140, 56) (142, 56) (144, 56) (146, 56) (148, 56) (150, 56) (152, 56) (154, 56) (156, 56) (158, 56) (160, 56) (162, 56) (164, 56) (166, 56) (168, 56) (170, 56) (172, 56) \n",
      "(174, 56) (176, 56) (178, 56) (180, 56) (60, 58) (62, 58) (64, 58) (66, 58) (68, 58) (70, 58) (72, 58) (74, 58) (76, 58) (78, 58) (80, 58) (82, 58) (84, 58) (86, 58) (88, 58) (90, 58) (92, 58) \n",
      "(94, 58) (96, 58) (98, 58) (100, 58) (102, 58) (104, 58) (106, 58) (108, 58) (110, 58) (112, 58) (114, 58) (116, 58) (118, 58) (120, 58) (122, 58) (124, 58) (126, 58) (128, 58) (130, 58) (132, 58) (134, 58) \n",
      "(136, 58) (138, 58) (140, 58) (142, 58) (144, 58) (146, 58) (148, 58) (150, 58) (152, 58) (154, 58) (156, 58) (158, 58) (160, 58) (162, 58) (164, 58) (166, 58) (168, 58) (170, 58) (172, 58) (174, 58) (176, 58) \n",
      "(178, 58) (180, 58) (60, 60) (62, 60) (64, 60) (66, 60) (68, 60) (70, 60) (72, 60) (74, 60) (76, 60) (78, 60) (80, 60) (82, 60) (84, 60) (86, 60) (88, 60) (90, 60) (92, 60) (94, 60) (96, 60) \n",
      "(98, 60) (100, 60) (102, 60) (104, 60) (106, 60) (108, 60) (110, 60) (112, 60) (114, 60) (116, 60) (118, 60) (120, 60) (122, 60) (124, 60) (126, 60) (128, 60) (130, 60) (132, 60) (134, 60) (136, 60) (138, 60) \n",
      "(140, 60) (142, 60) (144, 60) (146, 60) (148, 60) (150, 60) (152, 60) (154, 60) (156, 60) (158, 60) (160, 60) (162, 60) (164, 60) (166, 60) (168, 60) (170, 60) (172, 60) (174, 60) (176, 60) (178, 60) (180, 60) \n"
     ]
    }
   ],
   "source": [
    "for i in range(len(L_array)):\n",
    "    for j in range(len(B_array)):\n",
    "        print(f'({big_grid_reshaped[i, j, 0]}, {big_grid_reshaped[i, j, 1]})', end=' ')\n",
    "    print()"
   ]
  },
  {
   "cell_type": "code",
   "execution_count": 44,
   "metadata": {},
   "outputs": [
    {
     "ename": "NameError",
     "evalue": "name 'massive_array_reshaped' is not defined",
     "output_type": "error",
     "traceback": [
      "\u001b[0;31m---------------------------------------------------------------------------\u001b[0m",
      "\u001b[0;31mNameError\u001b[0m                                 Traceback (most recent call last)",
      "Cell \u001b[0;32mIn[44], line 1\u001b[0m\n\u001b[0;32m----> 1\u001b[0m (massive_array_reshaped[\u001b[38;5;241m0\u001b[39m,\u001b[38;5;241m0\u001b[39m,:])\n",
      "\u001b[0;31mNameError\u001b[0m: name 'massive_array_reshaped' is not defined"
     ]
    }
   ],
   "source": [
    "(massive_array_reshaped[0,0,:])"
   ]
  },
  {
   "cell_type": "code",
   "execution_count": null,
   "metadata": {},
   "outputs": [],
   "source": []
  },
  {
   "cell_type": "code",
   "execution_count": 45,
   "metadata": {},
   "outputs": [
    {
     "ename": "NameError",
     "evalue": "name 'massive_array_reshaped' is not defined",
     "output_type": "error",
     "traceback": [
      "\u001b[0;31m---------------------------------------------------------------------------\u001b[0m",
      "\u001b[0;31mNameError\u001b[0m                                 Traceback (most recent call last)",
      "Cell \u001b[0;32mIn[45], line 2\u001b[0m\n\u001b[1;32m      1\u001b[0m df \u001b[38;5;241m=\u001b[39m pd\u001b[38;5;241m.\u001b[39mDataFrame({\n\u001b[0;32m----> 2\u001b[0m     \u001b[38;5;124m'\u001b[39m\u001b[38;5;124mL_array\u001b[39m\u001b[38;5;124m'\u001b[39m: massive_array_reshaped[:,:,\u001b[38;5;241m0\u001b[39m]\u001b[38;5;241m.\u001b[39mflatten(),\n\u001b[1;32m      3\u001b[0m     \u001b[38;5;124m'\u001b[39m\u001b[38;5;124mB_array\u001b[39m\u001b[38;5;124m'\u001b[39m: massive_array_reshaped[:,:,\u001b[38;5;241m1\u001b[39m]\u001b[38;5;241m.\u001b[39mflatten()\n\u001b[1;32m      4\u001b[0m })\n",
      "\u001b[0;31mNameError\u001b[0m: name 'massive_array_reshaped' is not defined"
     ]
    }
   ],
   "source": [
    "df = pd.DataFrame({\n",
    "    'L_array': massive_array_reshaped[:,:,0].flatten(),\n",
    "    'B_array': massive_array_reshaped[:,:,1].flatten()\n",
    "})"
   ]
  },
  {
   "cell_type": "code",
   "execution_count": 46,
   "metadata": {},
   "outputs": [],
   "source": [
    "glons = np.arange(60, 180, 4.6)\n",
    "glats = np.arange(20, 60, 3.4) \n",
    "pointings = np.array([(L,B) for L in glons for B in glats])"
   ]
  },
  {
   "cell_type": "code",
   "execution_count": 47,
   "metadata": {},
   "outputs": [
    {
     "data": {
      "text/plain": [
       "array([60. , 23.4])"
      ]
     },
     "execution_count": 47,
     "metadata": {},
     "output_type": "execute_result"
    }
   ],
   "source": [
    "pointings[1]"
   ]
  },
  {
   "cell_type": "code",
   "execution_count": 48,
   "metadata": {},
   "outputs": [
    {
     "ename": "AttributeError",
     "evalue": "'numpy.ndarray' object has no attribute 'transform_to'",
     "output_type": "error",
     "traceback": [
      "\u001b[0;31m---------------------------------------------------------------------------\u001b[0m",
      "\u001b[0;31mAttributeError\u001b[0m                            Traceback (most recent call last)",
      "Cell \u001b[0;32mIn[48], line 3\u001b[0m\n\u001b[1;32m      1\u001b[0m ra_dec_coords \u001b[38;5;241m=\u001b[39m []\n\u001b[1;32m      2\u001b[0m \u001b[38;5;28;01mfor\u001b[39;00m i \u001b[38;5;129;01min\u001b[39;00m \u001b[38;5;28mrange\u001b[39m(\u001b[38;5;28mlen\u001b[39m(pointings)): \n\u001b[0;32m----> 3\u001b[0m     ra_dec \u001b[38;5;241m=\u001b[39m pointings[i]\u001b[38;5;241m.\u001b[39mtransform_to(\u001b[38;5;124m'\u001b[39m\u001b[38;5;124mICRS\u001b[39m\u001b[38;5;124m'\u001b[39m)\n\u001b[1;32m      4\u001b[0m     ra_dec_coords\u001b[38;5;241m.\u001b[39mappend(ra_dec)\n",
      "\u001b[0;31mAttributeError\u001b[0m: 'numpy.ndarray' object has no attribute 'transform_to'"
     ]
    }
   ],
   "source": [
    "ra_dec_coords = []\n",
    "for i in range(len(pointings)): \n",
    "    ra_dec = pointings[i].transform_to('ICRS')\n",
    "    ra_dec_coords.append(ra_dec)"
   ]
  },
  {
   "cell_type": "code",
   "execution_count": 46,
   "metadata": {},
   "outputs": [
    {
     "ename": "ValueError",
     "evalue": "x and y must have same first dimension, but have shapes (61,) and (21,)",
     "output_type": "error",
     "traceback": [
      "\u001b[0;31m---------------------------------------------------------------------------\u001b[0m",
      "\u001b[0;31mValueError\u001b[0m                                Traceback (most recent call last)",
      "Cell \u001b[0;32mIn[46], line 1\u001b[0m\n\u001b[0;32m----> 1\u001b[0m plt\u001b[38;5;241m.\u001b[39mplot(L_array, B_array)\n",
      "File \u001b[0;32m~/anaconda3/lib/python3.11/site-packages/matplotlib/pyplot.py:2812\u001b[0m, in \u001b[0;36mplot\u001b[0;34m(scalex, scaley, data, *args, **kwargs)\u001b[0m\n\u001b[1;32m   2810\u001b[0m \u001b[38;5;129m@_copy_docstring_and_deprecators\u001b[39m(Axes\u001b[38;5;241m.\u001b[39mplot)\n\u001b[1;32m   2811\u001b[0m \u001b[38;5;28;01mdef\u001b[39;00m \u001b[38;5;21mplot\u001b[39m(\u001b[38;5;241m*\u001b[39margs, scalex\u001b[38;5;241m=\u001b[39m\u001b[38;5;28;01mTrue\u001b[39;00m, scaley\u001b[38;5;241m=\u001b[39m\u001b[38;5;28;01mTrue\u001b[39;00m, data\u001b[38;5;241m=\u001b[39m\u001b[38;5;28;01mNone\u001b[39;00m, \u001b[38;5;241m*\u001b[39m\u001b[38;5;241m*\u001b[39mkwargs):\n\u001b[0;32m-> 2812\u001b[0m     \u001b[38;5;28;01mreturn\u001b[39;00m gca()\u001b[38;5;241m.\u001b[39mplot(\n\u001b[1;32m   2813\u001b[0m         \u001b[38;5;241m*\u001b[39margs, scalex\u001b[38;5;241m=\u001b[39mscalex, scaley\u001b[38;5;241m=\u001b[39mscaley,\n\u001b[1;32m   2814\u001b[0m         \u001b[38;5;241m*\u001b[39m\u001b[38;5;241m*\u001b[39m({\u001b[38;5;124m\"\u001b[39m\u001b[38;5;124mdata\u001b[39m\u001b[38;5;124m\"\u001b[39m: data} \u001b[38;5;28;01mif\u001b[39;00m data \u001b[38;5;129;01mis\u001b[39;00m \u001b[38;5;129;01mnot\u001b[39;00m \u001b[38;5;28;01mNone\u001b[39;00m \u001b[38;5;28;01melse\u001b[39;00m {}), \u001b[38;5;241m*\u001b[39m\u001b[38;5;241m*\u001b[39mkwargs)\n",
      "File \u001b[0;32m~/anaconda3/lib/python3.11/site-packages/matplotlib/axes/_axes.py:1688\u001b[0m, in \u001b[0;36mAxes.plot\u001b[0;34m(self, scalex, scaley, data, *args, **kwargs)\u001b[0m\n\u001b[1;32m   1445\u001b[0m \u001b[38;5;250m\u001b[39m\u001b[38;5;124;03m\"\"\"\u001b[39;00m\n\u001b[1;32m   1446\u001b[0m \u001b[38;5;124;03mPlot y versus x as lines and/or markers.\u001b[39;00m\n\u001b[1;32m   1447\u001b[0m \n\u001b[0;32m   (...)\u001b[0m\n\u001b[1;32m   1685\u001b[0m \u001b[38;5;124;03m(``'green'``) or hex strings (``'#008000'``).\u001b[39;00m\n\u001b[1;32m   1686\u001b[0m \u001b[38;5;124;03m\"\"\"\u001b[39;00m\n\u001b[1;32m   1687\u001b[0m kwargs \u001b[38;5;241m=\u001b[39m cbook\u001b[38;5;241m.\u001b[39mnormalize_kwargs(kwargs, mlines\u001b[38;5;241m.\u001b[39mLine2D)\n\u001b[0;32m-> 1688\u001b[0m lines \u001b[38;5;241m=\u001b[39m [\u001b[38;5;241m*\u001b[39m\u001b[38;5;28mself\u001b[39m\u001b[38;5;241m.\u001b[39m_get_lines(\u001b[38;5;241m*\u001b[39margs, data\u001b[38;5;241m=\u001b[39mdata, \u001b[38;5;241m*\u001b[39m\u001b[38;5;241m*\u001b[39mkwargs)]\n\u001b[1;32m   1689\u001b[0m \u001b[38;5;28;01mfor\u001b[39;00m line \u001b[38;5;129;01min\u001b[39;00m lines:\n\u001b[1;32m   1690\u001b[0m     \u001b[38;5;28mself\u001b[39m\u001b[38;5;241m.\u001b[39madd_line(line)\n",
      "File \u001b[0;32m~/anaconda3/lib/python3.11/site-packages/matplotlib/axes/_base.py:311\u001b[0m, in \u001b[0;36m_process_plot_var_args.__call__\u001b[0;34m(self, data, *args, **kwargs)\u001b[0m\n\u001b[1;32m    309\u001b[0m     this \u001b[38;5;241m+\u001b[39m\u001b[38;5;241m=\u001b[39m args[\u001b[38;5;241m0\u001b[39m],\n\u001b[1;32m    310\u001b[0m     args \u001b[38;5;241m=\u001b[39m args[\u001b[38;5;241m1\u001b[39m:]\n\u001b[0;32m--> 311\u001b[0m \u001b[38;5;28;01myield from\u001b[39;00m \u001b[38;5;28mself\u001b[39m\u001b[38;5;241m.\u001b[39m_plot_args(\n\u001b[1;32m    312\u001b[0m     this, kwargs, ambiguous_fmt_datakey\u001b[38;5;241m=\u001b[39mambiguous_fmt_datakey)\n",
      "File \u001b[0;32m~/anaconda3/lib/python3.11/site-packages/matplotlib/axes/_base.py:504\u001b[0m, in \u001b[0;36m_process_plot_var_args._plot_args\u001b[0;34m(self, tup, kwargs, return_kwargs, ambiguous_fmt_datakey)\u001b[0m\n\u001b[1;32m    501\u001b[0m     \u001b[38;5;28mself\u001b[39m\u001b[38;5;241m.\u001b[39maxes\u001b[38;5;241m.\u001b[39myaxis\u001b[38;5;241m.\u001b[39mupdate_units(y)\n\u001b[1;32m    503\u001b[0m \u001b[38;5;28;01mif\u001b[39;00m x\u001b[38;5;241m.\u001b[39mshape[\u001b[38;5;241m0\u001b[39m] \u001b[38;5;241m!=\u001b[39m y\u001b[38;5;241m.\u001b[39mshape[\u001b[38;5;241m0\u001b[39m]:\n\u001b[0;32m--> 504\u001b[0m     \u001b[38;5;28;01mraise\u001b[39;00m \u001b[38;5;167;01mValueError\u001b[39;00m(\u001b[38;5;124mf\u001b[39m\u001b[38;5;124m\"\u001b[39m\u001b[38;5;124mx and y must have same first dimension, but \u001b[39m\u001b[38;5;124m\"\u001b[39m\n\u001b[1;32m    505\u001b[0m                      \u001b[38;5;124mf\u001b[39m\u001b[38;5;124m\"\u001b[39m\u001b[38;5;124mhave shapes \u001b[39m\u001b[38;5;132;01m{\u001b[39;00mx\u001b[38;5;241m.\u001b[39mshape\u001b[38;5;132;01m}\u001b[39;00m\u001b[38;5;124m and \u001b[39m\u001b[38;5;132;01m{\u001b[39;00my\u001b[38;5;241m.\u001b[39mshape\u001b[38;5;132;01m}\u001b[39;00m\u001b[38;5;124m\"\u001b[39m)\n\u001b[1;32m    506\u001b[0m \u001b[38;5;28;01mif\u001b[39;00m x\u001b[38;5;241m.\u001b[39mndim \u001b[38;5;241m>\u001b[39m \u001b[38;5;241m2\u001b[39m \u001b[38;5;129;01mor\u001b[39;00m y\u001b[38;5;241m.\u001b[39mndim \u001b[38;5;241m>\u001b[39m \u001b[38;5;241m2\u001b[39m:\n\u001b[1;32m    507\u001b[0m     \u001b[38;5;28;01mraise\u001b[39;00m \u001b[38;5;167;01mValueError\u001b[39;00m(\u001b[38;5;124mf\u001b[39m\u001b[38;5;124m\"\u001b[39m\u001b[38;5;124mx and y can be no greater than 2D, but have \u001b[39m\u001b[38;5;124m\"\u001b[39m\n\u001b[1;32m    508\u001b[0m                      \u001b[38;5;124mf\u001b[39m\u001b[38;5;124m\"\u001b[39m\u001b[38;5;124mshapes \u001b[39m\u001b[38;5;132;01m{\u001b[39;00mx\u001b[38;5;241m.\u001b[39mshape\u001b[38;5;132;01m}\u001b[39;00m\u001b[38;5;124m and \u001b[39m\u001b[38;5;132;01m{\u001b[39;00my\u001b[38;5;241m.\u001b[39mshape\u001b[38;5;132;01m}\u001b[39;00m\u001b[38;5;124m\"\u001b[39m)\n",
      "\u001b[0;31mValueError\u001b[0m: x and y must have same first dimension, but have shapes (61,) and (21,)"
     ]
    },
    {
     "data": {
      "image/png": "[encoded data removed]",
      "text/plain": [
       "<Figure size 640x480 with 1 Axes>"
      ]
     },
     "metadata": {},
     "output_type": "display_data"
    }
   ],
   "source": [
    "for i in pointings: \n",
    "    pointing = "
   ]
  },
  {
   "cell_type": "code",
   "execution_count": null,
   "metadata": {},
   "outputs": [],
   "source": []
  }
 ],
 "metadata": {
  "kernelspec": {
   "display_name": "Python 3 (ipykernel)",
   "language": "python",
   "name": "python3"
  },
  "language_info": {
   "codemirror_mode": {
    "name": "ipython",
    "version": 3
   },
   "file_extension": ".py",
   "mimetype": "text/x-python",
   "name": "python",
   "nbconvert_exporter": "python",
   "pygments_lexer": "ipython3",
   "version": "3.11.5"
  }
 },
 "nbformat": 4,
 "nbformat_minor": 2
}
