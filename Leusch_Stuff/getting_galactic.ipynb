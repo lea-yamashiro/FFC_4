{
 "cells": [
  {
   "cell_type": "code",
   "execution_count": 2,
   "metadata": {},
   "outputs": [],
   "source": [
    "import astropy.coordinates "
   ]
  },
  {
   "cell_type": "code",
   "execution_count": 10,
   "metadata": {},
   "outputs": [],
   "source": [
    "import ugradio\n",
    "import astropy.units as u\n",
    "from astropy.coordinates import SkyCoord, AltAz, EarthLocation\n",
    "from astropy.coordinates import Galactic\n",
    "import logging\n",
    "import time\n",
    "import numpy as np\n",
    "import math\n",
    "from ugradio import nch\n",
    "from ugradio import leo\n",
    "import astropy as astropy\n",
    "from astropy.coordinates import SkyCoord                         # High-level coordinates\n",
    "from astropy.coordinates import ICRS, Galactic, FK4, FK5         # Low-level frames\n",
    "from astropy.coordinates import Angle, Latitude, Longitude       # Angles\n",
    "from astropy.time import Time\n"
   ]
  },
  {
   "cell_type": "code",
   "execution_count": 18,
   "metadata": {},
   "outputs": [
    {
     "name": "stdout",
     "output_type": "stream",
     "text": [
      "Altitude: 51.48845572328684 deg\n",
      "Azimuth: 326.37083994243915 deg\n"
     ]
    }
   ],
   "source": [
    "\n",
    "# Galactic coordinates (l, b) of the object\n",
    "galactic_coords = SkyCoord(l=120*u.deg, b=0*u.deg, frame='galactic')\n",
    "\n",
    "# Observing location (latitude, longitude, elevation)\n",
    "observing_location = EarthLocation(lat=leo.lat*u.deg, lon=-leo.lon*u.deg, height=leo.alt*u.m)\n",
    "\n",
    "# Time of observation\n",
    "obs_time = astropy.time.Time(time.time(), format='unix')\n",
    "\n",
    "# Convert to AltAz frame\n",
    "altaz_coords = galactic_coords.transform_to(AltAz(obstime=obs_time, location=observing_location))\n",
    "\n",
    "# Extract altitude and azimuth\n",
    "altitude = altaz_coords.alt\n",
    "azimuth = altaz_coords.az\n",
    "\n",
    "print(f\"Altitude: {altitude}\")\n",
    "print(f\"Azimuth: {azimuth}\")"
   ]
  },
  {
   "cell_type": "code",
   "execution_count": null,
   "metadata": {},
   "outputs": [],
   "source": []
  }
 ],
 "metadata": {
  "kernelspec": {
   "display_name": "Python 3",
   "language": "python",
   "name": "python3"
  },
  "language_info": {
   "codemirror_mode": {
    "name": "ipython",
    "version": 3
   },
   "file_extension": ".py",
   "mimetype": "text/x-python",
   "name": "python",
   "nbconvert_exporter": "python",
   "pygments_lexer": "ipython3",
   "version": "3.11.5"
  }
 },
 "nbformat": 4,
 "nbformat_minor": 2
}
