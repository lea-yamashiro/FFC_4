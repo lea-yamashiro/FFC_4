{
 "cells": [
  {
   "cell_type": "code",
   "execution_count": 2,
   "metadata": {},
   "outputs": [
    {
     "name": "stdout",
     "output_type": "stream",
     "text": [
      "No module named 'rtlsdr'\n"
     ]
    }
   ],
   "source": [
    "import ugradio\n",
    "import astropy.units as u\n",
    "from astropy.coordinates import SkyCoord, AltAz, EarthLocation\n",
    "from astropy.coordinates import Galactic\n",
    "import logging\n",
    "import time\n",
    "import numpy as np\n",
    "import math\n",
    "from ugradio import leo\n",
    "import astropy as astropy\n",
    "from astropy.coordinates import SkyCoord                         # High-level coordinates\n",
    "from astropy.coordinates import ICRS, Galactic, FK4, FK5         # Low-level frames\n",
    "from astropy.coordinates import Angle, Latitude, Longitude       # Angles\n",
    "from astropy.time import Time\n"
   ]
  },
  {
   "cell_type": "code",
   "execution_count": 3,
   "metadata": {},
   "outputs": [
    {
     "name": "stdout",
     "output_type": "stream",
     "text": [
      "Altitude: 64.89606155520364 deg\n",
      "Azimuth: 354.9226590989184 deg\n"
     ]
    }
   ],
   "source": [
    "# Galactic coordinates (l, b) of the object\n",
    "galactic_coords = SkyCoord(l=120*u.deg, b=0*u.deg, frame='galactic')\n",
    "\n",
    "# Observing location (latitude, longitude, elevation)\n",
    "observing_location = EarthLocation(lat=leo.lat*u.deg, lon=-leo.lon*u.deg, height=leo.alt*u.m)\n",
    "\n",
    "# Time of observation\n",
    "obs_time = astropy.time.Time(time.time(), format='unix')\n",
    "\n",
    "# Convert to AltAz frame\n",
    "altaz_coords = galactic_coords.transform_to(AltAz(obstime=obs_time, location=observing_location))\n",
    "\n",
    "# Extract altitude and azimuth\n",
    "altitude = altaz_coords.alt\n",
    "azimuth = altaz_coords.az\n",
    "\n",
    "\n",
    "print(f\"Altitude: {altitude}\")\n",
    "print(f\"Azimuth: {azimuth}\")"
   ]
  },
  {
   "cell_type": "code",
   "execution_count": 4,
   "metadata": {},
   "outputs": [],
   "source": [
    "import numpy as np"
   ]
  },
  {
   "cell_type": "code",
   "execution_count": 5,
   "metadata": {},
   "outputs": [],
   "source": [
    "glons = np.arange(60, 180, 4.6)\n",
    "glats = np.arange(20, 60, 3.4) \n",
    "pointings = np.array([(L,B) for L in glons for B in glats])"
   ]
  },
  {
   "cell_type": "code",
   "execution_count": 6,
   "metadata": {},
   "outputs": [
    {
     "data": {
      "text/plain": [
       "array([60., 20.])"
      ]
     },
     "execution_count": 6,
     "metadata": {},
     "output_type": "execute_result"
    }
   ],
   "source": [
    "pointings[0]"
   ]
  },
  {
   "cell_type": "code",
   "execution_count": 7,
   "metadata": {},
   "outputs": [],
   "source": [
    "def get_ra_dec(L,B):\n",
    "\n",
    "    # set galactic coordinates \n",
    "    galactic_coords = SkyCoord(l = L*u.deg, b = B*u.deg, frame = 'galactic') \n",
    "\n",
    "    # set Leuschner observation location (latitude, longtidue, elevation)\n",
    "    Leusch_coords = EarthLocation(lat = leo.lat*u.deg, lon = -leo.lon*u.deg, height = leo.alt*u.m)\n",
    "\n",
    "    # set observation time in UNIX \n",
    "    observation_time = astropy.time.Time(time.time(), format = 'unix')\n",
    "\n",
    "    # get ra, dec\n",
    "    icrs_coords = galactic_coords.transform_to(ICRS())\n",
    "\n",
    "    return icrs_coords"
   ]
  },
  {
   "cell_type": "code",
   "execution_count": 8,
   "metadata": {},
   "outputs": [
    {
     "data": {
      "text/plain": [
       "<SkyCoord (ICRS): (ra, dec) in deg\n",
       "    (275.4099465, 32.44704574)>"
      ]
     },
     "execution_count": 8,
     "metadata": {},
     "output_type": "execute_result"
    }
   ],
   "source": [
    "get_ra_dec(60,20)"
   ]
  },
  {
   "cell_type": "code",
   "execution_count": 9,
   "metadata": {},
   "outputs": [],
   "source": [
    "from astropy.coordinates import ICRS"
   ]
  },
  {
   "cell_type": "code",
   "execution_count": 10,
   "metadata": {},
   "outputs": [
    {
     "data": {
      "text/plain": [
       "array([60. , 26.8])"
      ]
     },
     "execution_count": 10,
     "metadata": {},
     "output_type": "execute_result"
    }
   ],
   "source": [
    "pointings[2]"
   ]
  },
  {
   "cell_type": "code",
   "execution_count": 11,
   "metadata": {},
   "outputs": [],
   "source": [
    "ra_dec_gal_coords = []\n",
    "for i in range(len(pointings)): \n",
    "    galactic_coords = pointings[i]\n",
    "    coords = SkyCoord(l=galactic_coords[0]*u.deg, b=galactic_coords[1]*u.deg, frame='galactic')\n",
    "    icrs_coords = coords.transform_to(ICRS())\n",
    "    ra_dec_gal_coords.append([[galactic_coords], [icrs_coords.ra.deg, icrs_coords.dec.deg]])\n",
    "\n"
   ]
  },
  {
   "cell_type": "code",
   "execution_count": 95,
   "metadata": {},
   "outputs": [],
   "source": [
    "ra_dec_gal_coords_2 = []\n",
    "\n",
    "for i in range(len(pointings)): \n",
    "    galactic_coords = pointings[i]\n",
    "    coords = SkyCoord(l=galactic_coords[0]*u.deg, b=galactic_coords[1]*u.deg, frame='galactic')\n",
    "    icrs_coords = coords.transform_to(ICRS())\n",
    "    \n",
    "    # Append the data in the desired format\n",
    "    ra_dec_gal_coords_2.append([\n",
    "        galactic_coords[0],  # galactic_l\n",
    "        galactic_coords[1],  # galactic_b\n",
    "        icrs_coords.ra.deg,  # ra\n",
    "        icrs_coords.dec.deg  # dec\n",
    "    ])\n",
    "\n"
   ]
  },
  {
   "cell_type": "code",
   "execution_count": null,
   "metadata": {},
   "outputs": [],
   "source": []
  },
  {
   "cell_type": "code",
   "execution_count": 96,
   "metadata": {},
   "outputs": [
    {
     "data": {
      "text/plain": [
       "array([[ 60. ,  20. ],\n",
       "       [ 60. ,  23.4],\n",
       "       [ 60. ,  26.8],\n",
       "       [ 60. ,  30.2],\n",
       "       [ 60. ,  33.6],\n",
       "       [ 60. ,  37. ],\n",
       "       [ 60. ,  40.4],\n",
       "       [ 60. ,  43.8],\n",
       "       [ 60. ,  47.2],\n",
       "       [ 60. ,  50.6],\n",
       "       [ 60. ,  54. ],\n",
       "       [ 60. ,  57.4],\n",
       "       [ 64.6,  20. ],\n",
       "       [ 64.6,  23.4],\n",
       "       [ 64.6,  26.8],\n",
       "       [ 64.6,  30.2],\n",
       "       [ 64.6,  33.6],\n",
       "       [ 64.6,  37. ],\n",
       "       [ 64.6,  40.4],\n",
       "       [ 64.6,  43.8],\n",
       "       [ 64.6,  47.2],\n",
       "       [ 64.6,  50.6],\n",
       "       [ 64.6,  54. ],\n",
       "       [ 64.6,  57.4],\n",
       "       [ 69.2,  20. ],\n",
       "       [ 69.2,  23.4],\n",
       "       [ 69.2,  26.8],\n",
       "       [ 69.2,  30.2],\n",
       "       [ 69.2,  33.6],\n",
       "       [ 69.2,  37. ],\n",
       "       [ 69.2,  40.4],\n",
       "       [ 69.2,  43.8],\n",
       "       [ 69.2,  47.2],\n",
       "       [ 69.2,  50.6],\n",
       "       [ 69.2,  54. ],\n",
       "       [ 69.2,  57.4],\n",
       "       [ 73.8,  20. ],\n",
       "       [ 73.8,  23.4],\n",
       "       [ 73.8,  26.8],\n",
       "       [ 73.8,  30.2],\n",
       "       [ 73.8,  33.6],\n",
       "       [ 73.8,  37. ],\n",
       "       [ 73.8,  40.4],\n",
       "       [ 73.8,  43.8],\n",
       "       [ 73.8,  47.2],\n",
       "       [ 73.8,  50.6],\n",
       "       [ 73.8,  54. ],\n",
       "       [ 73.8,  57.4],\n",
       "       [ 78.4,  20. ],\n",
       "       [ 78.4,  23.4],\n",
       "       [ 78.4,  26.8],\n",
       "       [ 78.4,  30.2],\n",
       "       [ 78.4,  33.6],\n",
       "       [ 78.4,  37. ],\n",
       "       [ 78.4,  40.4],\n",
       "       [ 78.4,  43.8],\n",
       "       [ 78.4,  47.2],\n",
       "       [ 78.4,  50.6],\n",
       "       [ 78.4,  54. ],\n",
       "       [ 78.4,  57.4],\n",
       "       [ 83. ,  20. ],\n",
       "       [ 83. ,  23.4],\n",
       "       [ 83. ,  26.8],\n",
       "       [ 83. ,  30.2],\n",
       "       [ 83. ,  33.6],\n",
       "       [ 83. ,  37. ],\n",
       "       [ 83. ,  40.4],\n",
       "       [ 83. ,  43.8],\n",
       "       [ 83. ,  47.2],\n",
       "       [ 83. ,  50.6],\n",
       "       [ 83. ,  54. ],\n",
       "       [ 83. ,  57.4],\n",
       "       [ 87.6,  20. ],\n",
       "       [ 87.6,  23.4],\n",
       "       [ 87.6,  26.8],\n",
       "       [ 87.6,  30.2],\n",
       "       [ 87.6,  33.6],\n",
       "       [ 87.6,  37. ],\n",
       "       [ 87.6,  40.4],\n",
       "       [ 87.6,  43.8],\n",
       "       [ 87.6,  47.2],\n",
       "       [ 87.6,  50.6],\n",
       "       [ 87.6,  54. ],\n",
       "       [ 87.6,  57.4],\n",
       "       [ 92.2,  20. ],\n",
       "       [ 92.2,  23.4],\n",
       "       [ 92.2,  26.8],\n",
       "       [ 92.2,  30.2],\n",
       "       [ 92.2,  33.6],\n",
       "       [ 92.2,  37. ],\n",
       "       [ 92.2,  40.4],\n",
       "       [ 92.2,  43.8],\n",
       "       [ 92.2,  47.2],\n",
       "       [ 92.2,  50.6],\n",
       "       [ 92.2,  54. ],\n",
       "       [ 92.2,  57.4],\n",
       "       [ 96.8,  20. ],\n",
       "       [ 96.8,  23.4],\n",
       "       [ 96.8,  26.8],\n",
       "       [ 96.8,  30.2],\n",
       "       [ 96.8,  33.6],\n",
       "       [ 96.8,  37. ],\n",
       "       [ 96.8,  40.4],\n",
       "       [ 96.8,  43.8],\n",
       "       [ 96.8,  47.2],\n",
       "       [ 96.8,  50.6],\n",
       "       [ 96.8,  54. ],\n",
       "       [ 96.8,  57.4],\n",
       "       [101.4,  20. ],\n",
       "       [101.4,  23.4],\n",
       "       [101.4,  26.8],\n",
       "       [101.4,  30.2],\n",
       "       [101.4,  33.6],\n",
       "       [101.4,  37. ],\n",
       "       [101.4,  40.4],\n",
       "       [101.4,  43.8],\n",
       "       [101.4,  47.2],\n",
       "       [101.4,  50.6],\n",
       "       [101.4,  54. ],\n",
       "       [101.4,  57.4],\n",
       "       [106. ,  20. ],\n",
       "       [106. ,  23.4],\n",
       "       [106. ,  26.8],\n",
       "       [106. ,  30.2],\n",
       "       [106. ,  33.6],\n",
       "       [106. ,  37. ],\n",
       "       [106. ,  40.4],\n",
       "       [106. ,  43.8],\n",
       "       [106. ,  47.2],\n",
       "       [106. ,  50.6],\n",
       "       [106. ,  54. ],\n",
       "       [106. ,  57.4],\n",
       "       [110.6,  20. ],\n",
       "       [110.6,  23.4],\n",
       "       [110.6,  26.8],\n",
       "       [110.6,  30.2],\n",
       "       [110.6,  33.6],\n",
       "       [110.6,  37. ],\n",
       "       [110.6,  40.4],\n",
       "       [110.6,  43.8],\n",
       "       [110.6,  47.2],\n",
       "       [110.6,  50.6],\n",
       "       [110.6,  54. ],\n",
       "       [110.6,  57.4],\n",
       "       [115.2,  20. ],\n",
       "       [115.2,  23.4],\n",
       "       [115.2,  26.8],\n",
       "       [115.2,  30.2],\n",
       "       [115.2,  33.6],\n",
       "       [115.2,  37. ],\n",
       "       [115.2,  40.4],\n",
       "       [115.2,  43.8],\n",
       "       [115.2,  47.2],\n",
       "       [115.2,  50.6],\n",
       "       [115.2,  54. ],\n",
       "       [115.2,  57.4],\n",
       "       [119.8,  20. ],\n",
       "       [119.8,  23.4],\n",
       "       [119.8,  26.8],\n",
       "       [119.8,  30.2],\n",
       "       [119.8,  33.6],\n",
       "       [119.8,  37. ],\n",
       "       [119.8,  40.4],\n",
       "       [119.8,  43.8],\n",
       "       [119.8,  47.2],\n",
       "       [119.8,  50.6],\n",
       "       [119.8,  54. ],\n",
       "       [119.8,  57.4],\n",
       "       [124.4,  20. ],\n",
       "       [124.4,  23.4],\n",
       "       [124.4,  26.8],\n",
       "       [124.4,  30.2],\n",
       "       [124.4,  33.6],\n",
       "       [124.4,  37. ],\n",
       "       [124.4,  40.4],\n",
       "       [124.4,  43.8],\n",
       "       [124.4,  47.2],\n",
       "       [124.4,  50.6],\n",
       "       [124.4,  54. ],\n",
       "       [124.4,  57.4],\n",
       "       [129. ,  20. ],\n",
       "       [129. ,  23.4],\n",
       "       [129. ,  26.8],\n",
       "       [129. ,  30.2],\n",
       "       [129. ,  33.6],\n",
       "       [129. ,  37. ],\n",
       "       [129. ,  40.4],\n",
       "       [129. ,  43.8],\n",
       "       [129. ,  47.2],\n",
       "       [129. ,  50.6],\n",
       "       [129. ,  54. ],\n",
       "       [129. ,  57.4],\n",
       "       [133.6,  20. ],\n",
       "       [133.6,  23.4],\n",
       "       [133.6,  26.8],\n",
       "       [133.6,  30.2],\n",
       "       [133.6,  33.6],\n",
       "       [133.6,  37. ],\n",
       "       [133.6,  40.4],\n",
       "       [133.6,  43.8],\n",
       "       [133.6,  47.2],\n",
       "       [133.6,  50.6],\n",
       "       [133.6,  54. ],\n",
       "       [133.6,  57.4],\n",
       "       [138.2,  20. ],\n",
       "       [138.2,  23.4],\n",
       "       [138.2,  26.8],\n",
       "       [138.2,  30.2],\n",
       "       [138.2,  33.6],\n",
       "       [138.2,  37. ],\n",
       "       [138.2,  40.4],\n",
       "       [138.2,  43.8],\n",
       "       [138.2,  47.2],\n",
       "       [138.2,  50.6],\n",
       "       [138.2,  54. ],\n",
       "       [138.2,  57.4],\n",
       "       [142.8,  20. ],\n",
       "       [142.8,  23.4],\n",
       "       [142.8,  26.8],\n",
       "       [142.8,  30.2],\n",
       "       [142.8,  33.6],\n",
       "       [142.8,  37. ],\n",
       "       [142.8,  40.4],\n",
       "       [142.8,  43.8],\n",
       "       [142.8,  47.2],\n",
       "       [142.8,  50.6],\n",
       "       [142.8,  54. ],\n",
       "       [142.8,  57.4],\n",
       "       [147.4,  20. ],\n",
       "       [147.4,  23.4],\n",
       "       [147.4,  26.8],\n",
       "       [147.4,  30.2],\n",
       "       [147.4,  33.6],\n",
       "       [147.4,  37. ],\n",
       "       [147.4,  40.4],\n",
       "       [147.4,  43.8],\n",
       "       [147.4,  47.2],\n",
       "       [147.4,  50.6],\n",
       "       [147.4,  54. ],\n",
       "       [147.4,  57.4],\n",
       "       [152. ,  20. ],\n",
       "       [152. ,  23.4],\n",
       "       [152. ,  26.8],\n",
       "       [152. ,  30.2],\n",
       "       [152. ,  33.6],\n",
       "       [152. ,  37. ],\n",
       "       [152. ,  40.4],\n",
       "       [152. ,  43.8],\n",
       "       [152. ,  47.2],\n",
       "       [152. ,  50.6],\n",
       "       [152. ,  54. ],\n",
       "       [152. ,  57.4],\n",
       "       [156.6,  20. ],\n",
       "       [156.6,  23.4],\n",
       "       [156.6,  26.8],\n",
       "       [156.6,  30.2],\n",
       "       [156.6,  33.6],\n",
       "       [156.6,  37. ],\n",
       "       [156.6,  40.4],\n",
       "       [156.6,  43.8],\n",
       "       [156.6,  47.2],\n",
       "       [156.6,  50.6],\n",
       "       [156.6,  54. ],\n",
       "       [156.6,  57.4],\n",
       "       [161.2,  20. ],\n",
       "       [161.2,  23.4],\n",
       "       [161.2,  26.8],\n",
       "       [161.2,  30.2],\n",
       "       [161.2,  33.6],\n",
       "       [161.2,  37. ],\n",
       "       [161.2,  40.4],\n",
       "       [161.2,  43.8],\n",
       "       [161.2,  47.2],\n",
       "       [161.2,  50.6],\n",
       "       [161.2,  54. ],\n",
       "       [161.2,  57.4],\n",
       "       [165.8,  20. ],\n",
       "       [165.8,  23.4],\n",
       "       [165.8,  26.8],\n",
       "       [165.8,  30.2],\n",
       "       [165.8,  33.6],\n",
       "       [165.8,  37. ],\n",
       "       [165.8,  40.4],\n",
       "       [165.8,  43.8],\n",
       "       [165.8,  47.2],\n",
       "       [165.8,  50.6],\n",
       "       [165.8,  54. ],\n",
       "       [165.8,  57.4],\n",
       "       [170.4,  20. ],\n",
       "       [170.4,  23.4],\n",
       "       [170.4,  26.8],\n",
       "       [170.4,  30.2],\n",
       "       [170.4,  33.6],\n",
       "       [170.4,  37. ],\n",
       "       [170.4,  40.4],\n",
       "       [170.4,  43.8],\n",
       "       [170.4,  47.2],\n",
       "       [170.4,  50.6],\n",
       "       [170.4,  54. ],\n",
       "       [170.4,  57.4],\n",
       "       [175. ,  20. ],\n",
       "       [175. ,  23.4],\n",
       "       [175. ,  26.8],\n",
       "       [175. ,  30.2],\n",
       "       [175. ,  33.6],\n",
       "       [175. ,  37. ],\n",
       "       [175. ,  40.4],\n",
       "       [175. ,  43.8],\n",
       "       [175. ,  47.2],\n",
       "       [175. ,  50.6],\n",
       "       [175. ,  54. ],\n",
       "       [175. ,  57.4],\n",
       "       [179.6,  20. ],\n",
       "       [179.6,  23.4],\n",
       "       [179.6,  26.8],\n",
       "       [179.6,  30.2],\n",
       "       [179.6,  33.6],\n",
       "       [179.6,  37. ],\n",
       "       [179.6,  40.4],\n",
       "       [179.6,  43.8],\n",
       "       [179.6,  47.2],\n",
       "       [179.6,  50.6],\n",
       "       [179.6,  54. ],\n",
       "       [179.6,  57.4]])"
      ]
     },
     "execution_count": 96,
     "metadata": {},
     "output_type": "execute_result"
    }
   ],
   "source": [
    "pointings"
   ]
  },
  {
   "cell_type": "code",
   "execution_count": 97,
   "metadata": {},
   "outputs": [],
   "source": [
    "ra_dec_gal_coords_2 = np.array(ra_dec_gal_coords_2)"
   ]
  },
  {
   "cell_type": "code",
   "execution_count": 98,
   "metadata": {},
   "outputs": [
    {
     "data": {
      "text/plain": [
       "(324, 4)"
      ]
     },
     "execution_count": 98,
     "metadata": {},
     "output_type": "execute_result"
    }
   ],
   "source": [
    "ra_dec_gal_coords_2.shape"
   ]
  },
  {
   "cell_type": "code",
   "execution_count": 99,
   "metadata": {},
   "outputs": [
    {
     "data": {
      "text/plain": [
       "array([ 60. ,  60. ,  60. ,  60. ,  60. ,  60. ,  60. ,  60. ,  60. ,\n",
       "        60. ,  60. ,  60. ,  64.6,  64.6,  64.6,  64.6,  64.6,  64.6,\n",
       "        64.6,  64.6,  64.6,  64.6,  64.6,  64.6,  69.2,  69.2,  69.2,\n",
       "        69.2,  69.2,  69.2,  69.2,  69.2,  69.2,  69.2,  69.2,  69.2,\n",
       "        73.8,  73.8,  73.8,  73.8,  73.8,  73.8,  73.8,  73.8,  73.8,\n",
       "        73.8,  73.8,  73.8,  78.4,  78.4,  78.4,  78.4,  78.4,  78.4,\n",
       "        78.4,  78.4,  78.4,  78.4,  78.4,  78.4,  83. ,  83. ,  83. ,\n",
       "        83. ,  83. ,  83. ,  83. ,  83. ,  83. ,  83. ,  83. ,  83. ,\n",
       "        87.6,  87.6,  87.6,  87.6,  87.6,  87.6,  87.6,  87.6,  87.6,\n",
       "        87.6,  87.6,  87.6,  92.2,  92.2,  92.2,  92.2,  92.2,  92.2,\n",
       "        92.2,  92.2,  92.2,  92.2,  92.2,  92.2,  96.8,  96.8,  96.8,\n",
       "        96.8,  96.8,  96.8,  96.8,  96.8,  96.8,  96.8,  96.8,  96.8,\n",
       "       101.4, 101.4, 101.4, 101.4, 101.4, 101.4, 101.4, 101.4, 101.4,\n",
       "       101.4, 101.4, 101.4, 106. , 106. , 106. , 106. , 106. , 106. ,\n",
       "       106. , 106. , 106. , 106. , 106. , 106. , 110.6, 110.6, 110.6,\n",
       "       110.6, 110.6, 110.6, 110.6, 110.6, 110.6, 110.6, 110.6, 110.6,\n",
       "       115.2, 115.2, 115.2, 115.2, 115.2, 115.2, 115.2, 115.2, 115.2,\n",
       "       115.2, 115.2, 115.2, 119.8, 119.8, 119.8, 119.8, 119.8, 119.8,\n",
       "       119.8, 119.8, 119.8, 119.8, 119.8, 119.8, 124.4, 124.4, 124.4,\n",
       "       124.4, 124.4, 124.4, 124.4, 124.4, 124.4, 124.4, 124.4, 124.4,\n",
       "       129. , 129. , 129. , 129. , 129. , 129. , 129. , 129. , 129. ,\n",
       "       129. , 129. , 129. , 133.6, 133.6, 133.6, 133.6, 133.6, 133.6,\n",
       "       133.6, 133.6, 133.6, 133.6, 133.6, 133.6, 138.2, 138.2, 138.2,\n",
       "       138.2, 138.2, 138.2, 138.2, 138.2, 138.2, 138.2, 138.2, 138.2,\n",
       "       142.8, 142.8, 142.8, 142.8, 142.8, 142.8, 142.8, 142.8, 142.8,\n",
       "       142.8, 142.8, 142.8, 147.4, 147.4, 147.4, 147.4, 147.4, 147.4,\n",
       "       147.4, 147.4, 147.4, 147.4, 147.4, 147.4, 152. , 152. , 152. ,\n",
       "       152. , 152. , 152. , 152. , 152. , 152. , 152. , 152. , 152. ,\n",
       "       156.6, 156.6, 156.6, 156.6, 156.6, 156.6, 156.6, 156.6, 156.6,\n",
       "       156.6, 156.6, 156.6, 161.2, 161.2, 161.2, 161.2, 161.2, 161.2,\n",
       "       161.2, 161.2, 161.2, 161.2, 161.2, 161.2, 165.8, 165.8, 165.8,\n",
       "       165.8, 165.8, 165.8, 165.8, 165.8, 165.8, 165.8, 165.8, 165.8,\n",
       "       170.4, 170.4, 170.4, 170.4, 170.4, 170.4, 170.4, 170.4, 170.4,\n",
       "       170.4, 170.4, 170.4, 175. , 175. , 175. , 175. , 175. , 175. ,\n",
       "       175. , 175. , 175. , 175. , 175. , 175. , 179.6, 179.6, 179.6,\n",
       "       179.6, 179.6, 179.6, 179.6, 179.6, 179.6, 179.6, 179.6, 179.6])"
      ]
     },
     "execution_count": 99,
     "metadata": {},
     "output_type": "execute_result"
    }
   ],
   "source": [
    "ra_dec_gal_coords_2[:,0]"
   ]
  },
  {
   "cell_type": "code",
   "execution_count": 100,
   "metadata": {},
   "outputs": [],
   "source": [
    "import pandas as pd"
   ]
  },
  {
   "cell_type": "code",
   "execution_count": 18,
   "metadata": {},
   "outputs": [
    {
     "data": {
      "text/plain": [
       "array([ 60.        ,  37.        , 255.37913878,  36.71647848])"
      ]
     },
     "execution_count": 18,
     "metadata": {},
     "output_type": "execute_result"
    }
   ],
   "source": [
    "ra_dec_gal_coords_2[5]"
   ]
  },
  {
   "cell_type": "code",
   "execution_count": null,
   "metadata": {},
   "outputs": [],
   "source": [
    "gal_ra_dec_dict = {\n",
    "    'L': ra_dec_gal_coords_2[:,0], \n",
    "    'B': ra_dec_gal_coords_2[:,1],\n",
    "    'RA': ra_dec_gal_coords_2[:,2], \n",
    "    'DEC': ra_dec_gal_coords_2[:,3]}\n",
    "\n"
   ]
  },
  {
   "cell_type": "code",
   "execution_count": 20,
   "metadata": {},
   "outputs": [],
   "source": [
    "gal_ra_dec = pd.DataFrame(gal_ra_dec_dict)"
   ]
  },
  {
   "cell_type": "code",
   "execution_count": 22,
   "metadata": {},
   "outputs": [],
   "source": [
    "ra_sorted = gal_ra_dec.sort_values('RA', ascending=True)"
   ]
  },
  {
   "cell_type": "code",
   "execution_count": 23,
   "metadata": {},
   "outputs": [],
   "source": [
    "ra_sorted.reset_index(inplace=True)"
   ]
  },
  {
   "cell_type": "code",
   "execution_count": 24,
   "metadata": {},
   "outputs": [],
   "source": [
    "ra_sorted['Galactic_Index'] = ra_sorted['index']"
   ]
  },
  {
   "cell_type": "code",
   "execution_count": 25,
   "metadata": {},
   "outputs": [],
   "source": [
    "ra_sorted = ra_sorted.drop(columns='index')"
   ]
  },
  {
   "cell_type": "code",
   "execution_count": null,
   "metadata": {},
   "outputs": [],
   "source": []
  },
  {
   "cell_type": "code",
   "execution_count": 26,
   "metadata": {},
   "outputs": [
    {
     "data": {
      "text/html": [
       "<div>\n",
       "<style scoped>\n",
       "    .dataframe tbody tr th:only-of-type {\n",
       "        vertical-align: middle;\n",
       "    }\n",
       "\n",
       "    .dataframe tbody tr th {\n",
       "        vertical-align: top;\n",
       "    }\n",
       "\n",
       "    .dataframe thead th {\n",
       "        text-align: right;\n",
       "    }\n",
       "</style>\n",
       "<table border=\"1\" class=\"dataframe\">\n",
       "  <thead>\n",
       "    <tr style=\"text-align: right;\">\n",
       "      <th></th>\n",
       "      <th>L</th>\n",
       "      <th>B</th>\n",
       "      <th>RA</th>\n",
       "      <th>DEC</th>\n",
       "      <th>Galactic_Index</th>\n",
       "    </tr>\n",
       "  </thead>\n",
       "  <tbody>\n",
       "    <tr>\n",
       "      <th>0</th>\n",
       "      <td>124.4</td>\n",
       "      <td>20.0</td>\n",
       "      <td>23.851192</td>\n",
       "      <td>82.746098</td>\n",
       "      <td>168</td>\n",
       "    </tr>\n",
       "    <tr>\n",
       "      <th>1</th>\n",
       "      <td>124.4</td>\n",
       "      <td>23.4</td>\n",
       "      <td>32.778248</td>\n",
       "      <td>86.042542</td>\n",
       "      <td>169</td>\n",
       "    </tr>\n",
       "    <tr>\n",
       "      <th>2</th>\n",
       "      <td>129.0</td>\n",
       "      <td>20.0</td>\n",
       "      <td>52.084066</td>\n",
       "      <td>80.962227</td>\n",
       "      <td>180</td>\n",
       "    </tr>\n",
       "    <tr>\n",
       "      <th>3</th>\n",
       "      <td>133.6</td>\n",
       "      <td>20.0</td>\n",
       "      <td>69.006710</td>\n",
       "      <td>77.908980</td>\n",
       "      <td>192</td>\n",
       "    </tr>\n",
       "    <tr>\n",
       "      <th>4</th>\n",
       "      <td>129.0</td>\n",
       "      <td>23.4</td>\n",
       "      <td>69.993942</td>\n",
       "      <td>83.367395</td>\n",
       "      <td>181</td>\n",
       "    </tr>\n",
       "    <tr>\n",
       "      <th>...</th>\n",
       "      <td>...</td>\n",
       "      <td>...</td>\n",
       "      <td>...</td>\n",
       "      <td>...</td>\n",
       "      <td>...</td>\n",
       "    </tr>\n",
       "    <tr>\n",
       "      <th>319</th>\n",
       "      <td>115.2</td>\n",
       "      <td>23.4</td>\n",
       "      <td>309.232324</td>\n",
       "      <td>82.078465</td>\n",
       "      <td>145</td>\n",
       "    </tr>\n",
       "    <tr>\n",
       "      <th>320</th>\n",
       "      <td>110.6</td>\n",
       "      <td>20.0</td>\n",
       "      <td>312.501293</td>\n",
       "      <td>76.649154</td>\n",
       "      <td>132</td>\n",
       "    </tr>\n",
       "    <tr>\n",
       "      <th>321</th>\n",
       "      <td>115.2</td>\n",
       "      <td>20.0</td>\n",
       "      <td>326.412516</td>\n",
       "      <td>79.953801</td>\n",
       "      <td>144</td>\n",
       "    </tr>\n",
       "    <tr>\n",
       "      <th>322</th>\n",
       "      <td>119.8</td>\n",
       "      <td>23.4</td>\n",
       "      <td>334.954938</td>\n",
       "      <td>85.318438</td>\n",
       "      <td>157</td>\n",
       "    </tr>\n",
       "    <tr>\n",
       "      <th>323</th>\n",
       "      <td>119.8</td>\n",
       "      <td>20.0</td>\n",
       "      <td>350.278198</td>\n",
       "      <td>82.316496</td>\n",
       "      <td>156</td>\n",
       "    </tr>\n",
       "  </tbody>\n",
       "</table>\n",
       "<p>324 rows × 5 columns</p>\n",
       "</div>"
      ],
      "text/plain": [
       "         L     B          RA        DEC  Galactic_Index\n",
       "0    124.4  20.0   23.851192  82.746098             168\n",
       "1    124.4  23.4   32.778248  86.042542             169\n",
       "2    129.0  20.0   52.084066  80.962227             180\n",
       "3    133.6  20.0   69.006710  77.908980             192\n",
       "4    129.0  23.4   69.993942  83.367395             181\n",
       "..     ...   ...         ...        ...             ...\n",
       "319  115.2  23.4  309.232324  82.078465             145\n",
       "320  110.6  20.0  312.501293  76.649154             132\n",
       "321  115.2  20.0  326.412516  79.953801             144\n",
       "322  119.8  23.4  334.954938  85.318438             157\n",
       "323  119.8  20.0  350.278198  82.316496             156\n",
       "\n",
       "[324 rows x 5 columns]"
      ]
     },
     "execution_count": 26,
     "metadata": {},
     "output_type": "execute_result"
    }
   ],
   "source": [
    "ra_sorted"
   ]
  },
  {
   "cell_type": "code",
   "execution_count": 27,
   "metadata": {},
   "outputs": [
    {
     "data": {
      "text/plain": [
       "L                 124.400000\n",
       "B                  23.400000\n",
       "RA                 32.778248\n",
       "DEC                86.042542\n",
       "Galactic_Index    169.000000\n",
       "Name: 1, dtype: float64"
      ]
     },
     "execution_count": 27,
     "metadata": {},
     "output_type": "execute_result"
    }
   ],
   "source": [
    "ra_sorted.loc[1]"
   ]
  },
  {
   "cell_type": "code",
   "execution_count": 28,
   "metadata": {},
   "outputs": [
    {
     "data": {
      "text/plain": [
       "124.39999999999992"
      ]
     },
     "execution_count": 28,
     "metadata": {},
     "output_type": "execute_result"
    }
   ],
   "source": [
    "ra_sorted.loc[1][0]"
   ]
  },
  {
   "cell_type": "code",
   "execution_count": 29,
   "metadata": {},
   "outputs": [],
   "source": [
    "ra_sorted.to_csv('RA_Sorted.csv')"
   ]
  },
  {
   "cell_type": "code",
   "execution_count": 67,
   "metadata": {},
   "outputs": [
    {
     "data": {
      "text/html": [
       "<div>\n",
       "<style scoped>\n",
       "    .dataframe tbody tr th:only-of-type {\n",
       "        vertical-align: middle;\n",
       "    }\n",
       "\n",
       "    .dataframe tbody tr th {\n",
       "        vertical-align: top;\n",
       "    }\n",
       "\n",
       "    .dataframe thead th {\n",
       "        text-align: right;\n",
       "    }\n",
       "</style>\n",
       "<table border=\"1\" class=\"dataframe\">\n",
       "  <thead>\n",
       "    <tr style=\"text-align: right;\">\n",
       "      <th></th>\n",
       "      <th>L</th>\n",
       "      <th>B</th>\n",
       "      <th>RA</th>\n",
       "      <th>DEC</th>\n",
       "      <th>Galactic_Index</th>\n",
       "    </tr>\n",
       "  </thead>\n",
       "  <tbody>\n",
       "    <tr>\n",
       "      <th>0</th>\n",
       "      <td>124.4</td>\n",
       "      <td>20.0</td>\n",
       "      <td>23.851192</td>\n",
       "      <td>82.746098</td>\n",
       "      <td>168</td>\n",
       "    </tr>\n",
       "    <tr>\n",
       "      <th>1</th>\n",
       "      <td>124.4</td>\n",
       "      <td>23.4</td>\n",
       "      <td>32.778248</td>\n",
       "      <td>86.042542</td>\n",
       "      <td>169</td>\n",
       "    </tr>\n",
       "    <tr>\n",
       "      <th>2</th>\n",
       "      <td>129.0</td>\n",
       "      <td>20.0</td>\n",
       "      <td>52.084066</td>\n",
       "      <td>80.962227</td>\n",
       "      <td>180</td>\n",
       "    </tr>\n",
       "    <tr>\n",
       "      <th>3</th>\n",
       "      <td>133.6</td>\n",
       "      <td>20.0</td>\n",
       "      <td>69.006710</td>\n",
       "      <td>77.908980</td>\n",
       "      <td>192</td>\n",
       "    </tr>\n",
       "    <tr>\n",
       "      <th>4</th>\n",
       "      <td>129.0</td>\n",
       "      <td>23.4</td>\n",
       "      <td>69.993942</td>\n",
       "      <td>83.367395</td>\n",
       "      <td>181</td>\n",
       "    </tr>\n",
       "    <tr>\n",
       "      <th>...</th>\n",
       "      <td>...</td>\n",
       "      <td>...</td>\n",
       "      <td>...</td>\n",
       "      <td>...</td>\n",
       "      <td>...</td>\n",
       "    </tr>\n",
       "    <tr>\n",
       "      <th>319</th>\n",
       "      <td>115.2</td>\n",
       "      <td>23.4</td>\n",
       "      <td>309.232324</td>\n",
       "      <td>82.078465</td>\n",
       "      <td>145</td>\n",
       "    </tr>\n",
       "    <tr>\n",
       "      <th>320</th>\n",
       "      <td>110.6</td>\n",
       "      <td>20.0</td>\n",
       "      <td>312.501293</td>\n",
       "      <td>76.649154</td>\n",
       "      <td>132</td>\n",
       "    </tr>\n",
       "    <tr>\n",
       "      <th>321</th>\n",
       "      <td>115.2</td>\n",
       "      <td>20.0</td>\n",
       "      <td>326.412516</td>\n",
       "      <td>79.953801</td>\n",
       "      <td>144</td>\n",
       "    </tr>\n",
       "    <tr>\n",
       "      <th>322</th>\n",
       "      <td>119.8</td>\n",
       "      <td>23.4</td>\n",
       "      <td>334.954938</td>\n",
       "      <td>85.318438</td>\n",
       "      <td>157</td>\n",
       "    </tr>\n",
       "    <tr>\n",
       "      <th>323</th>\n",
       "      <td>119.8</td>\n",
       "      <td>20.0</td>\n",
       "      <td>350.278198</td>\n",
       "      <td>82.316496</td>\n",
       "      <td>156</td>\n",
       "    </tr>\n",
       "  </tbody>\n",
       "</table>\n",
       "<p>324 rows × 5 columns</p>\n",
       "</div>"
      ],
      "text/plain": [
       "         L     B          RA        DEC  Galactic_Index\n",
       "0    124.4  20.0   23.851192  82.746098             168\n",
       "1    124.4  23.4   32.778248  86.042542             169\n",
       "2    129.0  20.0   52.084066  80.962227             180\n",
       "3    133.6  20.0   69.006710  77.908980             192\n",
       "4    129.0  23.4   69.993942  83.367395             181\n",
       "..     ...   ...         ...        ...             ...\n",
       "319  115.2  23.4  309.232324  82.078465             145\n",
       "320  110.6  20.0  312.501293  76.649154             132\n",
       "321  115.2  20.0  326.412516  79.953801             144\n",
       "322  119.8  23.4  334.954938  85.318438             157\n",
       "323  119.8  20.0  350.278198  82.316496             156\n",
       "\n",
       "[324 rows x 5 columns]"
      ]
     },
     "execution_count": 67,
     "metadata": {},
     "output_type": "execute_result"
    }
   ],
   "source": [
    "ra_sorted"
   ]
  },
  {
   "cell_type": "code",
   "execution_count": 69,
   "metadata": {},
   "outputs": [
    {
     "data": {
      "text/plain": [
       "dtype('float64')"
      ]
     },
     "execution_count": 69,
     "metadata": {},
     "output_type": "execute_result"
    }
   ],
   "source": [
    "ra_sorted.loc[0].dtype"
   ]
  },
  {
   "cell_type": "code",
   "execution_count": 84,
   "metadata": {},
   "outputs": [
    {
     "data": {
      "text/plain": [
       "1713843153.056066"
      ]
     },
     "execution_count": 84,
     "metadata": {},
     "output_type": "execute_result"
    }
   ],
   "source": [
    "time.time()"
   ]
  },
  {
   "cell_type": "code",
   "execution_count": null,
   "metadata": {},
   "outputs": [],
   "source": [
    "1713841236\n",
    "1713841296"
   ]
  },
  {
   "cell_type": "code",
   "execution_count": 85,
   "metadata": {},
   "outputs": [],
   "source": [
    "def leusch_gal_to_AltAz(L,B):\n",
    "\n",
    "    # set galactic coordinates \n",
    "    galactic_coords = SkyCoord(l = L*u.deg, b = B*u.deg, frame = 'galactic') \n",
    "\n",
    "    # set Leuschner observation location (latitude, longtidue, elevation)\n",
    "    Leusch_coords = EarthLocation(lat = leo.lat*u.deg, lon = -leo.lon*u.deg, height = leo.alt*u.m)\n",
    "\n",
    "    # set observation time in UNIX \n",
    "    observation_time = astropy.time.Time(time.time(), format = 'unix')\n",
    "\n",
    "    # convert to AltAz using astropy transformation \n",
    "    alt_az_coords = galactic_coords.transform_to(AltAz(obstime = observation_time, location = Leusch_coords))\n",
    "\n",
    "    # get ra, dec\n",
    "    \n",
    "    # extract altitude and azimuth from the coordinates \n",
    "    alt_point = alt_az_coords.alt.deg\n",
    "    az_point = alt_az_coords.az.deg\n",
    "\n",
    "    AltAz_point = [alt_point, az_point]\n",
    "\n",
    "    return AltAz_point"
   ]
  },
  {
   "cell_type": "code",
   "execution_count": 86,
   "metadata": {},
   "outputs": [
    {
     "data": {
      "text/plain": [
       "array([179.6,  57.4])"
      ]
     },
     "execution_count": 86,
     "metadata": {},
     "output_type": "execute_result"
    }
   ],
   "source": [
    "galactic_coords"
   ]
  },
  {
   "cell_type": "code",
   "execution_count": 139,
   "metadata": {},
   "outputs": [],
   "source": [
    "ra_dec_az = []\n",
    "\n",
    "for i in range(len(pointings)): \n",
    "    galactic_coords = pointings[i]\n",
    "    coords = SkyCoord(l=galactic_coords[0]*u.deg, b=galactic_coords[1]*u.deg, frame='galactic')\n",
    "    icrs_coords = coords.transform_to(ICRS())\n",
    "    alt_az = leusch_gal_to_AltAz(galactic_coords[0], galactic_coords[1])\n",
    "    # Append the data in the desired format\n",
    "    ra_dec_az.append([\n",
    "        galactic_coords[0],  # galactic_l\n",
    "        galactic_coords[1],  # galactic_b\n",
    "        icrs_coords.ra.deg,  # ra\n",
    "        icrs_coords.dec.deg,  # dec\n",
    "        alt_az[0], \n",
    "        alt_az[1]\n",
    "    ])"
   ]
  },
  {
   "cell_type": "code",
   "execution_count": 140,
   "metadata": {},
   "outputs": [],
   "source": [
    "ra_dec_az = np.array(ra_dec_az)"
   ]
  },
  {
   "cell_type": "code",
   "execution_count": 141,
   "metadata": {},
   "outputs": [],
   "source": [
    "ra_dec_az_dict = {\n",
    "    'L': ra_dec_az[:,0], \n",
    "    'B': ra_dec_az[:,1],\n",
    "    'RA': ra_dec_az[:,2], \n",
    "    'DEC': ra_dec_az[:,3], \n",
    "    'ALT': ra_dec_az[:,4], \n",
    "    'AZ': ra_dec_az[:,5]}\n",
    "\n"
   ]
  },
  {
   "cell_type": "code",
   "execution_count": 142,
   "metadata": {},
   "outputs": [],
   "source": [
    "ra_dec_az_table = pd.DataFrame(ra_dec_az_dict)"
   ]
  },
  {
   "cell_type": "code",
   "execution_count": 143,
   "metadata": {},
   "outputs": [],
   "source": [
    "ra_dec_az_sorted = ra_dec_az_table.sort_values('RA', ascending=True)"
   ]
  },
  {
   "cell_type": "code",
   "execution_count": 144,
   "metadata": {},
   "outputs": [],
   "source": [
    "ra_dec_az_sorted.reset_index(inplace=True)"
   ]
  },
  {
   "cell_type": "code",
   "execution_count": 145,
   "metadata": {},
   "outputs": [],
   "source": [
    "first_hunny = ra_dec_az_sorted[0:100]"
   ]
  },
  {
   "cell_type": "code",
   "execution_count": 146,
   "metadata": {},
   "outputs": [
    {
     "data": {
      "text/html": [
       "<div>\n",
       "<style scoped>\n",
       "    .dataframe tbody tr th:only-of-type {\n",
       "        vertical-align: middle;\n",
       "    }\n",
       "\n",
       "    .dataframe tbody tr th {\n",
       "        vertical-align: top;\n",
       "    }\n",
       "\n",
       "    .dataframe thead th {\n",
       "        text-align: right;\n",
       "    }\n",
       "</style>\n",
       "<table border=\"1\" class=\"dataframe\">\n",
       "  <thead>\n",
       "    <tr style=\"text-align: right;\">\n",
       "      <th></th>\n",
       "      <th>index</th>\n",
       "      <th>L</th>\n",
       "      <th>B</th>\n",
       "      <th>RA</th>\n",
       "      <th>DEC</th>\n",
       "      <th>ALT</th>\n",
       "      <th>AZ</th>\n",
       "    </tr>\n",
       "  </thead>\n",
       "  <tbody>\n",
       "    <tr>\n",
       "      <th>0</th>\n",
       "      <td>168</td>\n",
       "      <td>124.4</td>\n",
       "      <td>20.0</td>\n",
       "      <td>23.851192</td>\n",
       "      <td>82.746098</td>\n",
       "      <td>44.990235</td>\n",
       "      <td>358.774481</td>\n",
       "    </tr>\n",
       "    <tr>\n",
       "      <th>1</th>\n",
       "      <td>169</td>\n",
       "      <td>124.4</td>\n",
       "      <td>23.4</td>\n",
       "      <td>32.778248</td>\n",
       "      <td>86.042542</td>\n",
       "      <td>41.758125</td>\n",
       "      <td>0.227375</td>\n",
       "    </tr>\n",
       "    <tr>\n",
       "      <th>2</th>\n",
       "      <td>180</td>\n",
       "      <td>129.0</td>\n",
       "      <td>20.0</td>\n",
       "      <td>52.084066</td>\n",
       "      <td>80.962227</td>\n",
       "      <td>46.160215</td>\n",
       "      <td>4.721127</td>\n",
       "    </tr>\n",
       "    <tr>\n",
       "      <th>3</th>\n",
       "      <td>192</td>\n",
       "      <td>133.6</td>\n",
       "      <td>20.0</td>\n",
       "      <td>69.006710</td>\n",
       "      <td>77.908980</td>\n",
       "      <td>46.892344</td>\n",
       "      <td>10.914794</td>\n",
       "    </tr>\n",
       "    <tr>\n",
       "      <th>4</th>\n",
       "      <td>181</td>\n",
       "      <td>129.0</td>\n",
       "      <td>23.4</td>\n",
       "      <td>69.993942</td>\n",
       "      <td>83.367395</td>\n",
       "      <td>42.839483</td>\n",
       "      <td>5.745861</td>\n",
       "    </tr>\n",
       "    <tr>\n",
       "      <th>...</th>\n",
       "      <td>...</td>\n",
       "      <td>...</td>\n",
       "      <td>...</td>\n",
       "      <td>...</td>\n",
       "      <td>...</td>\n",
       "      <td>...</td>\n",
       "      <td>...</td>\n",
       "    </tr>\n",
       "    <tr>\n",
       "      <th>95</th>\n",
       "      <td>260</td>\n",
       "      <td>156.6</td>\n",
       "      <td>47.2</td>\n",
       "      <td>149.232136</td>\n",
       "      <td>56.912099</td>\n",
       "      <td>18.099080</td>\n",
       "      <td>30.536473</td>\n",
       "    </tr>\n",
       "    <tr>\n",
       "      <th>96</th>\n",
       "      <td>297</td>\n",
       "      <td>170.4</td>\n",
       "      <td>50.6</td>\n",
       "      <td>149.311997</td>\n",
       "      <td>47.242079</td>\n",
       "      <td>11.366036</td>\n",
       "      <td>37.719827</td>\n",
       "    </tr>\n",
       "    <tr>\n",
       "      <th>97</th>\n",
       "      <td>235</td>\n",
       "      <td>147.4</td>\n",
       "      <td>43.8</td>\n",
       "      <td>149.488549</td>\n",
       "      <td>64.194280</td>\n",
       "      <td>22.872520</td>\n",
       "      <td>24.660736</td>\n",
       "    </tr>\n",
       "    <tr>\n",
       "      <th>98</th>\n",
       "      <td>285</td>\n",
       "      <td>165.8</td>\n",
       "      <td>50.6</td>\n",
       "      <td>150.621767</td>\n",
       "      <td>50.030239</td>\n",
       "      <td>12.722186</td>\n",
       "      <td>35.076093</td>\n",
       "    </tr>\n",
       "    <tr>\n",
       "      <th>99</th>\n",
       "      <td>248</td>\n",
       "      <td>152.0</td>\n",
       "      <td>47.2</td>\n",
       "      <td>152.043832</td>\n",
       "      <td>59.666239</td>\n",
       "      <td>18.922718</td>\n",
       "      <td>27.357171</td>\n",
       "    </tr>\n",
       "  </tbody>\n",
       "</table>\n",
       "<p>100 rows × 7 columns</p>\n",
       "</div>"
      ],
      "text/plain": [
       "    index      L     B          RA        DEC        ALT          AZ\n",
       "0     168  124.4  20.0   23.851192  82.746098  44.990235  358.774481\n",
       "1     169  124.4  23.4   32.778248  86.042542  41.758125    0.227375\n",
       "2     180  129.0  20.0   52.084066  80.962227  46.160215    4.721127\n",
       "3     192  133.6  20.0   69.006710  77.908980  46.892344   10.914794\n",
       "4     181  129.0  23.4   69.993942  83.367395  42.839483    5.745861\n",
       "..    ...    ...   ...         ...        ...        ...         ...\n",
       "95    260  156.6  47.2  149.232136  56.912099  18.099080   30.536473\n",
       "96    297  170.4  50.6  149.311997  47.242079  11.366036   37.719827\n",
       "97    235  147.4  43.8  149.488549  64.194280  22.872520   24.660736\n",
       "98    285  165.8  50.6  150.621767  50.030239  12.722186   35.076093\n",
       "99    248  152.0  47.2  152.043832  59.666239  18.922718   27.357171\n",
       "\n",
       "[100 rows x 7 columns]"
      ]
     },
     "execution_count": 146,
     "metadata": {},
     "output_type": "execute_result"
    }
   ],
   "source": [
    "first_hunny"
   ]
  },
  {
   "cell_type": "code",
   "execution_count": 147,
   "metadata": {},
   "outputs": [
    {
     "data": {
      "text/html": [
       "<div>\n",
       "<style scoped>\n",
       "    .dataframe tbody tr th:only-of-type {\n",
       "        vertical-align: middle;\n",
       "    }\n",
       "\n",
       "    .dataframe tbody tr th {\n",
       "        vertical-align: top;\n",
       "    }\n",
       "\n",
       "    .dataframe thead th {\n",
       "        text-align: right;\n",
       "    }\n",
       "</style>\n",
       "<table border=\"1\" class=\"dataframe\">\n",
       "  <thead>\n",
       "    <tr style=\"text-align: right;\">\n",
       "      <th></th>\n",
       "      <th>index</th>\n",
       "      <th>L</th>\n",
       "      <th>B</th>\n",
       "      <th>RA</th>\n",
       "      <th>DEC</th>\n",
       "      <th>ALT</th>\n",
       "      <th>AZ</th>\n",
       "    </tr>\n",
       "  </thead>\n",
       "  <tbody>\n",
       "    <tr>\n",
       "      <th>76</th>\n",
       "      <td>319</td>\n",
       "      <td>179.6</td>\n",
       "      <td>43.8</td>\n",
       "      <td>138.674248</td>\n",
       "      <td>41.957130</td>\n",
       "      <td>13.481394</td>\n",
       "      <td>46.914095</td>\n",
       "    </tr>\n",
       "    <tr>\n",
       "      <th>84</th>\n",
       "      <td>320</td>\n",
       "      <td>179.6</td>\n",
       "      <td>47.2</td>\n",
       "      <td>143.238572</td>\n",
       "      <td>41.823769</td>\n",
       "      <td>10.810849</td>\n",
       "      <td>44.760872</td>\n",
       "    </tr>\n",
       "    <tr>\n",
       "      <th>86</th>\n",
       "      <td>308</td>\n",
       "      <td>175.0</td>\n",
       "      <td>47.2</td>\n",
       "      <td>143.658295</td>\n",
       "      <td>44.933834</td>\n",
       "      <td>12.651409</td>\n",
       "      <td>42.181078</td>\n",
       "    </tr>\n",
       "    <tr>\n",
       "      <th>88</th>\n",
       "      <td>296</td>\n",
       "      <td>170.4</td>\n",
       "      <td>47.2</td>\n",
       "      <td>144.398684</td>\n",
       "      <td>48.016979</td>\n",
       "      <td>14.313332</td>\n",
       "      <td>39.459210</td>\n",
       "    </tr>\n",
       "    <tr>\n",
       "      <th>93</th>\n",
       "      <td>321</td>\n",
       "      <td>179.6</td>\n",
       "      <td>50.6</td>\n",
       "      <td>147.771223</td>\n",
       "      <td>41.510818</td>\n",
       "      <td>8.125670</td>\n",
       "      <td>42.645761</td>\n",
       "    </tr>\n",
       "    <tr>\n",
       "      <th>94</th>\n",
       "      <td>309</td>\n",
       "      <td>175.0</td>\n",
       "      <td>50.6</td>\n",
       "      <td>148.379288</td>\n",
       "      <td>44.396013</td>\n",
       "      <td>9.830067</td>\n",
       "      <td>40.245860</td>\n",
       "    </tr>\n",
       "    <tr>\n",
       "      <th>96</th>\n",
       "      <td>297</td>\n",
       "      <td>170.4</td>\n",
       "      <td>50.6</td>\n",
       "      <td>149.311997</td>\n",
       "      <td>47.242079</td>\n",
       "      <td>11.366036</td>\n",
       "      <td>37.719827</td>\n",
       "    </tr>\n",
       "    <tr>\n",
       "      <th>98</th>\n",
       "      <td>285</td>\n",
       "      <td>165.8</td>\n",
       "      <td>50.6</td>\n",
       "      <td>150.621767</td>\n",
       "      <td>50.030239</td>\n",
       "      <td>12.722186</td>\n",
       "      <td>35.076093</td>\n",
       "    </tr>\n",
       "  </tbody>\n",
       "</table>\n",
       "</div>"
      ],
      "text/plain": [
       "    index      L     B          RA        DEC        ALT         AZ\n",
       "76    319  179.6  43.8  138.674248  41.957130  13.481394  46.914095\n",
       "84    320  179.6  47.2  143.238572  41.823769  10.810849  44.760872\n",
       "86    308  175.0  47.2  143.658295  44.933834  12.651409  42.181078\n",
       "88    296  170.4  47.2  144.398684  48.016979  14.313332  39.459210\n",
       "93    321  179.6  50.6  147.771223  41.510818   8.125670  42.645761\n",
       "94    309  175.0  50.6  148.379288  44.396013   9.830067  40.245860\n",
       "96    297  170.4  50.6  149.311997  47.242079  11.366036  37.719827\n",
       "98    285  165.8  50.6  150.621767  50.030239  12.722186  35.076093"
      ]
     },
     "execution_count": 147,
     "metadata": {},
     "output_type": "execute_result"
    }
   ],
   "source": [
    "first_hunny[first_hunny['ALT']<15]"
   ]
  },
  {
   "cell_type": "code",
   "execution_count": 76,
   "metadata": {},
   "outputs": [],
   "source": [
    "leolat = leo.lat"
   ]
  },
  {
   "cell_type": "code",
   "execution_count": 77,
   "metadata": {},
   "outputs": [
    {
     "name": "stdout",
     "output_type": "stream",
     "text": [
      "37.9183\n"
     ]
    }
   ],
   "source": [
    "print(leolat)"
   ]
  },
  {
   "cell_type": "code",
   "execution_count": 31,
   "metadata": {},
   "outputs": [
    {
     "data": {
      "text/plain": [
       "<Time object: scale='utc' format='unix' value=1713839537.671554>"
      ]
     },
     "execution_count": 31,
     "metadata": {},
     "output_type": "execute_result"
    }
   ],
   "source": [
    "astropy.time.Time(time.time(), format='unix')"
   ]
  },
  {
   "cell_type": "code",
   "execution_count": 32,
   "metadata": {},
   "outputs": [
    {
     "name": "stdout",
     "output_type": "stream",
     "text": [
      "Unix time for 10 am tomorrow: 1713952800.0\n"
     ]
    },
    {
     "name": "stderr",
     "output_type": "stream",
     "text": [
      "WARNING: TimeDeltaMissingUnitWarning: Numerical value without unit or explicit format passed to TimeDelta, assuming days [astropy.time.core]\n"
     ]
    }
   ],
   "source": [
    "from astropy.time import Time\n",
    "import time\n",
    "\n",
    "# Get the current UTC time\n",
    "current_time = Time.now()\n",
    "\n",
    "# Calculate the time for 10 am tomorrow\n",
    "tomorrow_time = current_time + 1  # Add one day\n",
    "tomorrow_time = Time(tomorrow_time.iso.split(' ')[0] + ' 10:00:00', format='iso', scale='utc')\n",
    "\n",
    "# Convert to Unix time\n",
    "unix_time = tomorrow_time.unix\n",
    "\n",
    "print(f\"Unix time for 10 am tomorrow: {unix_time}\")"
   ]
  },
  {
   "cell_type": "code",
   "execution_count": null,
   "metadata": {},
   "outputs": [],
   "source": []
  },
  {
   "cell_type": "code",
   "execution_count": 33,
   "metadata": {},
   "outputs": [],
   "source": [
    "\n",
    "def altaz_predict(time=unix_time):\n",
    "    altaz_coords = []\n",
    "    for i in range(len(ra_sorted)): \n",
    "        galactic_coords = np.array([ra_sorted.loc[i][0], ra_sorted.loc[i][1]])\n",
    "        coords = SkyCoord(l=galactic_coords[0]*u.deg, b=galactic_coords[1]*u.deg, frame='galactic')\n",
    "        observing_location = EarthLocation(lat=leo.lat*u.deg, lon=-leo.lon*u.deg, height=leo.alt*u.m)\n",
    "        observation_time = astropy.time.Time(time, format = 'unix')\n",
    "        altaz = coords.transform_to(AltAz(obstime=observation_time, location=observing_location))\n",
    "        altaz_coords.append([altaz.alt.deg, altaz.az.deg])\n",
    "    return altaz_coords"
   ]
  },
  {
   "cell_type": "code",
   "execution_count": 34,
   "metadata": {},
   "outputs": [],
   "source": [
    "def visible_predict(time=unix_time):\n",
    "    new_alt = altaz_predict(time = time)\n",
    "    new_array = np.array(new_alt)\n",
    "    new_dict = {'alt': new_array[:, 0], 'az': new_array[:, 1]}\n",
    "    new_dict_frame = pd.DataFrame(new_dict)\n",
    "    new_below_horiz = new_dict_frame[new_dict_frame['alt']<0]\n",
    "    return len(new_below_horiz), new_below_horiz\n"
   ]
  },
  {
   "cell_type": "code",
   "execution_count": 35,
   "metadata": {},
   "outputs": [
    {
     "data": {
      "text/plain": [
       "(0,\n",
       " Empty DataFrame\n",
       " Columns: [alt, az]\n",
       " Index: [])"
      ]
     },
     "execution_count": 35,
     "metadata": {},
     "output_type": "execute_result"
    }
   ],
   "source": [
    "visible_predict(1713961800)\n",
    "# this corresponds to Wednesday 4/24 at 5:30 am"
   ]
  },
  {
   "cell_type": "code",
   "execution_count": 36,
   "metadata": {},
   "outputs": [
    {
     "data": {
      "text/plain": [
       "(0,\n",
       " Empty DataFrame\n",
       " Columns: [alt, az]\n",
       " Index: [])"
      ]
     },
     "execution_count": 36,
     "metadata": {},
     "output_type": "execute_result"
    }
   ],
   "source": [
    "visible_predict(1713978000)\n",
    "# this corresponds to Wednesday 4/24 at 10:00 am "
   ]
  },
  {
   "cell_type": "code",
   "execution_count": 81,
   "metadata": {},
   "outputs": [
    {
     "data": {
      "text/plain": [
       "1713843052.42901"
      ]
     },
     "execution_count": 81,
     "metadata": {},
     "output_type": "execute_result"
    }
   ],
   "source": [
    "time.time()"
   ]
  },
  {
   "cell_type": "code",
   "execution_count": 82,
   "metadata": {},
   "outputs": [
    {
     "data": {
      "text/plain": [
       "(26,\n",
       "            alt          az\n",
       " 185  -0.223326  349.871850\n",
       " 188  -1.935675  348.080399\n",
       " 190  -3.763456  346.405166\n",
       " 194  -5.697281  344.850506\n",
       " 196  -7.727740  343.420350\n",
       " 198  -9.845446  342.118433\n",
       " 200 -12.041054  340.948522\n",
       " 201  -1.548718  343.822470\n",
       " 204  -3.653472  342.124119\n",
       " 205  -5.861089  340.558339\n",
       " 207  -8.161558  339.127728\n",
       " 210 -10.545060  337.834937\n",
       " 215  -1.601470  339.410153\n",
       " 218  -3.980033  337.715485\n",
       " 220  -6.455941  336.162294\n",
       " 221  -9.018944  334.751778\n",
       " 227  -2.089277  334.885628\n",
       " 228  -4.733313  333.216875\n",
       " 229  -7.467382  331.694797\n",
       " 236  -5.894974  328.659591\n",
       " 237  -0.193460  332.062591\n",
       " 238  -2.998315  330.286144\n",
       " 244  -4.306252  325.641632\n",
       " 246  -1.255532  327.364721\n",
       " 252  -2.705698  322.636303\n",
       " 261  -1.097747  319.638925)"
      ]
     },
     "execution_count": 82,
     "metadata": {},
     "output_type": "execute_result"
    }
   ],
   "source": [
    "visible_predict(1713843052.42901)"
   ]
  },
  {
   "cell_type": "code",
   "execution_count": 38,
   "metadata": {},
   "outputs": [
    {
     "data": {
      "text/plain": [
       "(0,\n",
       " Empty DataFrame\n",
       " Columns: [alt, az]\n",
       " Index: [])"
      ]
     },
     "execution_count": 38,
     "metadata": {},
     "output_type": "execute_result"
    }
   ],
   "source": [
    "visible_predict(1713796176)"
   ]
  },
  {
   "cell_type": "code",
   "execution_count": 41,
   "metadata": {},
   "outputs": [
    {
     "data": {
      "text/plain": [
       "(20,\n",
       "           alt          az\n",
       " 100 -0.549129   33.118134\n",
       " 111 -2.935307   30.694431\n",
       " 113 -1.227129   28.897917\n",
       " 188 -0.454582  343.291230\n",
       " 190 -2.104586  341.442056\n",
       " 194 -3.873772  339.704698\n",
       " 196 -5.752982  338.083818\n",
       " 198 -7.733002  336.583588\n",
       " 200 -9.804616  335.207907\n",
       " 204 -1.571524  337.199740\n",
       " 205 -3.616575  335.429827\n",
       " 207 -5.769016  333.788676\n",
       " 210 -8.018960  332.279081\n",
       " 218 -1.472486  332.788344\n",
       " 220 -3.791510  331.013128\n",
       " 221 -6.212826  329.376012\n",
       " 228 -1.805193  328.250283\n",
       " 229 -4.390996  326.492893\n",
       " 236 -2.558166  323.623868\n",
       " 244 -0.718967  320.763054)"
      ]
     },
     "execution_count": 41,
     "metadata": {},
     "output_type": "execute_result"
    }
   ],
   "source": [
    "\n",
    "visible_predict(1713841236)"
   ]
  },
  {
   "cell_type": "code",
   "execution_count": 215,
   "metadata": {},
   "outputs": [
    {
     "name": "stdout",
     "output_type": "stream",
     "text": [
      "RA: 32.778248, Dec: 86.042542, Time (UTC): 2024-04-18 00:00:00\n",
      "RA: 32.778248, Dec: 86.042542, Time (UTC): 2024-04-18 01:00:00\n",
      "RA: 32.778248, Dec: 86.042542, Time (UTC): 2024-04-18 02:00:00\n",
      "RA: 32.778248, Dec: 86.042542, Time (UTC): 2024-04-18 03:00:00\n",
      "RA: 32.778248, Dec: 86.042542, Time (UTC): 2024-04-18 04:00:00\n",
      "RA: 32.778248, Dec: 86.042542, Time (UTC): 2024-04-18 05:00:00\n",
      "RA: 32.778248, Dec: 86.042542, Time (UTC): 2024-04-18 06:00:00\n",
      "RA: 32.778248, Dec: 86.042542, Time (UTC): 2024-04-18 07:00:00\n",
      "RA: 32.778248, Dec: 86.042542, Time (UTC): 2024-04-18 08:00:00\n",
      "RA: 32.778248, Dec: 86.042542, Time (UTC): 2024-04-18 09:00:00\n",
      "RA: 32.778248, Dec: 86.042542, Time (UTC): 2024-04-18 10:00:00\n",
      "RA: 32.778248, Dec: 86.042542, Time (UTC): 2024-04-18 11:00:00\n",
      "RA: 32.778248, Dec: 86.042542, Time (UTC): 2024-04-18 12:00:00\n",
      "RA: 32.778248, Dec: 86.042542, Time (UTC): 2024-04-18 13:00:00\n",
      "RA: 32.778248, Dec: 86.042542, Time (UTC): 2024-04-18 14:00:00\n",
      "RA: 32.778248, Dec: 86.042542, Time (UTC): 2024-04-18 15:00:00\n",
      "RA: 32.778248, Dec: 86.042542, Time (UTC): 2024-04-18 16:00:00\n",
      "RA: 32.778248, Dec: 86.042542, Time (UTC): 2024-04-18 17:00:00\n",
      "RA: 32.778248, Dec: 86.042542, Time (UTC): 2024-04-18 18:00:00\n",
      "RA: 32.778248, Dec: 86.042542, Time (UTC): 2024-04-18 19:00:00\n",
      "RA: 32.778248, Dec: 86.042542, Time (UTC): 2024-04-18 20:00:00\n",
      "RA: 32.778248, Dec: 86.042542, Time (UTC): 2024-04-18 21:00:00\n",
      "RA: 32.778248, Dec: 86.042542, Time (UTC): 2024-04-18 22:00:00\n",
      "RA: 32.778248, Dec: 86.042542, Time (UTC): 2024-04-18 23:00:00\n",
      "RA: 32.778248, Dec: 86.042542, Time (UTC): 2024-04-19 00:00:00\n",
      "RA: 32.778248, Dec: 86.042542, Time (UTC): 2024-04-19 01:00:00\n",
      "RA: 32.778248, Dec: 86.042542, Time (UTC): 2024-04-19 02:00:00\n",
      "RA: 32.778248, Dec: 86.042542, Time (UTC): 2024-04-19 03:00:00\n",
      "RA: 32.778248, Dec: 86.042542, Time (UTC): 2024-04-19 04:00:00\n",
      "RA: 32.778248, Dec: 86.042542, Time (UTC): 2024-04-19 05:00:00\n",
      "RA: 32.778248, Dec: 86.042542, Time (UTC): 2024-04-19 06:00:00\n",
      "RA: 32.778248, Dec: 86.042542, Time (UTC): 2024-04-19 07:00:00\n",
      "RA: 32.778248, Dec: 86.042542, Time (UTC): 2024-04-19 08:00:00\n",
      "RA: 32.778248, Dec: 86.042542, Time (UTC): 2024-04-19 09:00:00\n",
      "RA: 32.778248, Dec: 86.042542, Time (UTC): 2024-04-19 10:00:00\n",
      "RA: 32.778248, Dec: 86.042542, Time (UTC): 2024-04-19 11:00:00\n",
      "RA: 32.778248, Dec: 86.042542, Time (UTC): 2024-04-19 12:00:00\n",
      "RA: 32.778248, Dec: 86.042542, Time (UTC): 2024-04-19 13:00:00\n",
      "RA: 32.778248, Dec: 86.042542, Time (UTC): 2024-04-19 14:00:00\n",
      "RA: 32.778248, Dec: 86.042542, Time (UTC): 2024-04-19 15:00:00\n",
      "RA: 32.778248, Dec: 86.042542, Time (UTC): 2024-04-19 16:00:00\n",
      "RA: 32.778248, Dec: 86.042542, Time (UTC): 2024-04-19 17:00:00\n",
      "RA: 32.778248, Dec: 86.042542, Time (UTC): 2024-04-19 18:00:00\n",
      "RA: 32.778248, Dec: 86.042542, Time (UTC): 2024-04-19 19:00:00\n",
      "RA: 32.778248, Dec: 86.042542, Time (UTC): 2024-04-19 20:00:00\n",
      "RA: 32.778248, Dec: 86.042542, Time (UTC): 2024-04-19 21:00:00\n",
      "RA: 32.778248, Dec: 86.042542, Time (UTC): 2024-04-19 22:00:00\n",
      "RA: 32.778248, Dec: 86.042542, Time (UTC): 2024-04-19 23:00:00\n"
     ]
    }
   ],
   "source": [
    "# Define the specific RA and Dec coordinate (in degrees)\n",
    "ra = 32.778248\n",
    "dec = 86.042542\n",
    "\n",
    "# Define the start and end time for the calculation\n",
    "time_start = Time('2024-04-18T00:00:00', scale='utc')\n",
    "time_end = Time('2024-04-20T00:00:00', scale='utc')\n",
    "\n",
    "# Create a list to store the times when RA and Dec are above the horizon\n",
    "times_above_horizon = []\n",
    "\n",
    "# Iterate over the time from start to end in steps of 1 hour\n",
    "for time_step in np.arange(0, (time_end - time_start).to_value(u.hour), 1):\n",
    "    \n",
    "    observing_location = EarthLocation(lat=leo.lat*u.deg, lon=-leo.lon*u.deg, height=leo.alt*u.m)\n",
    "    # Calculate the time for the current step\n",
    "    current_time = time_start + time_step * u.hour\n",
    "    \n",
    "    # Create a SkyCoord object for the specific RA and Dec\n",
    "    coords = SkyCoord(ra=ra, dec=dec, unit='deg', frame='icrs')\n",
    "    \n",
    "    # Calculate AltAz coordinates for the current time and location\n",
    "    altaz = coords.transform_to(AltAz(obstime=current_time, location=observing_location))\n",
    "    \n",
    "    # Check if the altitude of RA and Dec is above zero\n",
    "    if altaz.alt.deg > 0:\n",
    "        times_above_horizon.append(current_time.to_datetime())\n",
    "\n",
    "# Print the times when RA and Dec are above the horizon\n",
    "for time in times_above_horizon:\n",
    "    print(f\"RA: {ra}, Dec: {dec}, Time (UTC): {time}\")"
   ]
  },
  {
   "cell_type": "markdown",
   "metadata": {},
   "source": []
  },
  {
   "cell_type": "code",
   "execution_count": null,
   "metadata": {},
   "outputs": [],
   "source": []
  },
  {
   "cell_type": "code",
   "execution_count": 146,
   "metadata": {},
   "outputs": [],
   "source": [
    "import matplotlib.pyplot as plt"
   ]
  },
  {
   "cell_type": "code",
   "execution_count": 149,
   "metadata": {},
   "outputs": [
    {
     "data": {
      "text/plain": [
       "<matplotlib.collections.PathCollection at 0x315d8ff90>"
      ]
     },
     "execution_count": 149,
     "metadata": {},
     "output_type": "execute_result"
    },
    {
     "data": {
      "image/png": "[encoded data removed]",
      "text/plain": [
       "<Figure size 640x480 with 1 Axes>"
      ]
     },
     "metadata": {},
     "output_type": "display_data"
    }
   ],
   "source": [
    "plt.scatter(range(len(gal_ra_dec)), (gal_ra_dec['RA']))\n",
    "plt.scatter(range(len(gal_ra_dec)), (gal_ra_dec['DEC']))\n",
    "#plt.plot(gal_ra_dec['L'], gal_ra_dec['B'])"
   ]
  },
  {
   "cell_type": "code",
   "execution_count": 68,
   "metadata": {},
   "outputs": [
    {
     "data": {
      "text/plain": [
       "[[[array([60., 20.])], [275.4099465006669, 32.44704573697857]],\n",
       " [[array([60. , 23.4])], [271.57775804742187, 33.55743568956647]],\n",
       " [[array([60. , 26.8])], [267.65132671741213, 34.546814588456684]],\n",
       " [[array([60. , 30.2])], [263.6366826665167, 35.407641930429385]],\n",
       " [[array([60. , 33.6])], [259.5423120404737, 36.13293452571155]],\n",
       " [[array([60., 37.])], [255.37913877895232, 36.716478476806486]],\n",
       " [[array([60. , 40.4])], [251.16036251726064, 37.15303984043927]],\n",
       " [[array([60. , 43.8])], [246.9011415541328, 37.438558605176524]],\n",
       " [[array([60. , 47.2])], [242.61812746349955, 37.57030979885039]],\n",
       " [[array([60. , 50.6])], [238.32887768577496, 37.547016913593694]],\n",
       " [[array([60., 54.])], [234.05119045539215, 37.368906516953736]],\n",
       " [[array([60. , 57.4])], [229.80241862952712, 37.03769848983667]],\n",
       " [[array([64.6, 20. ])], [277.1869841999899, 36.513989899030676]],\n",
       " [[array([64.6, 23.4])], [273.1424702704984, 37.58271117219223]],\n",
       " [[array([64.6, 26.8])], [268.988149184952, 38.50961825161651]],\n",
       " [[array([64.6, 30.2])], [264.73445503350337, 39.286166307467525]],\n",
       " [[array([64.6, 33.6])], [260.3952522074293, 39.90473027805718]],\n",
       " [[array([64.6, 37. ])], [255.9876377182579, 40.35890824676997]],\n",
       " [[array([64.6, 40.4])], [251.53148790483746, 40.64380274017626]],\n",
       " [[array([64.6, 43.8])], [247.0487575364399, 40.756252677194034]],\n",
       " [[array([64.6, 47.2])], [242.56257777585301, 40.69499092016856]],\n",
       " [[array([64.6, 50.6])], [238.09623444418727, 40.46070917432128]],\n",
       " [[array([64.6, 54. ])], [233.67213024023212, 40.05602243621982]],\n",
       " [[array([64.6, 57.4])], [229.31083761858395, 39.48533728364923]],\n",
       " [[array([69.2, 20. ])], [279.01462738514556, 40.593618394199865]],\n",
       " [[array([69.2, 23.4])], [274.71482837893393, 41.62688133703635]],\n",
       " [[array([69.2, 26.8])], [270.28643973095484, 42.49499768038412]],\n",
       " [[array([69.2, 30.2])], [265.7462060530441, 43.188172043756055]],\n",
       " [[array([69.2, 33.6])], [261.1156882599888, 43.698070473698216]],\n",
       " [[array([69.2, 37. ])], [256.4206906741936, 44.018250198812375]],\n",
       " [[array([69.2, 40.4])], [251.69024845250095, 44.14452282386882]],\n",
       " [[array([69.2, 43.8])], [246.9552452785088, 44.07520518938337]],\n",
       " [[array([69.2, 47.2])], [242.2468064787871, 43.811223493893856]],\n",
       " [[array([69.2, 50.6])], [237.59466209669395, 43.35605576225259]],\n",
       " [[array([69.2, 54. ])], [233.02568125753385, 42.71552094736845]],\n",
       " [[array([69.2, 57.4])], [228.5627409975881, 41.89744407717595]],\n",
       " [[array([73.8, 20. ])], [280.9228707413137, 44.68213570229162]],\n",
       " [[array([73.8, 23.4])], [276.3136380575307, 45.68707062930528]],\n",
       " [[array([73.8, 26.8])], [271.55227273020654, 46.50032240006218]],\n",
       " [[array([73.8, 30.2])], [266.66474529721603, 47.11051359403257]],\n",
       " [[array([73.8, 33.6])], [261.68386019831576, 47.508546780025604]],\n",
       " [[array([73.8, 37. ])], [256.6479190220705, 47.68821001245508]],\n",
       " [[array([73.8, 40.4])], [251.59864548164867, 47.64662422542562]],\n",
       " [[array([73.8, 43.8])], [246.57861241854985, 47.38446006569065]],\n",
       " [[array([73.8, 47.2])], [241.62854082990452, 46.905886844018106]],\n",
       " [[array([73.8, 50.6])], [236.78487575341904, 46.218262516983025]],\n",
       " [[array([73.8, 54. ])], [232.0779692312186, 45.33161714780018]],\n",
       " [[array([73.8, 57.4])], [227.53104739721533, 44.25801057051703]],\n",
       " [[array([78.4, 20. ])], [282.9512548210563, 48.775322805140114]],\n",
       " [[array([78.4, 23.4])], [277.9630042965327, 49.76044397746795]],\n",
       " [[array([78.4, 26.8])], [272.7918628754142, 50.52319915678425]],\n",
       " [[array([78.4, 30.2])], [267.4776373396781, 51.05016069656516]],\n",
       " [[array([78.4, 33.6])], [262.06999146342457, 51.33144177378845]],\n",
       " [[array([78.4, 37. ])], [256.62555080660405, 51.36154722851451]],\n",
       " [[array([78.4, 40.4])], [251.20379969006885, 51.1398796154663]],\n",
       " [[array([78.4, 43.8])], [245.862451706492, 50.67079566514776]],\n",
       " [[array([78.4, 47.2])], [240.65314837745655, 49.963201050184544]],\n",
       " [[array([78.4, 50.6])], [235.61823173544485, 49.029768511666006]],\n",
       " [[array([78.4, 54. ])], [230.78900070807006, 47.885931010755385]],\n",
       " [[array([78.4, 57.4])], [226.18545666257756, 46.54881888447349]],\n",
       " [[array([83., 20.])], [285.15433145302586, 52.868153809183106]],\n",
       " [[array([83. , 23.4])], [279.695618399194, 53.84406673010404]],\n",
       " [[array([83. , 26.8])], [274.0119174991685, 54.561436631991164]],\n",
       " [[array([83. , 30.2])], [268.164465035263, 55.004088550257784]],\n",
       " [[array([83. , 33.6])], [262.229051703954, 55.161384586314625]],\n",
       " [[array([83., 37.])], [256.28987423926804, 55.02941632538647]],\n",
       " [[array([83. , 40.4])], [250.43149843830702, 54.61146749099346]],\n",
       " [[array([83. , 43.8])], [244.73073625824674, 53.917624346671104]],\n",
       " [[array([83. , 47.2])], [239.2502750979057, 52.96363730401456]],\n",
       " [[array([83. , 50.6])], [234.03520065316212, 51.76931648450253]],\n",
       " [[array([83., 54.])], [229.11254113670864, 50.35680579596422]],\n",
       " [[array([83. , 57.4])], [224.49314673455274, 48.749024308867085]],\n",
       " [[array([87.6, 20. ])], [287.610997406623, 56.954159634219224]],\n",
       " [[array([87.6, 23.4])], [281.55850425585413, 57.93468741507668]],\n",
       " [[array([87.6, 26.8])], [275.22022042527004, 58.61301383180769]],\n",
       " [[array([87.6, 30.2])], [268.69195402584666, 58.96911413631845]],\n",
       " [[array([87.6, 33.6])], [262.09171233814726, 58.99178196207329]],\n",
       " [[array([87.6, 37. ])], [255.54647475608084, 58.680286892118644]],\n",
       " [[array([87.6, 40.4])], [249.176335938995, 58.04448665771468]],\n",
       " [[array([87.6, 43.8])], [243.08067820737392, 57.10335586949249]],\n",
       " [[array([87.6, 47.2])], [237.32998934498147, 55.88241245397903]],\n",
       " [[array([87.6, 50.6])], [231.96430799299384, 54.410780323842886]],\n",
       " [[array([87.6, 54. ])], [226.99684663141483, 52.71854375744162]],\n",
       " [[array([87.6, 57.4])], [222.42028984087088, 50.8347641553391]],\n",
       " [[array([92.2, 20. ])], [290.44128877790723, 61.02429118211942]],\n",
       " [[array([92.2, 23.4])], [283.6237223999142, 62.02835910877049]],\n",
       " [[array([92.2, 26.8])], [276.42669535389507, 62.67605073950263]],\n",
       " [[array([92.2, 30.2])], [269.00477483723625, 62.941618386969985]],\n",
       " [[array([92.2, 33.6])], [261.5479374151759, 62.81380387902384]],\n",
       " [[array([92.2, 37. ])], [254.2519625679678, 62.29807887146159]],\n",
       " [[array([92.2, 40.4])], [247.28658071889782, 61.41553927052376]],\n",
       " [[array([92.2, 43.8])], [240.7733587736591, 60.198937979637115]],\n",
       " [[array([92.2, 47.2])], [234.77911375864775, 58.68743871446437]],\n",
       " [[array([92.2, 50.6])], [229.3224692002203, 56.921753542424455]],\n",
       " [[array([92.2, 54. ])], [224.38697076136899, 54.94063266106166]],\n",
       " [[array([92.2, 57.4])], [219.93478501313385, 52.77887823733607]],\n",
       " [[array([96.8, 20. ])], [293.8384510972731, 65.0647287380287]],\n",
       " [[array([96.8, 23.4])], [286.00988231156066, 66.11970191104909]],\n",
       " [[array([96.8, 26.8])], [277.6455451933476, 66.74877891732994]],\n",
       " [[array([96.8, 30.2])], [269.00686804682533, 66.91701208164544]],\n",
       " [[array([96.8, 33.6])], [260.41541268817826, 66.61442747320996]],\n",
       " [[array([96.8, 37. ])], [252.18198079389248, 65.85876767032528]],\n",
       " [[array([96.8, 40.4])], [244.5413058427706, 64.690693667341]],\n",
       " [[array([96.8, 43.8])], [237.62277840374554, 63.16417418517704]],\n",
       " [[array([96.8, 47.2])], [231.45965624091588, 61.33664219029747]],\n",
       " [[array([96.8, 50.6])], [226.01845476752118, 59.262007373846835]],\n",
       " [[array([96.8, 54. ])], [221.2296809163797, 56.98712950946565]],\n",
       " [[array([96.8, 57.4])], [217.0106258654868, 54.55088094301435]],\n",
       " [[array([101.4,  20. ])], [298.1344644232146, 69.05229288577222]],\n",
       " [[array([101.4,  23.4])], [288.9296651397497, 70.20028882598803]],\n",
       " [[array([101.4,  26.8])], [278.9000816404311, 70.82950690909183]],\n",
       " [[array([101.4,  30.2])], [268.5197399897272, 70.88856990291525]],\n",
       " [[array([101.4,  33.6])], [258.3744711719011, 70.3723239595314]],\n",
       " [[array([101.4,  37. ])], [248.97399813220213, 69.32386867744896]],\n",
       " [[array([101.4,  40.4])], [240.6180397503993, 67.81864558546759]],\n",
       " [[array([101.4,  43.8])], [233.38708462026426, 65.9423820616869]],\n",
       " [[array([101.4,  47.2])], [227.2137429647991, 63.77477376585035]],\n",
       " [[array([101.4,  50.6])], [221.9623225071034, 61.382155493593]],\n",
       " [[array([101.4,  54. ])], [217.4821948408883, 58.8165125926952]],\n",
       " [[array([101.4,  57.4])], [213.63416245404417, 56.11738599259454]],\n",
       " [[array([106.,  20.])], [303.94407684459077, 72.94385990871578]],\n",
       " [[array([106. ,  23.4])], [292.8084710544435, 74.25459242408573]],\n",
       " [[array([106. ,  26.8])], [280.2353639933295, 74.91656531863188]],\n",
       " [[array([106. ,  30.2])], [267.17674602187475, 74.84448368262707]],\n",
       " [[array([106. ,  33.6])], [254.8232126346813, 74.04829988264493]],\n",
       " [[array([106.,  37.])], [244.02635255026036, 72.62733275131419]],\n",
       " [[array([106. ,  40.4])], [235.0564717949086, 70.71930878825293]],\n",
       " [[array([106. ,  43.8])], [227.77401838349286, 68.45333998729862]],\n",
       " [[array([106. ,  47.2])], [221.88355294814266, 65.93043683114134]],\n",
       " [[array([106. ,  50.6])], [217.08450342106244, 63.22327219565323]],\n",
       " [[array([106.,  54.])], [213.1255606926696, 60.3824909201092]],\n",
       " [[array([106. ,  57.4])], [209.81200996878988, 57.443225309769744]],\n",
       " [[array([110.6,  20. ])], [312.50129272031563, 76.64915389841708]],\n",
       " [[array([110.6,  23.4])], [298.6333889246188, 78.2477959713792]],\n",
       " [[array([110.6,  26.8])], [281.7590205909917, 79.00817276392986]],\n",
       " [[array([110.6,  30.2])], [264.1037555003274, 78.75884394833001]],\n",
       " [[array([110.6,  33.6])], [248.53146522886652, 77.5603827203095]],\n",
       " [[array([110.6,  37. ])], [236.34289448146046, 75.6486673619045]],\n",
       " [[array([110.6,  40.4])], [227.25448054656184, 73.26644642209772]],\n",
       " [[array([110.6,  43.8])], [220.48978210824174, 70.58622464197369]],\n",
       " [[array([110.6,  47.2])], [215.3586205547077, 67.71534446366117]],\n",
       " [[array([110.6,  50.6])], [211.3670774971217, 64.71876033415712]],\n",
       " [[array([110.6,  54. ])], [208.18187161357494, 61.63637832198465]],\n",
       " [[array([110.6,  57.4])], [205.57938800926576, 58.49346896002535]],\n",
       " [[array([115.2,  20. ])], [326.4125159160656, 79.95380120914984]],\n",
       " [[array([115.2,  23.4])], [309.2323238022623, 82.07846463311431]],\n",
       " [[array([115.2,  26.8])], [283.8273290980318, 83.10188655501253]],\n",
       " [[array([115.2,  30.2])], [256.67793748594994, 82.5551322548794]],\n",
       " [[array([115.2,  33.6])], [236.82868144729503, 80.71146534500957]],\n",
       " [[array([115.2,  37. ])], [224.44463733227872, 78.16209435783728]],\n",
       " [[array([115.2,  40.4])], [216.62057736249898, 75.2689878196364]],\n",
       " [[array([115.2,  43.8])], [211.37935208933976, 72.19899040367785]],\n",
       " [[array([115.2,  47.2])], [207.65796862454002, 69.02968099235643]],\n",
       " [[array([115.2,  50.6])], [204.88349594601837, 65.8000830557979]],\n",
       " [[array([115.2,  54. ])], [202.73116654643863, 62.531492095279724]],\n",
       " [[array([115.2,  57.4])], [201.00640268106287, 59.23637524181981]],\n",
       " [[array([119.8,  20. ])], [350.2781981661482, 82.31649604709361]],\n",
       " [[array([119.8,  23.4])], [334.95493777816, 85.31843807182514]],\n",
       " [[array([119.8,  26.8])], [288.8543287824589, 87.18938853369372]],\n",
       " [[array([119.8,  30.2])], [233.93538792271923, 85.87885836311331]],\n",
       " [[array([119.8,  33.6])], [214.74568361733392, 82.98788073438723]],\n",
       " [[array([119.8,  37. ])], [207.09520828853775, 79.77955531485429]],\n",
       " [[array([119.8,  40.4])], [203.109480915572, 76.47791794657549]],\n",
       " [[array([119.8,  43.8])], [200.67266343387354, 73.13769650307776]],\n",
       " [[array([119.8,  47.2])], [199.0245515952924, 69.77800739971357]],\n",
       " [[array([119.8,  50.6])], [197.83014925723083, 66.40717209911722]],\n",
       " [[array([119.8,  54. ])], [196.91986904031972, 63.029376018443486]],\n",
       " [[array([119.8,  57.4])], [196.19891053487325, 59.64694979769021]],\n",
       " [[array([124.4,  20. ])], [23.85119224031243, 82.74609844699353]],\n",
       " [[array([124.4,  23.4])], [32.77824770340114, 86.04254196150337]],\n",
       " [[array([124.4,  26.8])], [89.11019773429953, 88.65098362779054]],\n",
       " [[array([124.4,  30.2])], [170.4570957180398, 86.66920315079774]],\n",
       " [[array([124.4,  33.6])], [182.15043879679203, 83.40571785369424]],\n",
       " [[array([124.4,  37. ])], [186.0583725126065, 80.05058406707198]],\n",
       " [[array([124.4,  40.4])], [188.00412646061017, 76.67284196120909]],\n",
       " [[array([124.4,  43.8])], [189.1729499189335, 73.28619403661818]],\n",
       " [[array([124.4,  47.2])], [189.956730987802, 69.8951416024591]],\n",
       " [[array([124.4,  50.6])], [190.52204807459972, 66.50159278850188]],\n",
       " [[array([124.4,  54. ])], [190.9516433312329, 63.10649403434044]],\n",
       " [[array([124.4,  57.4])], [191.2912525197774, 59.71036803870812]],\n",
       " [[array([129.,  20.])], [52.0840661445785, 80.96222742353784]],\n",
       " [[array([129. ,  23.4])], [69.99394237376953, 83.36739509309346]],\n",
       " [[array([129. ,  26.8])], [100.76629603206693, 84.58216218341629]],\n",
       " [[array([129. ,  30.2])], [134.27164789442025, 83.8545942500902]],\n",
       " [[array([129. ,  33.6])], [155.38231554488635, 81.67951244228033]],\n",
       " [[array([129.,  37.])], [166.91016665202596, 78.87587275651089]],\n",
       " [[array([129. ,  40.4])], [173.6859672801915, 75.81153168481379]],\n",
       " [[array([129. ,  43.8])], [178.05744790724722, 72.62389194533453]],\n",
       " [[array([129. ,  47.2])], [181.0971090608473, 69.37005010445613]],\n",
       " [[array([129. ,  50.6])], [183.33523460454606, 66.0770266679272]],\n",
       " [[array([129.,  54.])], [185.05780701570723, 62.759051421952904]],\n",
       " [[array([129. ,  57.4])], [186.4309359671529, 59.42427176626301]],\n",
       " [[array([133.6,  20. ])], [69.00670953613457, 77.9089801674079]],\n",
       " [[array([133.6,  23.4])], [84.07314404458175, 79.66203531974374]],\n",
       " [[array([133.6,  26.8])], [103.31218189350231, 80.48883374120955]],\n",
       " [[array([133.6,  30.2])], [123.54109185064483, 80.15319874759076]],\n",
       " [[array([133.6,  33.6])], [140.58422189700482, 78.75878211133059]],\n",
       " [[array([133.6,  37. ])], [153.1056792670256, 76.63295188370472]],\n",
       " [[array([133.6,  40.4])], [161.96153054971592, 74.06585058327332]],\n",
       " [[array([133.6,  43.8])], [168.3146113326812, 71.23779260655314]],\n",
       " [[array([133.6,  47.2])], [173.01709544861967, 68.25039574772823]],\n",
       " [[array([133.6,  50.6])], [176.61606264596523, 65.161151088739]],\n",
       " [[array([133.6,  54. ])], [179.4563573242499, 62.003824537177955]],\n",
       " [[array([133.6,  57.4])], [181.75916949872376, 58.79915312631866]],\n",
       " [[array([138.2,  20. ])], [79.09308133374147, 74.31287682890418]],\n",
       " [[array([138.2,  23.4])], [91.11293108117768, 75.70899050938847]],\n",
       " [[array([138.2,  26.8])], [104.9637585680387, 76.39610450573127]],\n",
       " [[array([138.2,  30.2])], [119.37794536035659, 76.26734139778834]],\n",
       " [[array([138.2,  33.6])], [132.75824373766486, 75.34419621609797]],\n",
       " [[array([138.2,  37. ])], [144.08800727346673, 73.761631968201]],\n",
       " [[array([138.2,  40.4])], [153.1914567975355, 71.6899116779423]],\n",
       " [[array([138.2,  43.8])], [160.373561403863, 69.27530605486683]],\n",
       " [[array([138.2,  47.2])], [166.05480394467037, 66.62393818276719]],\n",
       " [[array([138.2,  50.6])], [170.60703887109452, 63.80773332795295]],\n",
       " [[array([138.2,  54. ])], [174.3165977976767, 60.87460291856237]],\n",
       " [[array([138.2,  57.4])], [177.39341403455938, 57.85668563438428]],\n",
       " [[array([142.8,  20. ])], [85.70402051510582, 70.47425669224991]],\n",
       " [[array([142.8,  23.4])], [95.53064371705416, 71.67098881515274]],\n",
       " [[array([142.8,  26.8])], [106.34877606320605, 72.30718094083821]],\n",
       " [[array([142.8,  30.2])], [117.55686020044898, 72.3221521902157]],\n",
       " [[array([142.8,  33.6])], [128.40907741004287, 71.71437533354293]],\n",
       " [[array([142.8,  37. ])], [138.29180965259403, 70.54216931233202]],\n",
       " [[array([142.8,  40.4])], [146.89451980048787, 68.89948784395214]],\n",
       " [[array([142.8,  43.8])], [154.18689156809367, 66.88655583939078]],\n",
       " [[array([142.8,  47.2])], [160.30052730768557, 64.59137904441451]],\n",
       " [[array([142.8,  50.6])], [165.4236865547577, 62.08367271505079]],\n",
       " [[array([142.8,  54. ])], [169.74235608281876, 59.415878801439774]],\n",
       " [[array([142.8,  57.4])], [173.41699391639327, 56.62659408688301]],\n",
       " [[array([147.4,  20. ])], [90.45433005073927, 66.51482774230192]],\n",
       " [[array([147.4,  23.4])], [98.73037806032525, 67.59751436872156]],\n",
       " [[array([147.4,  26.8])], [107.62544145394638, 68.22396898773411]],\n",
       " [[array([147.4,  30.2])], [116.81835606109594, 68.35445533905302]],\n",
       " [[array([147.4,  33.6])], [125.91362784821484, 67.98013695364452]],\n",
       " [[array([147.4,  37. ])], [134.5409114366001, 67.12583151705051]],\n",
       " [[array([147.4,  40.4])], [142.4399036633761, 65.84251715136162]],\n",
       " [[array([147.4,  43.8])], [149.48854899267917, 64.19427983173821]],\n",
       " [[array([147.4,  47.2])], [155.67952734548234, 62.246266758546135]],\n",
       " [[array([147.4,  50.6])], [161.07646465569385, 60.05717576961396]],\n",
       " [[array([147.4,  54. ])], [165.7749680051858, 57.67623151088649]],\n",
       " [[array([147.4,  57.4])], [169.87723132434732, 55.143038954363725]],\n",
       " [[array([152.,  20.])], [94.12778393455781, 62.490117328909946]],\n",
       " [[array([152. ,  23.4])], [101.27759081823584, 63.508845273210724]],\n",
       " [[array([152. ,  26.8])], [108.85377409217124, 64.1481546669271]],\n",
       " [[array([152. ,  30.2])], [116.67061137177978, 64.3794998199068]],\n",
       " [[array([152. ,  33.6])], [124.49985435064822, 64.19186269758703]],\n",
       " [[array([152.,  37.])], [132.11095198549668, 63.5942088933168]],\n",
       " [[array([152. ,  40.4])], [139.3122626369497, 62.613479044420465]],\n",
       " [[array([152. ,  43.8])], [145.9764142525475, 61.289081806094416]],\n",
       " [[array([152. ,  47.2])], [152.04383190586088, 59.666239372083744]],\n",
       " [[array([152. ,  50.6])], [157.5102480250855, 57.79032713931594]],\n",
       " [[array([152.,  54.])], [162.40822538035135, 55.703192637655135]],\n",
       " [[array([152. ,  57.4])], [166.79016673003665, 53.44138629170619]],\n",
       " [[array([156.6,  20. ])], [97.1354511791105, 58.42877600012323]],\n",
       " [[array([156.6,  23.4])], [103.441706293433, 59.41528384976561]],\n",
       " [[array([156.6,  26.8])], [110.0627552696628, 60.08141309613479]],\n",
       " [[array([156.6,  30.2])], [116.88518683061837, 60.40534386571135]],\n",
       " [[array([156.6,  33.6])], [123.7694621595323, 60.37576376920187]],\n",
       " [[array([156.6,  37. ])], [130.5675121850781, 59.99372585208806]],\n",
       " [[array([156.6,  40.4])], [137.14309501355245, 59.27247029297497]],\n",
       " [[array([156.6,  43.8])], [143.38835507596428, 58.235276182701035]],\n",
       " [[array([156.6,  47.2])], [149.23213595452222, 56.912099424731224]],\n",
       " [[array([156.6,  50.6])], [154.63964288305957, 55.336003947797074]],\n",
       " [[array([156.6,  54. ])], [159.60617652431438, 53.54017109894025]],\n",
       " [[array([156.6,  57.4])], [164.148506176699, 51.55583982284303]],\n",
       " [[array([161.2,  20. ])], [99.71047977070396, 54.347280119215995]],\n",
       " [[array([161.2,  23.4])], [105.36764491608388, 55.323050185537504]],\n",
       " [[array([161.2,  26.8])], [111.26908962899245, 56.02548031661866]],\n",
       " [[array([161.2,  30.2])], [117.34300541232902, 56.43715996969427]],\n",
       " [[array([161.2,  33.6])], [123.500701062642, 56.547212858421545]],\n",
       " [[array([161.2,  37. ])], [129.64469041700218, 56.35264227640112]],\n",
       " [[array([161.2,  40.4])], [135.67895317635785, 55.8587203767443]],\n",
       " [[array([161.2,  43.8])], [141.5188241290435, 55.07830869677095]],\n",
       " [[array([161.2,  47.2])], [147.0981321738466, 54.03030463240157]],\n",
       " [[array([161.2,  50.6])], [152.37237272843768, 52.737621820759635]],\n",
       " [[array([161.2,  54. ])], [157.31812525567534, 51.225148550581075]],\n",
       " [[array([161.2,  57.4])], [161.92989054784297, 49.51801444097867]],\n",
       " [[array([165.8,  20. ])], [101.99448507483386, 50.25606749089328]],\n",
       " [[array([165.8,  23.4])], [107.14094112085948, 51.236494960188764]],\n",
       " [[array([165.8,  26.8])], [112.48391281957883, 51.982192479802734]],\n",
       " [[array([165.8,  30.2])], [117.97693535362174, 52.47883535963761]],\n",
       " [[array([165.8,  33.6])], [123.56223015477343, 52.71625552747058]],\n",
       " [[array([165.8,  37. ])], [129.17450791426285, 52.689403259752325]],\n",
       " [[array([165.8,  40.4])], [134.74620157569166, 52.39885599861524]],\n",
       " [[array([165.8,  43.8])], [140.2131559106738, 51.850759110573506]],\n",
       " [[array([165.8,  47.2])], [145.5196371044087, 51.05621231781817]],\n",
       " [[array([165.8,  50.6])], [150.62176707671492, 50.03023895668677]],\n",
       " [[array([165.8,  54. ])], [155.48900318508856, 48.790546534700105]],\n",
       " [[array([165.8,  57.4])], [160.10382221566977, 47.35628875098008]],\n",
       " [[array([170.4,  20. ])], [104.07873788425776, 46.16237061782876]],\n",
       " [[array([170.4,  23.4])], [108.8160520371629, 47.15906474435335]],\n",
       " [[array([170.4,  26.8])], [113.7156220048603, 47.953516261726115]],\n",
       " [[array([170.4,  30.2])], [118.74712472469126, 48.533669646922654]],\n",
       " [[array([170.4,  33.6])], [123.87245248003161, 48.890142619996126]],\n",
       " [[array([170.4,  37. ])], [129.04748950197103, 49.01691108009288]],\n",
       " [[array([170.4,  40.4])], [134.22477380815795, 48.91178315299562]],\n",
       " [[array([170.4,  43.8])], [139.35668943420524, 48.57657840945497]],\n",
       " [[array([170.4,  47.2])], [144.39868369747714, 48.0169788336731]],\n",
       " [[array([170.4,  50.6])], [149.31199680117376, 47.24207939676413]],\n",
       " [[array([170.4,  54. ])], [154.06553023415498, 46.263718376278064]],\n",
       " [[array([170.4,  57.4])], [158.63670538757623, 45.09569545527346]],\n",
       " [[array([175.,  20.])], [106.02523201620339, 42.071644985552325]],\n",
       " [[array([175. ,  23.4])], [110.4300043315917, 43.09377775269653]],\n",
       " [[array([175. ,  26.8])], [114.97122879257985, 43.94157787819024]],\n",
       " [[array([175. ,  30.2])], [119.62923007182555, 44.60472177823355]],\n",
       " [[array([175. ,  33.6])], [124.37887497191883, 45.07460462210495]],\n",
       " [[array([175.,  37.])], [129.19036182440107, 45.34482703532355]],\n",
       " [[array([175. ,  40.4])], [134.03054162468516, 45.41158935412228]],\n",
       " [[array([175. ,  43.8])], [138.86465736264165, 45.273938973699664]],\n",
       " [[array([175. ,  47.2])], [143.6582947960522, 44.9338339239948]],\n",
       " [[array([175. ,  50.6])], [148.37928758807092, 44.39601287456256]],\n",
       " [[array([175.,  54.])], [152.99933076243116, 43.66769146411633]],\n",
       " [[array([175. ,  57.4])], [157.4951246966964, 42.75812925775916]],\n",
       " [[array([179.6,  20. ])], [107.87815422771612, 37.98834736926283]],\n",
       " [[array([179.6,  23.4])], [112.00953403122679, 39.04348599924709]],\n",
       " [[array([179.6,  26.8])], [116.25707655769027, 39.94869368668623]],\n",
       " [[array([179.6,  30.2])], [120.60832765853723, 40.695005352411016]],\n",
       " [[array([179.6,  33.6])], [125.04695828227261, 41.274546829006546]],\n",
       " [[array([179.6,  37. ])], [129.55306801865302, 41.68087926649669]],\n",
       " [[array([179.6,  40.4])], [134.1038006224058, 41.90930899298213]],\n",
       " [[array([179.6,  43.8])], [138.67424829830944, 41.95712973834717]],\n",
       " [[array([179.6,  47.2])], [143.23857190695304, 41.82376865179346]],\n",
       " [[array([179.6,  50.6])], [147.77122325811993, 41.51081781121659]],\n",
       " [[array([179.6,  54. ])], [152.24813524316644, 41.02194717183602]],\n",
       " [[array([179.6,  57.4])], [156.6477520576706, 40.3627100616376]]]"
      ]
     },
     "execution_count": 68,
     "metadata": {},
     "output_type": "execute_result"
    }
   ],
   "source": [
    "ra_dec_gal_coords"
   ]
  },
  {
   "cell_type": "code",
   "execution_count": null,
   "metadata": {},
   "outputs": [],
   "source": []
  }
 ],
 "metadata": {
  "kernelspec": {
   "display_name": "base",
   "language": "python",
   "name": "python3"
  },
  "language_info": {
   "codemirror_mode": {
    "name": "ipython",
    "version": 3
   },
   "file_extension": ".py",
   "mimetype": "text/x-python",
   "name": "python",
   "nbconvert_exporter": "python",
   "pygments_lexer": "ipython3",
   "version": "3.11.5"
  }
 },
 "nbformat": 4,
 "nbformat_minor": 2
}
