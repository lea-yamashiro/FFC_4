{
 "cells": [
  {
   "cell_type": "code",
   "execution_count": null,
   "metadata": {
    "collapsed": true,
    "jupyter": {
     "outputs_hidden": true
    }
   },
   "outputs": [],
   "source": [
    "## Import necessary packages\n",
    "\n",
    "%matplotlib qt\n",
    "# On Macs use osx\n",
    "# For Windows use qt\n",
    "\n",
    "import numpy as np\n",
    "from numpy.random import rand\n",
    "from landscape import Landscape # Import methods from inside file landscape.py\n",
    "\n",
    "from mpl_toolkits.mplot3d import Axes3D\n",
    "import matplotlib.pyplot as plt\n",
    "from matplotlib import cm"
   ]
  },
  {
   "cell_type": "code",
   "execution_count": null,
   "metadata": {},
   "outputs": [],
   "source": [
    "### Define simulation grid and initial conditions\n",
    "\n",
    "# small random features in topography to begin erosion\n",
    "def initial_conditions(NX,NY):\n",
    "    Z = rand(NX,NY)\n",
    "    return Z\n",
    "\n",
    "NX = 70 #number of rows\n",
    "NY = 70 #number of columns\n",
    "\n",
    "d  = 5 # grid spacing in meters\n",
    "dx = d # keep dx=dy for simplicity\n",
    "dy = d\n",
    "\n",
    "LX=NX*dx\n",
    "LY=NY*dy\n",
    "\n",
    "Z = initial_conditions(NX,NY)\n",
    "\n",
    "x = np.arange(NX)\n",
    "y = np.arange(NY)\n",
    "X,Y = np.meshgrid(y,x) #strange that y goes first !!!"
   ]
  },
  {
   "cell_type": "code",
   "execution_count": null,
   "metadata": {
    "collapsed": true,
    "jupyter": {
     "outputs_hidden": true
    }
   },
   "outputs": [],
   "source": [
    "### Physical Parameters\n",
    "K = 1.0e-6 # meters^(1-2m)/yr\n",
    "\n",
    "D = 0.005 # m^2/yr\n",
    "\n",
    "# uplift rate\n",
    "uplift = 0.03 / 600."
   ]
  },
  {
   "cell_type": "code",
   "execution_count": null,
   "metadata": {},
   "outputs": [],
   "source": [
    "### Model parameters\n",
    "\n",
    "# Set the time step dt\n",
    "# Remember for 2D diffusion problems we need eta = D * dt / dx^2 < 1/4\n",
    "# but because of the fluvial erosion terms please use eta < 1/8 or less\n",
    "dt = ...      \n",
    "print(' dt[years] = ',dt)\n",
    "\n",
    "#Area exponent A^m, default m=1\n",
    "m=1\n",
    "\n",
    "#gradient exponent g^n, default n=1\n",
    "n=1\n",
    "\n",
    "#erosion threshold \n",
    "theta_c = 10 "
   ]
  },
  {
   "cell_type": "code",
   "execution_count": null,
   "metadata": {},
   "outputs": [],
   "source": [
    "# Total simulation time\n",
    "T = 2000.0 * 625.0\n",
    "\n",
    "# total number of iterations\n",
    "n_iter = int(np.round(T/dt))\n",
    "print('Number of interations: ',n_iter)"
   ]
  },
  {
   "cell_type": "code",
   "execution_count": null,
   "metadata": {
    "collapsed": true,
    "jupyter": {
     "outputs_hidden": true
    }
   },
   "outputs": [],
   "source": [
    "# Initialize landscape \n",
    "ls = Landscape(NX,NY)\n",
    "ls.pool_check(Z,NX,NY)\n",
    "ls.A = np.zeros((NX,NY))"
   ]
  },
  {
   "cell_type": "code",
   "execution_count": null,
   "metadata": {},
   "outputs": [],
   "source": [
    "# Set-up figure\n",
    "def init_figure():\n",
    "    fig = plt.figure(figsize=(12.,6.))\n",
    "    plt.show()\n",
    "    return fig\n",
    "\n",
    "def update_figure():\n",
    "        plt.clf()\n",
    "        ax1 = fig.add_subplot(121,projection='3d')\n",
    "\n",
    "        # use equal x-y aspect with an explicit vertical exageration\n",
    "        vert_exag = 4.\n",
    "        ax1.set_xlim3d(0,max(NX,NY))\n",
    "        ax1.set_ylim3d(0,max(NX,NY))\n",
    "        ax1.set_zlim3d(0,max(NX,NY) / vert_exag)\n",
    "\n",
    "        ax1.set_title('Surface Relief x '+str(vert_exag))\n",
    "\n",
    "#        surf = ax1.plot_surface(X,Y,Z, color='yellowgreen', rstride=1, cstride=1,\n",
    "#                antialiased=False,linewidth=0)\n",
    "        surf = ax1.plot_surface(X,Y,Z, cmap = cm.terrain, rstride=1, cstride=1,\n",
    "                antialiased=False,linewidth=0)\n",
    "\n",
    "        ax2 = fig.add_subplot(122,aspect='equal')\n",
    "        ax2.set_title('Elevation')\n",
    "\n",
    "        #im = ax2.pcolor(Z,cmap=cm.terrain)\n",
    "        im = ax2.pcolor(Z,cmap=cm.coolwarm)\n",
    "        cs = ax2.contour(Z,6,colors='k')\n",
    "\n",
    "        # Add a color bar which maps values to colors.\n",
    "        cbar = fig.colorbar(im, shrink=0.5, aspect=5)\n",
    "        # Add the contour line levels to the colorbar\n",
    "        cbar.add_lines(cs)\n",
    "\n",
    "        #plt.show()\n",
    "        plt.draw()\n",
    "        plt.pause(0.05)"
   ]
  },
  {
   "cell_type": "code",
   "execution_count": null,
   "metadata": {},
   "outputs": [],
   "source": [
    "fig = init_figure()\n",
    "Znew = np.copy(Z)\n",
    "\n",
    "for it in range(1,n_iter+1):\n",
    "    \n",
    "    ls.calculate_collection_area(Z,NX,NY)\n",
    "    ls.A = ls.A*(dx*dy)\n",
    "    \n",
    "    for i in range(NX):\n",
    "        iL = np.mod(i-1,NX) # normally i-1 but observe p.b.c.\n",
    "        iR = np.mod(i+1,NX) # normally i+1 but observe p.b.c.\n",
    "\n",
    "        for j in range(NY):\n",
    "            jD = np.mod(j-1,NY) # normally j-1 but observe p.b.c.\n",
    "            jU = np.mod(j+1,NY) # normally j+1 but observe p.b.c.\n",
    "  \n",
    "            if ls.drain[i,j]>0: #regular pointm, not a pool, not a drainage point \n",
    "                ### use Z[i,j] and the indices i,iL,iR,j,jD,jU to derive 4 terms\n",
    "                s1 = ... ### enter gradient term 's1'\n",
    "                s2 = ... ### enter gradient term 's2'\n",
    "                s3 = ... ### enter gradient term 's3'\n",
    "                s4 = ... ### enter gradient term 's4'\n",
    "                gradient = ... ### compute gradient from s1-s4\n",
    "                \n",
    "                #use gradient, uplift rate, erosion threshold, and drainage array size stored in ls.A[i,j]\n",
    "                Psi_z = ... ### see Eq. (15) of Perron (2008) paper\n",
    "\n",
    "            elif ls.drainage[i,j]>0: #this cell is a drainage point (it drains a pool)\n",
    "                \n",
    "                if (Z[i,j]>=Z[iR,j]) and ls.pool[iR,j]!=ls.drainage[i,j]: \n",
    "                    gradient = (Z[i,j]-Z[iR,j])/dx #pool is on my left, I drain to the right, use this gradiant\n",
    "                elif (Z[i,j]>=Z[iL,j]) and ls.pool[iL,j]!=ls.drainage[i,j]:\n",
    "                    gradient = (Z[i,j]-Z[iL,j])/dx\n",
    "                elif (Z[i,j]>=Z[i,jU]) and ls.pool[i,jU]!=ls.drainage[i,j]:\n",
    "                    gradient = (Z[i,j]-Z[i,jU])/dy\n",
    "                elif (Z[i,j]>=Z[i,jD]) and ls.pool[i,jD]!=ls.drainage[i,j]:\n",
    "                    gradient = (Z[i,j]-Z[i,jD])/dy\n",
    "                else:\n",
    "                    gradient = 0.02 # ??? This does happen (maybe when two pools merge)\n",
    "\n",
    "                Psi_z = ... ### repeat Eq. (15) from above\n",
    "                \n",
    "            else: #this cell is a pool, assume it has some mass diffusion but no erosion!\n",
    "                Psi_z = 0.\n",
    "                \n",
    "            if (Psi_z<0):\n",
    "                Psi_z = 0. \n",
    "\n",
    "            # diffusion term, derive in terms of D,Z[:,:],dx,dy\n",
    "            Phi_z = ...\n",
    "           \n",
    "            # insert Phi_z, Psi_z, and uplift terms to obtain new elevation Znew[i,j]\n",
    "            Znew[i,j] = Z[i,j] + ( ... )*dt  \n",
    "\n",
    "            dZdt= (Znew[i,j] - Z[i,j]) / dt\n",
    "            CFL = abs(dZdt) * dt / min(dx,dy)\n",
    "            if (CFL>1.0):\n",
    "                print('\\nWarning: Time step of',dt,'is probably too large. Safer would be:',dt/CFL)\n",
    "\n",
    "            if (Znew[i,j]<0.):\n",
    "                Znew[i,j] = 0. # yes, this does happen at the boundary when kept at zero\n",
    "    \n",
    "    Znew[0,:] = 0.0 # resets front boundary to 0\n",
    "    Z = np.copy(Znew)\n",
    "    \n",
    "    ls.pool_check(Z,NX,NY)\n",
    "\n",
    "    if (np.mod(it,10)==0): \n",
    "        print(it,end='')\n",
    "        update_figure()\n",
    "    else:\n",
    "        print('.',end='')\n",
    "\n",
    "update_figure()\n",
    "print(' Simulation finished.')\n"
   ]
  },
  {
   "cell_type": "code",
   "execution_count": null,
   "metadata": {},
   "outputs": [],
   "source": []
  }
 ],
 "metadata": {
  "anaconda-cloud": {},
  "kernelspec": {
   "display_name": "Python 3 (ipykernel)",
   "language": "python",
   "name": "python3"
  },
  "language_info": {
   "codemirror_mode": {
    "name": "ipython",
    "version": 3
   },
   "file_extension": ".py",
   "mimetype": "text/x-python",
   "name": "python",
   "nbconvert_exporter": "python",
   "pygments_lexer": "ipython3",
   "version": "3.9.12"
  }
 },
 "nbformat": 4,
 "nbformat_minor": 4
}
