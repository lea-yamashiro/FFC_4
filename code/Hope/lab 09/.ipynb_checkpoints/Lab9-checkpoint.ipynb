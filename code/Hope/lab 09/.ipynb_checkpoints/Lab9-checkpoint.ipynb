{
 "cells": [
  {
   "cell_type": "code",
   "execution_count": 19,
   "metadata": {
    "jupyter": {
     "outputs_hidden": true
    }
   },
   "outputs": [],
   "source": [
    "## Import necessary packages\n",
    "\n",
    "%matplotlib osx\n",
    "\n",
    "import numpy as np\n",
    "from numpy.random import rand\n",
    "from landscape import Landscape # Import methods from inside file landscape.py\n",
    "\n",
    "from mpl_toolkits.mplot3d import Axes3D\n",
    "import matplotlib.pyplot as plt\n",
    "from matplotlib import cm"
   ]
  },
  {
   "cell_type": "markdown",
   "metadata": {},
   "source": [
    "(1) Work out the time step dt. Assume dx=5 meters and D=5*10-3 meters^2/year. Remember for 2D diffusion problems, stable solutions require 𝜂 = 𝐷 × Δ𝑡/ Δ𝑥^2 < 1/4. However, because of the\n",
    "additional fluvial erosion terms, we suggest using 𝜂 < 1/8."
   ]
  },
  {
   "cell_type": "code",
   "execution_count": 20,
   "metadata": {},
   "outputs": [],
   "source": [
    "### Define simulation grid and initial conditions\n",
    "\n",
    "# small random features in topography to begin erosion\n",
    "def initial_conditions(NX,NY):\n",
    "    Z = rand(NX,NY)\n",
    "    return Z\n",
    "\n",
    "NX = 70 #number of rows\n",
    "NY = 70 #number of columns\n",
    "\n",
    "d  = 5 # grid spacing in meters\n",
    "dx = d # keep dx=dy for simplicity\n",
    "dy = d\n",
    "\n",
    "LX=NX*dx # #of rows * 5 = ?\n",
    "LY=NY*dy\n",
    "\n",
    "Z = initial_conditions(NX,NY)\n",
    "\n",
    "x = np.arange(NX)\n",
    "y = np.arange(NY)\n",
    "X,Y = np.meshgrid(y,x) #strange that y goes first !!!"
   ]
  },
  {
   "cell_type": "code",
   "execution_count": 21,
   "metadata": {
    "jupyter": {
     "outputs_hidden": true
    }
   },
   "outputs": [
    {
     "name": "stdout",
     "output_type": "stream",
     "text": [
      "uplift rate  4.9999999999999996e-05\n"
     ]
    }
   ],
   "source": [
    "'''Physical Parameters'''\n",
    "\n",
    "K = 1.0e-6 # meters^(1-2m)/yr\n",
    "\n",
    "D = 0.005 # m^2/yr\n",
    "\n",
    "# uplift rate - equation 13, equivalent to E\n",
    "# ∂z/∂t = D∇^2z − K(A^m*|∇z|^n − θ_c) + E\n",
    "uplift = E = 0.03 / 600.\n",
    "print('uplift rate ', uplift)"
   ]
  },
  {
   "cell_type": "code",
   "execution_count": 22,
   "metadata": {},
   "outputs": [
    {
     "name": "stdout",
     "output_type": "stream",
     "text": [
      "dt[years] =  500.0\n"
     ]
    }
   ],
   "source": [
    "### Model parameters\n",
    "\n",
    "# Set the time step dt\n",
    "# Remember for 2D diffusion problems we need eta = D * dt / dx^2 < 1/4\n",
    "# but because of the fluvial erosion terms please use eta < 1/8 or less\n",
    "eta = 0.1\n",
    "dt = eta * (dx ** 2) / D      \n",
    "print('dt[years] = ',dt)\n",
    "\n",
    "#Area exponent A^m, default m=1\n",
    "m=1\n",
    "\n",
    "#gradient exponent g^n, default n=1\n",
    "n=1\n",
    "\n",
    "#erosion threshold \n",
    "theta_c = 10 "
   ]
  },
  {
   "cell_type": "code",
   "execution_count": 23,
   "metadata": {},
   "outputs": [
    {
     "name": "stdout",
     "output_type": "stream",
     "text": [
      "Number of interations:  2500\n"
     ]
    }
   ],
   "source": [
    "# Total simulation time\n",
    "T = 2000.0 * 625.0\n",
    "\n",
    "# total number of iterations\n",
    "n_iter = int(np.round(T/dt))\n",
    "print('Number of interations: ',n_iter)"
   ]
  },
  {
   "cell_type": "code",
   "execution_count": 24,
   "metadata": {
    "jupyter": {
     "outputs_hidden": true
    }
   },
   "outputs": [],
   "source": [
    "# Initialize landscape \n",
    "ls = Landscape(NX,NY)\n",
    "ls.pool_check(Z,NX,NY)\n",
    "ls.A = np.zeros((NX,NY))"
   ]
  },
  {
   "cell_type": "code",
   "execution_count": 25,
   "metadata": {},
   "outputs": [],
   "source": [
    "# Set-up figure\n",
    "def init_figure():\n",
    "    fig = plt.figure(figsize=(12.,6.))\n",
    "    plt.show()\n",
    "    return fig\n",
    "\n",
    "def update_figure():\n",
    "        plt.clf()\n",
    "        ax1 = fig.add_subplot(121,projection='3d')\n",
    "\n",
    "        # use equal x-y aspect with an explicit vertical exageration\n",
    "        vert_exag = 4.\n",
    "        ax1.set_xlim3d(0,max(NX,NY))\n",
    "        ax1.set_ylim3d(0,max(NX,NY))\n",
    "        ax1.set_zlim3d(0,max(NX,NY) / vert_exag)\n",
    "\n",
    "        ax1.set_title('Surface Relief x '+str(vert_exag))\n",
    "\n",
    "#        surf = ax1.plot_surface(X,Y,Z, color='yellowgreen', rstride=1, cstride=1,\n",
    "#                antialiased=False,linewidth=0)\n",
    "        surf = ax1.plot_surface(X,Y,Z, cmap = cm.terrain, rstride=1, cstride=1,\n",
    "                antialiased=False,linewidth=0)\n",
    "\n",
    "        ax2 = fig.add_subplot(122,aspect='equal')\n",
    "        ax2.set_title('Elevation')\n",
    "\n",
    "        #im = ax2.pcolor(Z,cmap=cm.terrain)\n",
    "        im = ax2.pcolor(Z,cmap=cm.coolwarm)\n",
    "        cs = ax2.contour(Z,6,colors='k')\n",
    "\n",
    "        # Add a color bar which maps values to colors.\n",
    "        cbar = fig.colorbar(im, shrink=0.5, aspect=5)\n",
    "        # Add the contour line levels to the colorbar\n",
    "        cbar.add_lines(cs)\n",
    "\n",
    "        #plt.show()\n",
    "        plt.draw()\n",
    "        plt.pause(0.05)"
   ]
  },
  {
   "cell_type": "markdown",
   "metadata": {},
   "source": [
    "(2) Compute the gradient |∇z| using the intermediate terms s1, s2, s3, and s4 as specified below equation 15 in the Perron paper.\n",
    "\n",
    "(3) The equation for the elevation change includes two terms, ∆𝑧 = ∆𝑡 × [Ψ(z) + Φ(z)]. First €\n",
    "compute the fluvial erosion term Ψ(z). It is the second term in equation 13 of Perron’s paper. It depends on the constants K, m, n, and qc as well as on the precomputed drainage area A(i,j) and your gradient. You need to enter the equation for Ψ(z) on line 26 and repeat it on line 41 of your notebook. (Enable line numbers in the View menu.)\n",
    "\n",
    "(4) Enter the mass diffusion term, Φ(z), on line 50 using the elevation Z(i,j) and diffusion constant D. Right below compute Znew[i,j]. Try running your code now! Hopefully it works.\n"
   ]
  },
  {
   "cell_type": "code",
   "execution_count": 1,
   "metadata": {},
   "outputs": [
    {
     "ename": "NameError",
     "evalue": "name 'init_figure' is not defined",
     "output_type": "error",
     "traceback": [
      "\u001b[0;31m---------------------------------------------------------------------------\u001b[0m",
      "\u001b[0;31mNameError\u001b[0m                                 Traceback (most recent call last)",
      "Input \u001b[0;32mIn [1]\u001b[0m, in \u001b[0;36m<cell line: 1>\u001b[0;34m()\u001b[0m\n\u001b[0;32m----> 1\u001b[0m fig \u001b[38;5;241m=\u001b[39m \u001b[43minit_figure\u001b[49m()\n\u001b[1;32m      2\u001b[0m Znew \u001b[38;5;241m=\u001b[39m np\u001b[38;5;241m.\u001b[39mcopy(Z)\n\u001b[1;32m      3\u001b[0m \u001b[38;5;28;01mfor\u001b[39;00m it \u001b[38;5;129;01min\u001b[39;00m \u001b[38;5;28mrange\u001b[39m(\u001b[38;5;241m1\u001b[39m,n_iter\u001b[38;5;241m+\u001b[39m\u001b[38;5;241m1\u001b[39m):\n",
      "\u001b[0;31mNameError\u001b[0m: name 'init_figure' is not defined"
     ]
    }
   ],
   "source": [
    "fig = init_figure()\n",
    "Znew = np.copy(Z)\n",
    "for it in range(1,n_iter+1):\n",
    "    \n",
    "    ls.calculate_collection_area(Z,NX,NY)\n",
    "    ls.A = ls.A*(dx*dy)\n",
    "    \n",
    "    for i in range(NX):\n",
    "        iL = np.mod(i-1,NX) # normally i-1 but observe p.b.c.\n",
    "        iR = np.mod(i+1,NX) # normally i+1 but observe p.b.c.\n",
    "\n",
    "        for j in range(NY):\n",
    "            jD = np.mod(j-1,NY) # normally j-1 but observe p.b.c.\n",
    "            jU = np.mod(j+1,NY) # normally j+1 but observe p.b.c.\n",
    "  \n",
    "            if ls.drain[i,j]>0: #regular pointm, not a pool, not a drainage point \n",
    "                ### use Z[i,j] and the indices i,iL,iR,j,jD,jU to derive 4 terms\n",
    "                s1 = (Z[iR,j]- Z[iL,j])/(2*dx) ### enter gradient term 's1'\n",
    "                s2 = (Z[i,jU]-Z[i,jD])/(2*dy)### enter gradient term 's2'\n",
    "                s3 = (Z[iR,jD] - Z[iL,jU])/(2*np.sqrt(dx**2+dy**2)) ### enter gradient term 's3'\n",
    "                s4 = (Z[iR,jU] - Z[iL,jD])/(2*np.sqrt(dx**2+dy**2)) ##(Z[iR,jD] - Z[iL,jU])/(2*np.sqrt(dx**2+dy**2))# enter gradient term 's4'\n",
    "                gradient = (np.sqrt(s1**2+s2**2)+np.sqrt(s3**2+s4**2))/2 ###compute gradient from s1-s4\n",
    "                \n",
    "                #use gradient, uplift rate, erosion threshold, and drainage array size stored in ls.A[i,j]\n",
    "                Psi_z = uplift - K*(ls.A[i,j]**m*gradient**n - theta_c) ### see Eq. (15) of Perron (2008) paper\n",
    "\n",
    "            elif ls.drainage[i,j]>0: #this cell is a drainage point (it drains a pool)\n",
    "                \n",
    "                if (Z[i,j]>=Z[iR,j]) and ls.pool[iR,j]!=ls.drainage[i,j]: \n",
    "                    gradient = (Z[i,j]-Z[iR,j])/dx #pool is on my left, I drain to the right, use this gradiant\n",
    "                elif (Z[i,j]>=Z[iL,j]) and ls.pool[iL,j]!=ls.drainage[i,j]:\n",
    "                    gradient = (Z[i,j]-Z[iL,j])/dx\n",
    "                elif (Z[i,j]>=Z[i,jU]) and ls.pool[i,jU]!=ls.drainage[i,j]:\n",
    "                    gradient = (Z[i,j]-Z[i,jU])/dy\n",
    "                elif (Z[i,j]>=Z[i,jD]) and ls.pool[i,jD]!=ls.drainage[i,j]:\n",
    "                    gradient = (Z[i,j]-Z[i,jD])/dy\n",
    "                else:\n",
    "                    gradient = 0.02 # ??? This does happen (maybe when two pools merge)\n",
    "\n",
    "                Psi_z = uplift - K*(ls.A[i,j]**m*gradient**n - theta_c) ### repeat Eq. (15) from above\n",
    "                \n",
    "            else: #this cell is a pool, assume it has some mass diffusion but no erosion!\n",
    "                Psi_z = 0.\n",
    "                \n",
    "            if (Psi_z<0):\n",
    "                Psi_z = 0. \n",
    "\n",
    "            # diffusion term, derive in terms of D,Z[:,:],dx,dy\n",
    "            Phi_z = D * (Z[iR,j]-2*Z[i,j]+Z[iL,j])/(dx**2 + (Z[i,jU]-2*Z[i,j] + Z[i,jD]/dy**2))\n",
    "           \n",
    "            # insert Phi_z, Psi_z, and uplift terms to obtain new elevation Znew[i,j]\n",
    "            dz = (Phi_z + Psi_z)* dt  \n",
    "            Znew[i,j] = Z[i,j] + dz\n",
    "\n",
    "            dZdt= (Znew[i,j] - Z[i,j]) / dt\n",
    "            CFL = abs(dZdt) * dt / min(dx,dy)\n",
    "            if (CFL>1.0):\n",
    "                print('\\nWarning: Time step of',dt,'is probably too large. Safer would be:',dt/CFL)\n",
    "\n",
    "            if (Znew[i,j]<0.):\n",
    "                Znew[i,j] = 0. # yes, this does happen at the boundary when kept at zero\n",
    "    \n",
    "    Znew[0,:] = 0.0 # resets front boundary to 0\n",
    "    Z = np.copy(Znew)\n",
    "    \n",
    "    ls.pool_check(Z,NX,NY)\n",
    "\n",
    "    if (np.mod(it,10)==0): \n",
    "        print(it,end='')\n",
    "        update_figure()\n",
    "    else:\n",
    "        print('.',end='')\n",
    "\n",
    "update_figure()\n",
    "print(' Simulation finished.')\n"
   ]
  },
  {
   "cell_type": "markdown",
   "metadata": {},
   "source": [
    "(5) We want to perform 3 parameter modifications and analyze the effects. Please increase the stream stress threshold, theta_c, by factors of 10 until you see a noticeable change in the final landscape. Describe the change in shape and give an explanation!"
   ]
  },
  {
   "cell_type": "markdown",
   "metadata": {},
   "source": [
    "elevation and steepness increases."
   ]
  },
  {
   "cell_type": "code",
   "execution_count": null,
   "metadata": {},
   "outputs": [],
   "source": [
    "theta_c = 100"
   ]
  },
  {
   "cell_type": "code",
   "execution_count": null,
   "metadata": {},
   "outputs": [
    {
     "name": "stdout",
     "output_type": "stream",
     "text": [
      ".........10.........20.........30.........40.........50.........60.........70.........80.........90.........100......"
     ]
    },
    {
     "ename": "KeyboardInterrupt",
     "evalue": "",
     "output_type": "error",
     "traceback": [
      "\u001b[0;31m---------------------------------------------------------------------------\u001b[0m",
      "\u001b[0;31mKeyboardInterrupt\u001b[0m                         Traceback (most recent call last)",
      "Input \u001b[0;32mIn [14]\u001b[0m, in \u001b[0;36m<cell line: 4>\u001b[0;34m()\u001b[0m\n\u001b[1;32m     63\u001b[0m Znew[\u001b[38;5;241m0\u001b[39m,:] \u001b[38;5;241m=\u001b[39m \u001b[38;5;241m0.0\u001b[39m \u001b[38;5;66;03m# resets front boundary to 0\u001b[39;00m\n\u001b[1;32m     64\u001b[0m Z \u001b[38;5;241m=\u001b[39m np\u001b[38;5;241m.\u001b[39mcopy(Znew)\n\u001b[0;32m---> 66\u001b[0m \u001b[43mls\u001b[49m\u001b[38;5;241;43m.\u001b[39;49m\u001b[43mpool_check\u001b[49m\u001b[43m(\u001b[49m\u001b[43mZ\u001b[49m\u001b[43m,\u001b[49m\u001b[43mNX\u001b[49m\u001b[43m,\u001b[49m\u001b[43mNY\u001b[49m\u001b[43m)\u001b[49m\n\u001b[1;32m     68\u001b[0m \u001b[38;5;28;01mif\u001b[39;00m (np\u001b[38;5;241m.\u001b[39mmod(it,\u001b[38;5;241m10\u001b[39m)\u001b[38;5;241m==\u001b[39m\u001b[38;5;241m0\u001b[39m): \n\u001b[1;32m     69\u001b[0m     \u001b[38;5;28mprint\u001b[39m(it,end\u001b[38;5;241m=\u001b[39m\u001b[38;5;124m'\u001b[39m\u001b[38;5;124m'\u001b[39m)\n",
      "File \u001b[0;32m~/EPS 109/Week 9/Lab/landscape.py:180\u001b[0m, in \u001b[0;36mLandscape.pool_check\u001b[0;34m(self, Z, NX, NY)\u001b[0m\n\u001b[1;32m    177\u001b[0m     \u001b[38;5;28mself\u001b[39m\u001b[38;5;241m.\u001b[39mpool[\u001b[38;5;28mself\u001b[39m\u001b[38;5;241m.\u001b[39mpool\u001b[38;5;241m==\u001b[39mPL] \u001b[38;5;241m=\u001b[39m \u001b[38;5;28mmax\u001b[39m([PL,PR,PU,PD])\n\u001b[1;32m    179\u001b[0m \u001b[38;5;28;01mif\u001b[39;00m PR:\n\u001b[0;32m--> 180\u001b[0m     \u001b[38;5;28mself\u001b[39m\u001b[38;5;241m.\u001b[39mpool[\u001b[38;5;28;43mself\u001b[39;49m\u001b[38;5;241;43m.\u001b[39;49m\u001b[43mpool\u001b[49m\u001b[38;5;241;43m==\u001b[39;49m\u001b[43mPR\u001b[49m] \u001b[38;5;241m=\u001b[39m \u001b[38;5;28mmax\u001b[39m([PL,PR,PU,PD])\n\u001b[1;32m    182\u001b[0m \u001b[38;5;28;01mif\u001b[39;00m PU:\n\u001b[1;32m    183\u001b[0m     \u001b[38;5;28mself\u001b[39m\u001b[38;5;241m.\u001b[39mpool[\u001b[38;5;28mself\u001b[39m\u001b[38;5;241m.\u001b[39mpool\u001b[38;5;241m==\u001b[39mPU] \u001b[38;5;241m=\u001b[39m \u001b[38;5;28mmax\u001b[39m([PL,PR,PU,PD])\n",
      "\u001b[0;31mKeyboardInterrupt\u001b[0m: "
     ]
    }
   ],
   "source": [
    "fig = init_figure()\n",
    "Znew = np.copy(Z)\n",
    "\n",
    "for it in range(1,n_iter+1):\n",
    "    \n",
    "    ls.calculate_collection_area(Z,NX,NY)\n",
    "    ls.A = ls.A*(dx*dy)\n",
    "    \n",
    "    for i in range(NX):\n",
    "        iL = np.mod(i-1,NX) # normally i-1 but observe p.b.c.\n",
    "        iR = np.mod(i+1,NX) # normally i+1 but observe p.b.c.\n",
    "\n",
    "        for j in range(NY):\n",
    "            jD = np.mod(j-1,NY) # normally j-1 but observe p.b.c.\n",
    "            jU = np.mod(j+1,NY) # normally j+1 but observe p.b.c.\n",
    "  \n",
    "            if ls.drain[i,j]>0: #regular pointm, not a pool, not a drainage point \n",
    "            #use Z[i,j] and the indices i,iL,iR,j,jD,jU to derive 4 terms\n",
    "                s1 = (Z[iL,j] - Z[iL,j]) / (2 * dx) ### enter gradient term 's1'\n",
    "                s2 = (Z[i,jU] - Z[i,jD]) / (2 * dy) ### enter gradient term 's2'\n",
    "                s3 = (Z[iR,jD] - Z[iL,jU]) / (2 * np.sqrt(dx ** 2 + dy ** 2)) ### enter gradient term 's3'\n",
    "                s4 = (Z[iR,jU] - Z[iL,jD]) / (2 * np.sqrt(dx ** 2 + dy ** 2)) ### enter gradient term 's4'\n",
    "                gradient = (np.sqrt(s1 ** 2 + s2 ** 2) + np.sqrt(s3 ** 2 + s4 ** 2)) / 2 ### compute gradient from s1-s4\n",
    "                \n",
    "                #use gradient, uplift rate, erosion threshold, and drainage array size stored in ls.A[i,j]\n",
    "                Psi_z = uplift - K*(ls.A[i,j]*(gradient)-theta_c) ### see Eq. (15) of Perron (2008) paper\n",
    "\n",
    "            elif ls.drainage[i,j]>0: #this cell is a drainage point (it drains a pool)\n",
    "                \n",
    "                if (Z[i,j]>=Z[iR,j]) and ls.pool[iR,j]!=ls.drainage[i,j]: \n",
    "                    gradient = (Z[i,j]-Z[iR,j])/dx #pool is on my left, I drain to the right, use this gradiant\n",
    "                elif (Z[i,j]>=Z[iL,j]) and ls.pool[iL,j]!=ls.drainage[i,j]:\n",
    "                    gradient = (Z[i,j]-Z[iL,j])/dx\n",
    "                elif (Z[i,j]>=Z[i,jU]) and ls.pool[i,jU]!=ls.drainage[i,j]:\n",
    "                    gradient = (Z[i,j]-Z[i,jU])/dy\n",
    "                elif (Z[i,j]>=Z[i,jD]) and ls.pool[i,jD]!=ls.drainage[i,j]:\n",
    "                    gradient = (Z[i,j]-Z[i,jD])/dy\n",
    "                else:\n",
    "                    gradient = 0.02 # ??? This does happen (maybe when two pools merge)\n",
    "\n",
    "                Psi_z = uplift - K*(ls.A[i,j]*(gradient)-theta_c) ### repeat Eq. (15) from above\n",
    "                \n",
    "            else: #this cell is a pool, assume it has some mass diffusion but no erosion!\n",
    "                Psi_z = 0.\n",
    "                \n",
    "            if (Psi_z<0):\n",
    "                Psi_z = 0. \n",
    "\n",
    "            # diffusion term, derive in terms of D,Z[:,:],dx,dy\n",
    "            Phi_z = D * ((Z[iR,j] - 2 * Z[i,j] + Z[iL,j]) / dx ** 2 + (Z[i,jU] - 2 * Z[i,j] + Z[i,jD]) / dy ** 2)\n",
    "           \n",
    "            # insert Phi_z, Psi_z, and uplift terms to obtain new elevation Znew[i,j]\n",
    "            Znew[i,j] = Z[i,j] + (Phi_z + Psi_z)*dt  \n",
    "\n",
    "            dZdt= (Znew[i,j] - Z[i,j]) / dt\n",
    "            CFL = abs(dZdt) * dt / min(dx,dy)\n",
    "            if (CFL>1.0):\n",
    "                print('\\nWarning: Time step of',dt,'is probably too large. Safer would be:',dt/CFL)\n",
    "\n",
    "            if (Znew[i,j]<0.):\n",
    "                Znew[i,j] = 0. # yes, this does happen at the boundary when kept at zero\n",
    "    \n",
    "    Znew[0,:] = 0.0 # resets front boundary to 0\n",
    "    Z = np.copy(Znew)\n",
    "    \n",
    "    ls.pool_check(Z,NX,NY)\n",
    "\n",
    "    if (np.mod(it,10)==0): \n",
    "        print(it,end='')\n",
    "        update_figure()\n",
    "    else:\n",
    "        print('.',end='')\n",
    "\n",
    "update_figure()\n",
    "print(' Simulation finished.')\n"
   ]
  },
  {
   "cell_type": "markdown",
   "metadata": {},
   "source": [
    "(6) Go back to the original value of qc and increase the gradient exponent n in steps of 0.5. Please reduce the time step by a factor of 5 for this and the following part! Keep increasing n until you see a drastic change, describe the effect, and give an explanation!\n",
    "\n",
    "Increase in gradient exponent n increases the number of basin that is created."
   ]
  },
  {
   "cell_type": "markdown",
   "metadata": {},
   "source": [
    "(7) Go back to the original value of n and instead increase the area exponent m in steps of 0.05 until you see a change. Again describe the effect and give an explanation!\n",
    "\n",
    "Increase in m increases the area of the basin."
   ]
  },
  {
   "cell_type": "code",
   "execution_count": null,
   "metadata": {},
   "outputs": [],
   "source": []
  }
 ],
 "metadata": {
  "anaconda-cloud": {},
  "kernelspec": {
   "display_name": "Python 3 (ipykernel)",
   "language": "python",
   "name": "python3"
  },
  "language_info": {
   "codemirror_mode": {
    "name": "ipython",
    "version": 3
   },
   "file_extension": ".py",
   "mimetype": "text/x-python",
   "name": "python",
   "nbconvert_exporter": "python",
   "pygments_lexer": "ipython3",
   "version": "3.9.12"
  }
 },
 "nbformat": 4,
 "nbformat_minor": 4
}
