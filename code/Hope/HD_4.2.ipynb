{
 "cells": [
  {
   "cell_type": "code",
   "execution_count": 1,
   "id": "0b7bee40",
   "metadata": {},
   "outputs": [],
   "source": [
    "import numpy as np\n",
    "import pandas as pd \n",
    "import matplotlib.pyplot as plt"
   ]
  },
  {
   "cell_type": "code",
   "execution_count": 2,
   "id": "47427b80",
   "metadata": {},
   "outputs": [
    {
     "data": {
      "text/plain": [
       "'/Users/hopediffenderfer/Desktop/ay121/FFC_folder/FFC_4/code/Hope'"
      ]
     },
     "execution_count": 2,
     "metadata": {},
     "output_type": "execute_result"
    }
   ],
   "source": [
    "pwd"
   ]
  },
  {
   "cell_type": "code",
   "execution_count": 3,
   "id": "2c387ae7",
   "metadata": {},
   "outputs": [
    {
     "name": "stdout",
     "output_type": "stream",
     "text": [
      "/Users/hopediffenderfer/Desktop/ay121/FFC_folder/FFC_4/code\n"
     ]
    }
   ],
   "source": [
    "cd ../"
   ]
  },
  {
   "cell_type": "code",
   "execution_count": 4,
   "id": "8b0f1060",
   "metadata": {},
   "outputs": [
    {
     "name": "stdout",
     "output_type": "stream",
     "text": [
      "/Users/hopediffenderfer/Desktop/ay121/FFC_folder/FFC_4\n"
     ]
    }
   ],
   "source": [
    "cd ../"
   ]
  },
  {
   "cell_type": "code",
   "execution_count": 5,
   "id": "c3cbc691",
   "metadata": {},
   "outputs": [
    {
     "name": "stdout",
     "output_type": "stream",
     "text": [
      "/Users/hopediffenderfer/Desktop/ay121/FFC_folder/FFC_4/data/042224/capture_042224\n"
     ]
    }
   ],
   "source": [
    "cd data/042224/capture_042224"
   ]
  },
  {
   "cell_type": "code",
   "execution_count": 6,
   "id": "c7bd484a",
   "metadata": {},
   "outputs": [
    {
     "name": "stdout",
     "output_type": "stream",
     "text": [
      "spec100_2_L180_B54.npz  spec144_2_L134_B57.npz  spec59_2_L170_B37.npz\r\n",
      "spec101_2_L161_B51.npz  spec14_2_L147_B23.npz   spec5_2_L138_B20.npz\r\n",
      "spec102_2_L175_B54.npz  spec15_2_L161_B20.npz   spec60_2_L166_B37.npz\r\n",
      "spec103_2_L134_B37.npz  spec16_2_L129_B27.npz   spec61_2_L175_B37.npz\r\n",
      "spec104_2_L138_B40.npz  spec17_2_L152_B23.npz   spec62_2_L180_B37.npz\r\n",
      "spec105_2_L170_B54.npz  spec18_2_L166_B20.npz   spec63_2_L161_B37.npz\r\n",
      "spec106_2_L143_B44.npz  spec19_2_L134_B27.npz   spec64_2_L157_B37.npz\r\n",
      "spec107_2_L157_B51.npz  spec20_2_L157_B23.npz   spec65_2_L152_B37.npz\r\n",
      "spec108_2_L129_B34.npz  spec21_2_L170_B20.npz   spec66_2_L138_B34.npz\r\n",
      "spec109_2_L166_B54.npz  spec22_2_L138_B27.npz   spec67_2_L175_B40.npz\r\n",
      "spec10_2_L138_B23.npz   spec23_2_L161_B23.npz   spec68_2_L180_B40.npz\r\n",
      "spec110_2_L147_B47.npz  spec24_2_L175_B20.npz   spec69_2_L170_B40.npz\r\n",
      "spec111_2_L180_B57.npz  spec25_2_L143_B27.npz   spec6_2_L134_B23.npz\r\n",
      "spec112_2_L161_B54.npz  spec26_2_L166_B23.npz   spec70_2_L129_B30.npz\r\n",
      "spec113_2_L175_B57.npz  spec27_2_L147_B27.npz   spec71_2_L147_B37.npz\r\n",
      "spec114_2_L152_B51.npz  spec28_2_L180_B20.npz   spec72_2_L166_B40.npz\r\n",
      "spec115_2_L170_B57.npz  spec29_2_L170_B23.npz   spec73_2_L161_B40.npz\r\n",
      "spec116_2_L157_B54.npz  spec30_2_L152_B27.npz   spec74_2_L157_B40.npz\r\n",
      "spec117_2_L166_B57.npz  spec31_2_L157_B27.npz   spec75_2_L143_B37.npz\r\n",
      "spec118_2_L143_B47.npz  spec32_2_L175_B23.npz   spec76_2_L180_B44.npz\r\n",
      "spec119_2_L138_B44.npz  spec33_2_L161_B27.npz   spec77_2_L175_B44.npz\r\n",
      "spec11_2_L152_B20.npz   spec34_2_L180_B23.npz   spec78_2_L152_B40.npz\r\n",
      "spec120_2_L147_B51.npz  spec35_2_L166_B27.npz   spec79_2_L170_B44.npz\r\n",
      "spec121_2_L161_B57.npz  spec36_2_L170_B27.npz   spec7_2_L143_B20.npz\r\n",
      "spec122_2_L134_B40.npz  spec37_2_L175_B27.npz   spec80_2_L166_B44.npz\r\n",
      "spec123_2_L152_B54.npz  spec38_2_L180_B27.npz   spec81_2_L134_B34.npz\r\n",
      "spec124_2_L157_B57.npz  spec39_2_L152_B30.npz   spec82_2_L161_B44.npz\r\n",
      "spec125_2_L143_B51.npz  spec3_2_L134_B20.npz    spec83_2_L147_B40.npz\r\n",
      "spec126_2_L147_B54.npz  spec40_2_L147_B30.npz   spec84_2_L180_B47.npz\r\n",
      "spec127_2_L138_B47.npz  spec41_2_L157_B30.npz   spec85_2_L157_B44.npz\r\n",
      "spec128_2_L152_B57.npz  spec42_2_L161_B30.npz   spec86_2_L175_B47.npz\r\n",
      "spec129_2_L129_B37.npz  spec43_2_L143_B30.npz   spec87_2_L138_B37.npz\r\n",
      "spec12_2_L143_B23.npz   spec44_2_L166_B30.npz   spec88_2_L170_B47.npz\r\n",
      "spec130_2_L134_B44.npz  spec45_2_L170_B30.npz   spec89_2_L166_B47.npz\r\n",
      "spec131_2_L143_B54.npz  spec46_2_L138_B30.npz   spec90_2_L152_B44.npz\r\n",
      "spec132_2_L147_B57.npz  spec47_2_L175_B30.npz   spec91_2_L143_B40.npz\r\n",
      "spec134_2_L138_B51.npz  spec48_2_L180_B30.npz   spec92_2_L161_B47.npz\r\n",
      "spec135_2_L134_B47.npz  spec49_2_L161_B34.npz   spec93_2_L180_B51.npz\r\n",
      "spec136_2_L143_B57.npz  spec50_2_L134_B30.npz   spec94_2_L175_B51.npz\r\n",
      "spec137_2_L129_B40.npz  spec51_2_L166_B34.npz   spec95_2_L157_B47.npz\r\n",
      "spec138_2_L138_B54.npz  spec52_2_L157_B34.npz   spec96_2_L170_B51.npz\r\n",
      "spec139_2_L134_B51.npz  spec53_2_L170_B34.npz   spec97_2_L147_B44.npz\r\n",
      "spec13_2_L157_B20.npz   spec54_2_L175_B34.npz   spec98_2_L166_B51.npz\r\n",
      "spec140_2_L138_B57.npz  spec55_2_L152_B34.npz   spec99_2_L152_B47.npz\r\n",
      "spec141_2_L129_B44.npz  spec56_2_L180_B34.npz   spec9_2_L147_B20.npz\r\n",
      "spec142_2_L134_B54.npz  spec57_2_L147_B34.npz\r\n",
      "spec143_2_L129_B47.npz  spec58_2_L143_B34.npz\r\n"
     ]
    }
   ],
   "source": [
    "ls"
   ]
  },
  {
   "cell_type": "code",
   "execution_count": 34,
   "id": "13b4c43c",
   "metadata": {},
   "outputs": [
    {
     "name": "stdout",
     "output_type": "stream",
     "text": [
      "Index: 0 Filename: spec3_2_L134_B20.npz\n",
      "Index: 1 Filename: spec5_2_L138_B20.npz\n",
      "Index: 2 Filename: spec6_2_L134_B23.npz\n",
      "Index: 3 Filename: spec7_2_L143_B20.npz\n",
      "Index: 4 Filename: spec9_2_L147_B20.npz\n",
      "Index: 5 Filename: spec10_2_L138_B23.npz\n",
      "Index: 6 Filename: spec11_2_L152_B20.npz\n",
      "Index: 7 Filename: spec12_2_L143_B23.npz\n",
      "Index: 8 Filename: spec13_2_L157_B20.npz\n",
      "Index: 9 Filename: spec14_2_L147_B23.npz\n",
      "Index: 10 Filename: spec15_2_L161_B20.npz\n",
      "Index: 11 Filename: spec16_2_L129_B27.npz\n",
      "Index: 12 Filename: spec17_2_L152_B23.npz\n",
      "Index: 13 Filename: spec18_2_L166_B20.npz\n",
      "Index: 14 Filename: spec19_2_L134_B27.npz\n",
      "Index: 15 Filename: spec20_2_L157_B23.npz\n",
      "Index: 16 Filename: spec21_2_L170_B20.npz\n",
      "Index: 17 Filename: spec22_2_L138_B27.npz\n",
      "Index: 18 Filename: spec23_2_L161_B23.npz\n",
      "Index: 19 Filename: spec24_2_L175_B20.npz\n",
      "Index: 20 Filename: spec25_2_L143_B27.npz\n",
      "Index: 21 Filename: spec26_2_L166_B23.npz\n",
      "Index: 22 Filename: spec27_2_L147_B27.npz\n",
      "Index: 23 Filename: spec28_2_L180_B20.npz\n",
      "Index: 24 Filename: spec29_2_L170_B23.npz\n",
      "Index: 25 Filename: spec30_2_L152_B27.npz\n",
      "Index: 26 Filename: spec31_2_L157_B27.npz\n",
      "Index: 27 Filename: spec32_2_L175_B23.npz\n",
      "Index: 28 Filename: spec33_2_L161_B27.npz\n",
      "Index: 29 Filename: spec34_2_L180_B23.npz\n",
      "Index: 30 Filename: spec35_2_L166_B27.npz\n",
      "Index: 31 Filename: spec36_2_L170_B27.npz\n",
      "Index: 32 Filename: spec37_2_L175_B27.npz\n",
      "Index: 33 Filename: spec38_2_L180_B27.npz\n",
      "Index: 34 Filename: spec39_2_L152_B30.npz\n",
      "Index: 35 Filename: spec40_2_L147_B30.npz\n",
      "Index: 36 Filename: spec41_2_L157_B30.npz\n",
      "Index: 37 Filename: spec42_2_L161_B30.npz\n",
      "Index: 38 Filename: spec43_2_L143_B30.npz\n",
      "Index: 39 Filename: spec44_2_L166_B30.npz\n",
      "Index: 40 Filename: spec45_2_L170_B30.npz\n",
      "Index: 41 Filename: spec46_2_L138_B30.npz\n",
      "Index: 42 Filename: spec47_2_L175_B30.npz\n",
      "Index: 43 Filename: spec48_2_L180_B30.npz\n",
      "Index: 44 Filename: spec49_2_L161_B34.npz\n",
      "Index: 45 Filename: spec50_2_L134_B30.npz\n",
      "Index: 46 Filename: spec51_2_L166_B34.npz\n",
      "Index: 47 Filename: spec52_2_L157_B34.npz\n",
      "Index: 48 Filename: spec53_2_L170_B34.npz\n",
      "Index: 49 Filename: spec54_2_L175_B34.npz\n",
      "Index: 50 Filename: spec55_2_L152_B34.npz\n",
      "Index: 51 Filename: spec56_2_L180_B34.npz\n",
      "Index: 52 Filename: spec57_2_L147_B34.npz\n",
      "Index: 53 Filename: spec58_2_L143_B34.npz\n",
      "Index: 54 Filename: spec59_2_L170_B37.npz\n",
      "Index: 55 Filename: spec60_2_L166_B37.npz\n",
      "Index: 56 Filename: spec61_2_L175_B37.npz\n",
      "Index: 57 Filename: spec62_2_L180_B37.npz\n",
      "Index: 58 Filename: spec63_2_L161_B37.npz\n",
      "Index: 59 Filename: spec64_2_L157_B37.npz\n",
      "Index: 60 Filename: spec65_2_L152_B37.npz\n",
      "Index: 61 Filename: spec66_2_L138_B34.npz\n",
      "Index: 62 Filename: spec67_2_L175_B40.npz\n",
      "Index: 63 Filename: spec68_2_L180_B40.npz\n",
      "Index: 64 Filename: spec69_2_L170_B40.npz\n",
      "Index: 65 Filename: spec70_2_L129_B30.npz\n",
      "Index: 66 Filename: spec71_2_L147_B37.npz\n",
      "Index: 67 Filename: spec72_2_L166_B40.npz\n",
      "Index: 68 Filename: spec73_2_L161_B40.npz\n",
      "Index: 69 Filename: spec74_2_L157_B40.npz\n",
      "Index: 70 Filename: spec75_2_L143_B37.npz\n",
      "Index: 71 Filename: spec76_2_L180_B44.npz\n",
      "Index: 72 Filename: spec77_2_L175_B44.npz\n",
      "Index: 73 Filename: spec78_2_L152_B40.npz\n",
      "Index: 74 Filename: spec79_2_L170_B44.npz\n",
      "Index: 75 Filename: spec80_2_L166_B44.npz\n",
      "Index: 76 Filename: spec81_2_L134_B34.npz\n",
      "Index: 77 Filename: spec82_2_L161_B44.npz\n",
      "Index: 78 Filename: spec83_2_L147_B40.npz\n",
      "Index: 79 Filename: spec84_2_L180_B47.npz\n",
      "Index: 80 Filename: spec85_2_L157_B44.npz\n",
      "Index: 81 Filename: spec86_2_L175_B47.npz\n",
      "Index: 82 Filename: spec87_2_L138_B37.npz\n",
      "Index: 83 Filename: spec88_2_L170_B47.npz\n",
      "Index: 84 Filename: spec89_2_L166_B47.npz\n",
      "Index: 85 Filename: spec90_2_L152_B44.npz\n",
      "Index: 86 Filename: spec91_2_L143_B40.npz\n",
      "Index: 87 Filename: spec92_2_L161_B47.npz\n",
      "Index: 88 Filename: spec93_2_L180_B51.npz\n",
      "Index: 89 Filename: spec94_2_L175_B51.npz\n",
      "Index: 90 Filename: spec95_2_L157_B47.npz\n",
      "Index: 91 Filename: spec96_2_L170_B51.npz\n",
      "Index: 92 Filename: spec97_2_L147_B44.npz\n",
      "Index: 93 Filename: spec98_2_L166_B51.npz\n",
      "Index: 94 Filename: spec99_2_L152_B47.npz\n",
      "Index: 95 Filename: spec100_2_L180_B54.npz\n",
      "Index: 96 Filename: spec101_2_L161_B51.npz\n",
      "Index: 97 Filename: spec102_2_L175_B54.npz\n",
      "Index: 98 Filename: spec103_2_L134_B37.npz\n",
      "Index: 99 Filename: spec104_2_L138_B40.npz\n",
      "Index: 100 Filename: spec105_2_L170_B54.npz\n",
      "Index: 101 Filename: spec106_2_L143_B44.npz\n",
      "Index: 102 Filename: spec107_2_L157_B51.npz\n",
      "Index: 103 Filename: spec108_2_L129_B34.npz\n",
      "Index: 104 Filename: spec109_2_L166_B54.npz\n",
      "Index: 105 Filename: spec110_2_L147_B47.npz\n",
      "Index: 106 Filename: spec111_2_L180_B57.npz\n",
      "Index: 107 Filename: spec112_2_L161_B54.npz\n",
      "Index: 108 Filename: spec113_2_L175_B57.npz\n",
      "Index: 109 Filename: spec114_2_L152_B51.npz\n",
      "Index: 110 Filename: spec115_2_L170_B57.npz\n",
      "Index: 111 Filename: spec116_2_L157_B54.npz\n",
      "Index: 112 Filename: spec117_2_L166_B57.npz\n",
      "Index: 113 Filename: spec118_2_L143_B47.npz\n",
      "Index: 114 Filename: spec119_2_L138_B44.npz\n",
      "Index: 115 Filename: spec120_2_L147_B51.npz\n",
      "Index: 116 Filename: spec121_2_L161_B57.npz\n",
      "Index: 117 Filename: spec122_2_L134_B40.npz\n",
      "Index: 118 Filename: spec123_2_L152_B54.npz\n",
      "Index: 119 Filename: spec124_2_L157_B57.npz\n",
      "Index: 120 Filename: spec125_2_L143_B51.npz\n",
      "Index: 121 Filename: spec126_2_L147_B54.npz\n",
      "Index: 122 Filename: spec127_2_L138_B47.npz\n",
      "Index: 123 Filename: spec128_2_L152_B57.npz\n",
      "Index: 124 Filename: spec129_2_L129_B37.npz\n",
      "Index: 125 Filename: spec130_2_L134_B44.npz\n",
      "Index: 126 Filename: spec131_2_L143_B54.npz\n",
      "Index: 127 Filename: spec132_2_L147_B57.npz\n",
      "Index: 128 Filename: spec134_2_L138_B51.npz\n",
      "Index: 129 Filename: spec135_2_L134_B47.npz\n",
      "Index: 130 Filename: spec136_2_L143_B57.npz\n",
      "Index: 131 Filename: spec137_2_L129_B40.npz\n",
      "Index: 132 Filename: spec138_2_L138_B54.npz\n",
      "Index: 133 Filename: spec139_2_L134_B51.npz\n",
      "Index: 134 Filename: spec140_2_L138_B57.npz\n",
      "Index: 135 Filename: spec141_2_L129_B44.npz\n",
      "Index: 136 Filename: spec142_2_L134_B54.npz\n",
      "Index: 137 Filename: spec143_2_L129_B47.npz\n",
      "Index: 138 Filename: spec144_2_L134_B57.npz\n"
     ]
    }
   ],
   "source": [
    "def loader(mix_arrays):\n",
    "    data = {}  # Dictionary to store loaded data\n",
    "    data_array = [] # array to store each set of data  \n",
    "    \n",
    "    for file_name in mix_arrays:\n",
    "        dataload = np.load(file_name)\n",
    "        data[file_name] = dataload  # Store the loaded data in the dictionary\n",
    "        data_array.append(dataload['data0'])  # Append the loaded data to data_array\n",
    "        \n",
    "    for idx, file_name in enumerate(mix_arrays):\n",
    "        print(\"Index:\", idx, \"Filename:\", file_name) # just prints it out so that you can refer to it to index certain files\n",
    "\n",
    "    return np.array(data_array)\n",
    "\n",
    "spec_files = ['spec3_2_L134_B20.npz', 'spec5_2_L138_B20.npz', 'spec6_2_L134_B23.npz', 'spec7_2_L143_B20.npz', \n",
    "              'spec9_2_L147_B20.npz', 'spec10_2_L138_B23.npz', 'spec11_2_L152_B20.npz', 'spec12_2_L143_B23.npz', \n",
    "              'spec13_2_L157_B20.npz', 'spec14_2_L147_B23.npz', 'spec15_2_L161_B20.npz', 'spec16_2_L129_B27.npz', \n",
    "              'spec17_2_L152_B23.npz', 'spec18_2_L166_B20.npz', 'spec19_2_L134_B27.npz', 'spec20_2_L157_B23.npz', \n",
    "              'spec21_2_L170_B20.npz', 'spec22_2_L138_B27.npz', 'spec23_2_L161_B23.npz', 'spec24_2_L175_B20.npz', \n",
    "              'spec25_2_L143_B27.npz', 'spec26_2_L166_B23.npz', 'spec27_2_L147_B27.npz', 'spec28_2_L180_B20.npz', \n",
    "              'spec29_2_L170_B23.npz', 'spec30_2_L152_B27.npz', 'spec31_2_L157_B27.npz', 'spec32_2_L175_B23.npz', \n",
    "              'spec33_2_L161_B27.npz', 'spec34_2_L180_B23.npz', 'spec35_2_L166_B27.npz', 'spec36_2_L170_B27.npz', \n",
    "              'spec37_2_L175_B27.npz', 'spec38_2_L180_B27.npz', 'spec39_2_L152_B30.npz', 'spec40_2_L147_B30.npz', \n",
    "              'spec41_2_L157_B30.npz', 'spec42_2_L161_B30.npz', 'spec43_2_L143_B30.npz', 'spec44_2_L166_B30.npz', \n",
    "              'spec45_2_L170_B30.npz', 'spec46_2_L138_B30.npz', 'spec47_2_L175_B30.npz', 'spec48_2_L180_B30.npz', \n",
    "              'spec49_2_L161_B34.npz', 'spec50_2_L134_B30.npz', 'spec51_2_L166_B34.npz', 'spec52_2_L157_B34.npz', \n",
    "              'spec53_2_L170_B34.npz', 'spec54_2_L175_B34.npz', 'spec55_2_L152_B34.npz', 'spec56_2_L180_B34.npz', \n",
    "              'spec57_2_L147_B34.npz', 'spec58_2_L143_B34.npz', 'spec59_2_L170_B37.npz', 'spec60_2_L166_B37.npz', \n",
    "              'spec61_2_L175_B37.npz', 'spec62_2_L180_B37.npz', 'spec63_2_L161_B37.npz', 'spec64_2_L157_B37.npz', \n",
    "              'spec65_2_L152_B37.npz', 'spec66_2_L138_B34.npz', 'spec67_2_L175_B40.npz', 'spec68_2_L180_B40.npz', \n",
    "              'spec69_2_L170_B40.npz', 'spec70_2_L129_B30.npz', 'spec71_2_L147_B37.npz', 'spec72_2_L166_B40.npz', \n",
    "              'spec73_2_L161_B40.npz', 'spec74_2_L157_B40.npz', 'spec75_2_L143_B37.npz', 'spec76_2_L180_B44.npz', \n",
    "              'spec77_2_L175_B44.npz', 'spec78_2_L152_B40.npz', 'spec79_2_L170_B44.npz', 'spec80_2_L166_B44.npz', \n",
    "              'spec81_2_L134_B34.npz', 'spec82_2_L161_B44.npz', 'spec83_2_L147_B40.npz', 'spec84_2_L180_B47.npz', \n",
    "              'spec85_2_L157_B44.npz', 'spec86_2_L175_B47.npz', 'spec87_2_L138_B37.npz', 'spec88_2_L170_B47.npz',\n",
    "              'spec89_2_L166_B47.npz', 'spec90_2_L152_B44.npz', 'spec91_2_L143_B40.npz', 'spec92_2_L161_B47.npz', \n",
    "              'spec93_2_L180_B51.npz', 'spec94_2_L175_B51.npz', 'spec95_2_L157_B47.npz', 'spec96_2_L170_B51.npz', \n",
    "              'spec97_2_L147_B44.npz', 'spec98_2_L166_B51.npz', 'spec99_2_L152_B47.npz', 'spec100_2_L180_B54.npz', \n",
    "              'spec101_2_L161_B51.npz', 'spec102_2_L175_B54.npz', 'spec103_2_L134_B37.npz', 'spec104_2_L138_B40.npz', \n",
    "              'spec105_2_L170_B54.npz', 'spec106_2_L143_B44.npz', 'spec107_2_L157_B51.npz', 'spec108_2_L129_B34.npz', \n",
    "              'spec109_2_L166_B54.npz', 'spec110_2_L147_B47.npz', 'spec111_2_L180_B57.npz', 'spec112_2_L161_B54.npz',\n",
    "              'spec113_2_L175_B57.npz', 'spec114_2_L152_B51.npz', 'spec115_2_L170_B57.npz', 'spec116_2_L157_B54.npz', \n",
    "              'spec117_2_L166_B57.npz', 'spec118_2_L143_B47.npz', 'spec119_2_L138_B44.npz', 'spec120_2_L147_B51.npz', \n",
    "              'spec121_2_L161_B57.npz', 'spec122_2_L134_B40.npz', 'spec123_2_L152_B54.npz', 'spec124_2_L157_B57.npz', \n",
    "              'spec125_2_L143_B51.npz', 'spec126_2_L147_B54.npz', 'spec127_2_L138_B47.npz', 'spec128_2_L152_B57.npz', \n",
    "              'spec129_2_L129_B37.npz', 'spec130_2_L134_B44.npz', 'spec131_2_L143_B54.npz', 'spec132_2_L147_B57.npz', \n",
    "              'spec134_2_L138_B51.npz', 'spec135_2_L134_B47.npz', 'spec136_2_L143_B57.npz', 'spec137_2_L129_B40.npz', \n",
    "              'spec138_2_L138_B54.npz', 'spec139_2_L134_B51.npz', 'spec140_2_L138_B57.npz', 'spec141_2_L129_B44.npz', \n",
    "              'spec142_2_L134_B54.npz', 'spec143_2_L129_B47.npz', 'spec144_2_L134_B57.npz']\n",
    "\n",
    "specs = loader(spec_files)"
   ]
  },
  {
   "cell_type": "code",
   "execution_count": 35,
   "id": "5e0f4231",
   "metadata": {},
   "outputs": [],
   "source": [
    "def shift(signal):\n",
    "    return np.fft.fftshift(signal)\n",
    "\n",
    "def power(signal):\n",
    "    return np.abs(signal)**2"
   ]
  },
  {
   "cell_type": "code",
   "execution_count": 36,
   "id": "a094e0df",
   "metadata": {},
   "outputs": [
    {
     "name": "stdout",
     "output_type": "stream",
     "text": [
      "(139, 2048)\n"
     ]
    }
   ],
   "source": [
    "spec_fft = shift(specs)\n",
    "print(spec_fft.shape)\n",
    "spec_power = power(spec_fft)"
   ]
  },
  {
   "cell_type": "code",
   "execution_count": 68,
   "id": "a3efb1e4",
   "metadata": {},
   "outputs": [
    {
     "data": {
      "image/png": "[encoded data removed]",
      "text/plain": [
       "<Figure size 720x504 with 1 Axes>"
      ]
     },
     "metadata": {
      "needs_background": "light"
     },
     "output_type": "display_data"
    }
   ],
   "source": [
    "plt.figure(figsize=(10,7))\n",
    "plt.semilogy(freqs, spec_fft[134])\n",
    "plt.xlim(1420.25, 1420.75)\n",
    "plt.ylim(2e5, 6e5)\n",
    "plt.grid()\n",
    "plt.show()\n"
   ]
  },
  {
   "cell_type": "code",
   "execution_count": 63,
   "id": "a2beab9d",
   "metadata": {},
   "outputs": [],
   "source": [
    "freqs = 1420 + np.fft.fftshift(np.fft.fftfreq(len(spec_fft[0]), 1/3.2))"
   ]
  },
  {
   "cell_type": "code",
   "execution_count": 74,
   "id": "0b783d10",
   "metadata": {},
   "outputs": [
    {
     "data": {
      "image/png": "[encoded data removed]",
      "text/plain": [
       "<Figure size 720x504 with 1 Axes>"
      ]
     },
     "metadata": {
      "needs_background": "light"
     },
     "output_type": "display_data"
    }
   ],
   "source": [
    "plt.figure(figsize=(10,7))\n",
    "plt.semilogy(freqs, spec_fft[1])\n",
    "plt.xlim(1420.25, 1420.75)\n",
    "plt.ylim(2e5, 6e5)\n",
    "plt.grid()\n",
    "plt.show()"
   ]
  },
  {
   "cell_type": "code",
   "execution_count": null,
   "id": "006d2980",
   "metadata": {},
   "outputs": [],
   "source": []
  }
 ],
 "metadata": {
  "kernelspec": {
   "display_name": "Python 3 (ipykernel)",
   "language": "python",
   "name": "python3"
  },
  "language_info": {
   "codemirror_mode": {
    "name": "ipython",
    "version": 3
   },
   "file_extension": ".py",
   "mimetype": "text/x-python",
   "name": "python",
   "nbconvert_exporter": "python",
   "pygments_lexer": "ipython3",
   "version": "3.9.12"
  }
 },
 "nbformat": 4,
 "nbformat_minor": 5
}
