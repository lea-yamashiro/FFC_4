{
 "cells": [
  {
   "cell_type": "code",
   "execution_count": 1,
   "id": "ed7d55f0",
   "metadata": {},
   "outputs": [],
   "source": [
    "import numpy as np\n",
    "%matplotlib osx\n",
    "import matplotlib.pyplot as plt"
   ]
  },
  {
   "cell_type": "code",
   "execution_count": 2,
   "id": "0470ac93",
   "metadata": {},
   "outputs": [],
   "source": [
    "L = 30\n",
    "N = 51\n",
    "dL = L/N\n",
    "x = np.arange(0, L+0.01)\n",
    "\n",
    "T_initial = 0.0  # Initial temperature everywhere except x=0\n",
    "T_left_boundary = 100.0  # Temperature at x=0\n",
    "T_right_boundary = 0.0    # Temperature at x=L\n",
    "\n",
    "# Discretization\n",
    "dx = L / N\n",
    "dt = 0.0001  # Time step (small to ensure stability)\n",
    "time_steps = 5000  # Number of time steps\n",
    "\n",
    "# Initialize temperature array\n",
    "T = np.zeros(N+1)\n",
    "T[0] = T_left_boundary\n",
    "T[N] = T_right_boundary\n",
    "\n",
    "# Main time-stepping loop\n",
    "for t in range(1, time_steps+1):\n",
    "    T_new = np.copy(T)\n",
    "    for i in range(1, N):\n",
    "        T_new[i] = (1/2)*(T[i-1] + T[i+1])\n",
    "    T = np.copy(T_new)\n",
    "    x_values = np.linspace(0, L, N+1)\n",
    "    if t%100==0:\n",
    "        plt.clf()\n",
    "        plt.plot(x_values, T,'r',marker = 'o', fillstyle ='none')\n",
    "        plt.xlabel('Position (x)')\n",
    "        plt.ylabel('Temperature (T)')\n",
    "        plt.title('1D Heat Equation Solution')\n",
    "        plt.grid(True)\n",
    "        plt.show()\n",
    "        plt.draw()\n",
    "        plt.pause(0.05)\n"
   ]
  },
  {
   "cell_type": "code",
   "execution_count": 3,
   "id": "c6282555",
   "metadata": {},
   "outputs": [],
   "source": [
    "from mpl_toolkits.mplot3d import Axes3D\n",
    "from matplotlib import cm"
   ]
  },
  {
   "cell_type": "code",
   "execution_count": 4,
   "id": "bfb100ec",
   "metadata": {},
   "outputs": [],
   "source": [
    "L = 30\n",
    "N = 51\n",
    "dL = L/N\n",
    "x = np.linspace(0, L+0.01,N)\n",
    "y = np.linspace(0, L+0.01,N)\n",
    "x,y = np.meshgrid(x,y)\n",
    "F_initial = np.zeros((N,N))\n",
    "F_initial[:,0] = 100\n",
    "\n",
    "\n",
    "dx = L / (N-1)\n",
    "dt = 0.0001\n",
    "iterations = 500\n",
    "\n",
    "F = np.copy(F_initial)\n",
    "F_new = np.copy(F)\n",
    "\n",
    "\n",
    "fig = plt.figure()\n",
    "# ax = fig.add_subplot(projection='3d')\n",
    "\n",
    "for t in range(1, iterations+1):\n",
    "    \n",
    "    for i in range(1,N-1):\n",
    "        for j in range(1,N-1):\n",
    "            F_new[i,j] = (1/4)*(F[i+1,j] + F[i-1,j] + F[i,j+1] + F[i,j-1])\n",
    "            \n",
    "    \n",
    "        F = np.copy(F_new)\n",
    "    if t%10==0:\n",
    "        fig.clear()\n",
    "        ax = fig.add_subplot(projection='3d')\n",
    "        ax.plot_surface(x, y, F, cmap=cm.coolwarm, antialiased=False)\n",
    "        plt.draw()\n",
    "        plt.pause(0.1)"
   ]
  },
  {
   "cell_type": "code",
   "execution_count": null,
   "id": "661aabad",
   "metadata": {},
   "outputs": [],
   "source": []
  },
  {
   "cell_type": "code",
   "execution_count": null,
   "id": "96030ba6",
   "metadata": {},
   "outputs": [],
   "source": []
  }
 ],
 "metadata": {
  "kernelspec": {
   "display_name": "Python 3 (ipykernel)",
   "language": "python",
   "name": "python3"
  },
  "language_info": {
   "codemirror_mode": {
    "name": "ipython",
    "version": 3
   },
   "file_extension": ".py",
   "mimetype": "text/x-python",
   "name": "python",
   "nbconvert_exporter": "python",
   "pygments_lexer": "ipython3",
   "version": "3.9.12"
  }
 },
 "nbformat": 4,
 "nbformat_minor": 5
}
