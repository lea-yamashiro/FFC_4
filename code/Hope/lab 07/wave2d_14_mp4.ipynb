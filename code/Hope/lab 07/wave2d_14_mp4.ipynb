{
 "cells": [
  {
   "cell_type": "code",
   "execution_count": 1,
   "metadata": {},
   "outputs": [],
   "source": [
    "## Import necessary packages\n",
    "%matplotlib osx \n",
    "#%matplotlib notebook \n",
    "import numpy as np\n",
    "import matplotlib.pyplot as plt\n",
    "from mpl_toolkits.mplot3d import Axes3D\n",
    "from matplotlib import cm"
   ]
  },
  {
   "cell_type": "code",
   "execution_count": 2,
   "metadata": {
    "scrolled": true
   },
   "outputs": [],
   "source": [
    "n=151\n",
    "L = 10.0\n",
    "X = np.linspace(0, L, n)\n",
    "Y = np.linspace(0, L, n)\n",
    "X, Y = np.meshgrid(X, Y)\n",
    "Z = np.zeros((n,n))\n",
    "\n",
    "#fig = plt.figure(figsize=(5.,5.),dpi=200)\n",
    "#plt.show()\n",
    "#ax = fig.gca(projection='3d')\n",
    "#surf = ax.plot_surface(X, Y, Z, cmap=cm.coolwarm,antialiased=False)"
   ]
  },
  {
   "cell_type": "code",
   "execution_count": 3,
   "metadata": {},
   "outputs": [],
   "source": [
    "from matplotlib.animation import FFMpegWriter\n",
    "metadata = dict(title='My first animation in 3D', artist='Matplotlib',comment='Wakanda is here now.')\n",
    "writer = FFMpegWriter(fps=15, metadata=metadata,bitrate=200000)\n",
    "fig = plt.figure(dpi=200)"
   ]
  },
  {
   "cell_type": "code",
   "execution_count": 6,
   "metadata": {},
   "outputs": [
    {
     "name": "stdout",
     "output_type": "stream",
     "text": [
      "0."
     ]
    },
    {
     "ename": "TypeError",
     "evalue": "gca() takes 1 positional argument but 2 were given",
     "output_type": "error",
     "traceback": [
      "\u001b[0;31m---------------------------------------------------------------------------\u001b[0m",
      "\u001b[0;31mTypeError\u001b[0m                                 Traceback (most recent call last)",
      "Input \u001b[0;32mIn [6]\u001b[0m, in \u001b[0;36m<cell line: 1>\u001b[0;34m()\u001b[0m\n\u001b[1;32m     11\u001b[0m         Z[i,j] \u001b[38;5;241m=\u001b[39m np\u001b[38;5;241m.\u001b[39msin(f\u001b[38;5;241m*\u001b[39m(R\u001b[38;5;241m+\u001b[39mit))\u001b[38;5;241m*\u001b[39mnp\u001b[38;5;241m.\u001b[39mexp(\u001b[38;5;241m-\u001b[39mR\u001b[38;5;241m/\u001b[39m\u001b[38;5;241m100.0\u001b[39m)\n\u001b[1;32m     12\u001b[0m fig\u001b[38;5;241m.\u001b[39mclear()\n\u001b[0;32m---> 13\u001b[0m ax \u001b[38;5;241m=\u001b[39m \u001b[43mfig\u001b[49m\u001b[38;5;241;43m.\u001b[39;49m\u001b[43mgca\u001b[49m\u001b[43m(\u001b[49m\u001b[38;5;124;43m'\u001b[39;49m\u001b[38;5;124;43m3d\u001b[39;49m\u001b[38;5;124;43m'\u001b[39;49m\u001b[43m)\u001b[49m\n\u001b[1;32m     14\u001b[0m ax\u001b[38;5;241m.\u001b[39mplot_surface(X, Y, Z, cmap\u001b[38;5;241m=\u001b[39mcm\u001b[38;5;241m.\u001b[39mcoolwarm, antialiased\u001b[38;5;241m=\u001b[39m\u001b[38;5;28;01mFalse\u001b[39;00m)\n\u001b[1;32m     15\u001b[0m plt\u001b[38;5;241m.\u001b[39mdraw()\n",
      "\u001b[0;31mTypeError\u001b[0m: gca() takes 1 positional argument but 2 were given"
     ]
    }
   ],
   "source": [
    "with writer.saving(fig, \"wave2d.mp4\", dpi=200):\n",
    "    nf = 100\n",
    "    for it in range(nf):\n",
    "        if (it%10==0): print(it,end='')\n",
    "        print('.',end='')\n",
    "\n",
    "        f = 2.0*2.0*np.pi/n\n",
    "        for i in range(n):\n",
    "            for j in range(n):\n",
    "                R = np.sqrt( (i-n/2)**2 + (j-n/2)**2 )\n",
    "                Z[i,j] = np.sin(f*(R+it))*np.exp(-R/100.0)\n",
    "        fig.clear()\n",
    "        ax = fig.gca('3d')\n",
    "        ax.plot_surface(X, Y, Z, cmap=cm.coolwarm, antialiased=False)\n",
    "        plt.draw()\n",
    "        plt.pause(0.01)\n",
    "        writer.grab_frame()"
   ]
  },
  {
   "cell_type": "code",
   "execution_count": null,
   "metadata": {},
   "outputs": [],
   "source": []
  },
  {
   "cell_type": "code",
   "execution_count": null,
   "metadata": {},
   "outputs": [],
   "source": []
  },
  {
   "cell_type": "code",
   "execution_count": null,
   "metadata": {},
   "outputs": [],
   "source": []
  }
 ],
 "metadata": {
  "kernelspec": {
   "display_name": "Python 3 (ipykernel)",
   "language": "python",
   "name": "python3"
  },
  "language_info": {
   "codemirror_mode": {
    "name": "ipython",
    "version": 3
   },
   "file_extension": ".py",
   "mimetype": "text/x-python",
   "name": "python",
   "nbconvert_exporter": "python",
   "pygments_lexer": "ipython3",
   "version": "3.9.12"
  }
 },
 "nbformat": 4,
 "nbformat_minor": 2
}
