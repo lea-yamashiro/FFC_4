{
 "cells": [
  {
   "cell_type": "code",
   "execution_count": 1,
   "id": "ed7d55f0",
   "metadata": {},
   "outputs": [],
   "source": [
    "import numpy as np\n",
    "%matplotlib osx\n",
    "import matplotlib.pyplot as plt"
   ]
  },
  {
   "cell_type": "code",
   "execution_count": 2,
   "id": "0470ac93",
   "metadata": {},
   "outputs": [],
   "source": [
    "L = 30\n",
    "N = 51\n",
    "dL = L/N\n",
    "x = np.arange(0, L+0.01)\n",
    "\n",
    "T_initial = 0.0  # Initial temperature everywhere except x=0\n",
    "T_left_boundary = 100.0  # Temperature at x=0\n",
    "T_right_boundary = 0.0    # Temperature at x=L\n",
    "\n",
    "# Discretization\n",
    "dx = L / N\n",
    "dt = 0.0001  # Time step (small to ensure stability)\n",
    "time_steps = 5000  # Number of time steps\n",
    "\n",
    "# Initialize temperature array\n",
    "T = np.zeros(N+1)\n",
    "T[0] = T_left_boundary\n",
    "\n",
    "# Main time-stepping loop\n",
    "for t in range(1, time_steps+1):\n",
    "    T_new = np.copy(T)\n",
    "    for i in range(1, N):\n",
    "        T_new[i] = (1/2)*(T[i-1] + T[i+1])\n",
    "    T = np.copy(T_new)\n",
    "    x_values = np.linspace(0, L, N+1)\n",
    "    if t%100==0:\n",
    "        plt.clf()\n",
    "        plt.plot(x_values, T,'r',marker = 'o', fillstyle ='none')\n",
    "        plt.xlabel('Position (x)')\n",
    "        plt.ylabel('Temperature (T)')\n",
    "        plt.title('1D Heat Equation Solution')\n",
    "        plt.grid(True)\n",
    "        plt.show()\n",
    "        plt.draw()\n",
    "        plt.pause(0.05)\n"
   ]
  },
  {
   "cell_type": "code",
   "execution_count": 3,
   "id": "c6282555",
   "metadata": {},
   "outputs": [],
   "source": [
    "from mpl_toolkits.mplot3d import Axes3D\n",
    "from matplotlib import cm"
   ]
  },
  {
   "cell_type": "code",
   "execution_count": 4,
   "id": "bfb100ec",
   "metadata": {},
   "outputs": [],
   "source": [
    "L = 30\n",
    "N = 51\n",
    "dL = L/N\n",
    "x = np.linspace(0, L+0.01,N)\n",
    "y = np.linspace(0, L+0.01,N)\n",
    "x,y = np.meshgrid(x,y)\n",
    "F_initial = np.zeros((N,N))\n",
    "F_initial[:,0] = 100\n",
    "\n",
    "\n",
    "dx = L / (N-1)\n",
    "dt = 0.0001\n",
    "iterations = 500\n",
    "\n",
    "F = np.copy(F_initial)\n",
    "F_new = np.copy(F)\n",
    "\n",
    "fig = plt.figure()\n",
    "# ax = fig.add_subplot(projection='3d')\n",
    "\n",
    "for t in range(1, iterations+1):\n",
    "    \n",
    "    for i in range(1,N-1):\n",
    "        for j in range(1,N-1):\n",
    "            F_new[i,j] = (1/4)*(F[i+1,j] + F[i-1,j] + F[i,j+1] + F[i,j-1])\n",
    "            \n",
    "    \n",
    "        F = np.copy(F_new)\n",
    "    if t%10==0:\n",
    "        fig.clear()\n",
    "        ax = fig.add_subplot(projection='3d')\n",
    "        ax.plot_surface(x, y, F, cmap=cm.coolwarm, antialiased=False)\n",
    "        plt.draw()\n",
    "        plt.pause(0.1)"
   ]
  },
  {
   "cell_type": "code",
   "execution_count": 7,
   "id": "661aabad",
   "metadata": {},
   "outputs": [
    {
     "name": "stdout",
     "output_type": "stream",
     "text": [
      "0..........10..........20.."
     ]
    },
    {
     "ename": "CalledProcessError",
     "evalue": "Command '['ffmpeg', '-f', 'rawvideo', '-vcodec', 'rawvideo', '-s', '1280x960', '-pix_fmt', 'rgba', '-r', '15', '-loglevel', 'error', '-i', 'pipe:', '-vcodec', 'h264', '-pix_fmt', 'yuv420p', '-metadata', 'title=My first animation in 2D', '-metadata', 'artist=Matplotlib', '-metadata', 'comment=Wakanda is coming.', '-y', 'wave1d.mp4']' returned non-zero exit status 255.",
     "output_type": "error",
     "traceback": [
      "\u001b[0;31m---------------------------------------------------------------------------\u001b[0m",
      "\u001b[0;31mKeyboardInterrupt\u001b[0m                         Traceback (most recent call last)",
      "File \u001b[0;32m~/opt/anaconda3/lib/python3.9/site-packages/matplotlib/animation.py:230\u001b[0m, in \u001b[0;36mAbstractMovieWriter.saving\u001b[0;34m(self, fig, outfile, dpi, *args, **kwargs)\u001b[0m\n\u001b[1;32m    229\u001b[0m \u001b[38;5;28;01mtry\u001b[39;00m:\n\u001b[0;32m--> 230\u001b[0m     \u001b[38;5;28;01myield\u001b[39;00m \u001b[38;5;28mself\u001b[39m\n\u001b[1;32m    231\u001b[0m \u001b[38;5;28;01mfinally\u001b[39;00m:\n",
      "Input \u001b[0;32mIn [7]\u001b[0m, in \u001b[0;36m<cell line: 6>\u001b[0;34m()\u001b[0m\n\u001b[1;32m     34\u001b[0m     T \u001b[38;5;241m=\u001b[39m np\u001b[38;5;241m.\u001b[39mcopy(T_new)\n\u001b[0;32m---> 35\u001b[0m     x_values \u001b[38;5;241m=\u001b[39m \u001b[43mnp\u001b[49m\u001b[38;5;241;43m.\u001b[39;49m\u001b[43mlinspace\u001b[49m\u001b[43m(\u001b[49m\u001b[38;5;241;43m0\u001b[39;49m\u001b[43m,\u001b[49m\u001b[43m \u001b[49m\u001b[43mL\u001b[49m\u001b[43m,\u001b[49m\u001b[43m \u001b[49m\u001b[43mN\u001b[49m\u001b[38;5;241;43m+\u001b[39;49m\u001b[38;5;241;43m1\u001b[39;49m\u001b[43m)\u001b[49m\n\u001b[1;32m     36\u001b[0m plt\u001b[38;5;241m.\u001b[39mclf()\n",
      "File \u001b[0;32m<__array_function__ internals>:5\u001b[0m, in \u001b[0;36mlinspace\u001b[0;34m(*args, **kwargs)\u001b[0m\n",
      "File \u001b[0;32m~/opt/anaconda3/lib/python3.9/site-packages/numpy/core/function_base.py:142\u001b[0m, in \u001b[0;36mlinspace\u001b[0;34m(start, stop, num, endpoint, retstep, dtype, axis)\u001b[0m\n\u001b[1;32m    141\u001b[0m step \u001b[38;5;241m=\u001b[39m delta \u001b[38;5;241m/\u001b[39m div\n\u001b[0;32m--> 142\u001b[0m \u001b[38;5;28;01mif\u001b[39;00m \u001b[43m_nx\u001b[49m\u001b[38;5;241;43m.\u001b[39;49m\u001b[43many\u001b[49m\u001b[43m(\u001b[49m\u001b[43mstep\u001b[49m\u001b[43m \u001b[49m\u001b[38;5;241;43m==\u001b[39;49m\u001b[43m \u001b[49m\u001b[38;5;241;43m0\u001b[39;49m\u001b[43m)\u001b[49m:\n\u001b[1;32m    143\u001b[0m     \u001b[38;5;66;03m# Special handling for denormal numbers, gh-5437\u001b[39;00m\n\u001b[1;32m    144\u001b[0m     y \u001b[38;5;241m/\u001b[39m\u001b[38;5;241m=\u001b[39m div\n",
      "File \u001b[0;32m<__array_function__ internals>:5\u001b[0m, in \u001b[0;36many\u001b[0;34m(*args, **kwargs)\u001b[0m\n",
      "File \u001b[0;32m~/opt/anaconda3/lib/python3.9/site-packages/numpy/core/fromnumeric.py:2268\u001b[0m, in \u001b[0;36many\u001b[0;34m(a, axis, out, keepdims, where)\u001b[0m\n\u001b[1;32m   2265\u001b[0m     \u001b[38;5;28;01mreturn\u001b[39;00m (a, where, out)\n\u001b[0;32m-> 2268\u001b[0m \u001b[38;5;129m@array_function_dispatch\u001b[39m(_any_dispatcher)\n\u001b[1;32m   2269\u001b[0m \u001b[38;5;28;01mdef\u001b[39;00m \u001b[38;5;21many\u001b[39m(a, axis\u001b[38;5;241m=\u001b[39m\u001b[38;5;28;01mNone\u001b[39;00m, out\u001b[38;5;241m=\u001b[39m\u001b[38;5;28;01mNone\u001b[39;00m, keepdims\u001b[38;5;241m=\u001b[39mnp\u001b[38;5;241m.\u001b[39m_NoValue, \u001b[38;5;241m*\u001b[39m, where\u001b[38;5;241m=\u001b[39mnp\u001b[38;5;241m.\u001b[39m_NoValue):\n\u001b[1;32m   2270\u001b[0m     \u001b[38;5;124;03m\"\"\"\u001b[39;00m\n\u001b[1;32m   2271\u001b[0m \u001b[38;5;124;03m    Test whether any array element along a given axis evaluates to True.\u001b[39;00m\n\u001b[1;32m   2272\u001b[0m \n\u001b[0;32m   (...)\u001b[0m\n\u001b[1;32m   2356\u001b[0m \n\u001b[1;32m   2357\u001b[0m \u001b[38;5;124;03m    \"\"\"\u001b[39;00m\n",
      "\u001b[0;31mKeyboardInterrupt\u001b[0m: ",
      "\nDuring handling of the above exception, another exception occurred:\n",
      "\u001b[0;31mCalledProcessError\u001b[0m                        Traceback (most recent call last)",
      "Input \u001b[0;32mIn [7]\u001b[0m, in \u001b[0;36m<cell line: 6>\u001b[0;34m()\u001b[0m\n\u001b[1;32m     39\u001b[0m plt\u001b[38;5;241m.\u001b[39mdraw()\n\u001b[1;32m     40\u001b[0m plt\u001b[38;5;241m.\u001b[39mpause(\u001b[38;5;241m0.05\u001b[39m)\n\u001b[0;32m---> 41\u001b[0m writer\u001b[38;5;241m.\u001b[39mgrab_frame()\n",
      "File \u001b[0;32m~/opt/anaconda3/lib/python3.9/contextlib.py:137\u001b[0m, in \u001b[0;36m_GeneratorContextManager.__exit__\u001b[0;34m(self, typ, value, traceback)\u001b[0m\n\u001b[1;32m    135\u001b[0m     value \u001b[38;5;241m=\u001b[39m typ()\n\u001b[1;32m    136\u001b[0m \u001b[38;5;28;01mtry\u001b[39;00m:\n\u001b[0;32m--> 137\u001b[0m     \u001b[38;5;28;43mself\u001b[39;49m\u001b[38;5;241;43m.\u001b[39;49m\u001b[43mgen\u001b[49m\u001b[38;5;241;43m.\u001b[39;49m\u001b[43mthrow\u001b[49m\u001b[43m(\u001b[49m\u001b[43mtyp\u001b[49m\u001b[43m,\u001b[49m\u001b[43m \u001b[49m\u001b[43mvalue\u001b[49m\u001b[43m,\u001b[49m\u001b[43m \u001b[49m\u001b[43mtraceback\u001b[49m\u001b[43m)\u001b[49m\n\u001b[1;32m    138\u001b[0m \u001b[38;5;28;01mexcept\u001b[39;00m \u001b[38;5;167;01mStopIteration\u001b[39;00m \u001b[38;5;28;01mas\u001b[39;00m exc:\n\u001b[1;32m    139\u001b[0m     \u001b[38;5;66;03m# Suppress StopIteration *unless* it's the same exception that\u001b[39;00m\n\u001b[1;32m    140\u001b[0m     \u001b[38;5;66;03m# was passed to throw().  This prevents a StopIteration\u001b[39;00m\n\u001b[1;32m    141\u001b[0m     \u001b[38;5;66;03m# raised inside the \"with\" statement from being suppressed.\u001b[39;00m\n\u001b[1;32m    142\u001b[0m     \u001b[38;5;28;01mreturn\u001b[39;00m exc \u001b[38;5;129;01mis\u001b[39;00m \u001b[38;5;129;01mnot\u001b[39;00m value\n",
      "File \u001b[0;32m~/opt/anaconda3/lib/python3.9/site-packages/matplotlib/animation.py:232\u001b[0m, in \u001b[0;36mAbstractMovieWriter.saving\u001b[0;34m(self, fig, outfile, dpi, *args, **kwargs)\u001b[0m\n\u001b[1;32m    230\u001b[0m     \u001b[38;5;28;01myield\u001b[39;00m \u001b[38;5;28mself\u001b[39m\n\u001b[1;32m    231\u001b[0m \u001b[38;5;28;01mfinally\u001b[39;00m:\n\u001b[0;32m--> 232\u001b[0m     \u001b[38;5;28;43mself\u001b[39;49m\u001b[38;5;241;43m.\u001b[39;49m\u001b[43mfinish\u001b[49m\u001b[43m(\u001b[49m\u001b[43m)\u001b[49m\n",
      "File \u001b[0;32m~/opt/anaconda3/lib/python3.9/site-packages/matplotlib/animation.py:368\u001b[0m, in \u001b[0;36mMovieWriter.finish\u001b[0;34m(self)\u001b[0m\n\u001b[1;32m    366\u001b[0m \u001b[38;5;28;01mdef\u001b[39;00m \u001b[38;5;21mfinish\u001b[39m(\u001b[38;5;28mself\u001b[39m):\n\u001b[1;32m    367\u001b[0m     \u001b[38;5;124;03m'''Finish any processing for writing the movie.'''\u001b[39;00m\n\u001b[0;32m--> 368\u001b[0m     \u001b[38;5;28;43mself\u001b[39;49m\u001b[38;5;241;43m.\u001b[39;49m\u001b[43mcleanup\u001b[49m\u001b[43m(\u001b[49m\u001b[43m)\u001b[49m\n",
      "File \u001b[0;32m~/opt/anaconda3/lib/python3.9/site-packages/matplotlib/animation.py:411\u001b[0m, in \u001b[0;36mMovieWriter.cleanup\u001b[0;34m(self)\u001b[0m\n\u001b[1;32m    407\u001b[0m     _log\u001b[38;5;241m.\u001b[39mlog(\n\u001b[1;32m    408\u001b[0m         logging\u001b[38;5;241m.\u001b[39mWARNING \u001b[38;5;28;01mif\u001b[39;00m \u001b[38;5;28mself\u001b[39m\u001b[38;5;241m.\u001b[39m_proc\u001b[38;5;241m.\u001b[39mreturncode \u001b[38;5;28;01melse\u001b[39;00m logging\u001b[38;5;241m.\u001b[39mDEBUG,\n\u001b[1;32m    409\u001b[0m         \u001b[38;5;124m\"\u001b[39m\u001b[38;5;124mMovieWriter stderr:\u001b[39m\u001b[38;5;130;01m\\n\u001b[39;00m\u001b[38;5;132;01m%s\u001b[39;00m\u001b[38;5;124m\"\u001b[39m, err)\n\u001b[1;32m    410\u001b[0m \u001b[38;5;28;01mif\u001b[39;00m \u001b[38;5;28mself\u001b[39m\u001b[38;5;241m.\u001b[39m_proc\u001b[38;5;241m.\u001b[39mreturncode:\n\u001b[0;32m--> 411\u001b[0m     \u001b[38;5;28;01mraise\u001b[39;00m subprocess\u001b[38;5;241m.\u001b[39mCalledProcessError(\n\u001b[1;32m    412\u001b[0m         \u001b[38;5;28mself\u001b[39m\u001b[38;5;241m.\u001b[39m_proc\u001b[38;5;241m.\u001b[39mreturncode, \u001b[38;5;28mself\u001b[39m\u001b[38;5;241m.\u001b[39m_proc\u001b[38;5;241m.\u001b[39margs, out, err)\n",
      "\u001b[0;31mCalledProcessError\u001b[0m: Command '['ffmpeg', '-f', 'rawvideo', '-vcodec', 'rawvideo', '-s', '1280x960', '-pix_fmt', 'rgba', '-r', '15', '-loglevel', 'error', '-i', 'pipe:', '-vcodec', 'h264', '-pix_fmt', 'yuv420p', '-metadata', 'title=My first animation in 2D', '-metadata', 'artist=Matplotlib', '-metadata', 'comment=Wakanda is coming.', '-y', 'wave1d.mp4']' returned non-zero exit status 255."
     ]
    }
   ],
   "source": [
    "from matplotlib.animation import FFMpegWriter\n",
    "metadata = dict(title='My first animation in 2D', artist='Matplotlib',comment='Wakanda is coming.')\n",
    "writer = FFMpegWriter(fps=15, metadata=metadata)\n",
    "fig = plt.figure()\n",
    "\n",
    "with writer.saving(fig, \"wave1d.mp4\", dpi=200):\n",
    "    nf = 100\n",
    "    L = 30\n",
    "    N = 51\n",
    "    dL = L/N\n",
    "    x = np.arange(0, L+0.01)\n",
    "\n",
    "    T_initial = 0.0  # Initial temperature everywhere except x=0\n",
    "    T_left_boundary = 100.0  # Temperature at x=0\n",
    "    T_right_boundary = 0.0    # Temperature at x=L\n",
    "\n",
    "# Discretization\n",
    "    dx = L / N\n",
    "    dt = 0.0001  # Time step (small to ensure stability)\n",
    "    time_steps = 5000  # Number of time steps\n",
    "\n",
    "# Initialize temperature array\n",
    "    T = np.zeros(N+1)\n",
    "    T[0] = T_left_boundary\n",
    "    for it in range(nf):\n",
    "        if (it%10==0): print(it,end='')\n",
    "        print('.',end='') \n",
    "\n",
    "# Main time-stepping loop\n",
    "        for t in range(1, time_steps+1):\n",
    "            T_new = np.copy(T)\n",
    "            for i in range(1, N):\n",
    "                T_new[i] = (1/2)*(T[i-1] + T[i+1])\n",
    "            T = np.copy(T_new)\n",
    "            x_values = np.linspace(0, L, N+1)\n",
    "        plt.clf()\n",
    "        plt.plot(y, 'ro-',mfc='w')\n",
    "        plt.show()\n",
    "        plt.draw()\n",
    "        plt.pause(0.05)\n",
    "        writer.grab_frame()"
   ]
  },
  {
   "cell_type": "code",
   "execution_count": null,
   "id": "96030ba6",
   "metadata": {},
   "outputs": [],
   "source": []
  }
 ],
 "metadata": {
  "kernelspec": {
   "display_name": "Python 3 (ipykernel)",
   "language": "python",
   "name": "python3"
  },
  "language_info": {
   "codemirror_mode": {
    "name": "ipython",
    "version": 3
   },
   "file_extension": ".py",
   "mimetype": "text/x-python",
   "name": "python",
   "nbconvert_exporter": "python",
   "pygments_lexer": "ipython3",
   "version": "3.9.12"
  }
 },
 "nbformat": 4,
 "nbformat_minor": 5
}
